{
  "nbformat": 4,
  "nbformat_minor": 0,
  "metadata": {
    "colab": {
      "name": "Untitled3.ipynb",
      "provenance": [],
      "include_colab_link": true
    },
    "kernelspec": {
      "name": "python3",
      "display_name": "Python 3"
    }
  },
  "cells": [
    {
      "cell_type": "markdown",
      "metadata": {
        "id": "view-in-github",
        "colab_type": "text"
      },
      "source": [
        "<a href=\"https://colab.research.google.com/github/helloKH/Psypy/blob/master/Psypy2_handson_CH1The%20Machine%20Learning%20Landscape.ipynb\" target=\"_parent\"><img src=\"https://colab.research.google.com/assets/colab-badge.svg\" alt=\"Open In Colab\"/></a>"
      ]
    },
    {
      "cell_type": "code",
      "metadata": {
        "id": "Ri7UWbxpYUPb",
        "colab_type": "code",
        "outputId": "10e8ecc8-3931-49f3-a062-10699d4ad7ee",
        "colab": {
          "base_uri": "https://localhost:8080/",
          "height": 34
        }
      },
      "source": [
        "!git clone https://github.com/helloKH/Psypy.git"
      ],
      "execution_count": 4,
      "outputs": [
        {
          "output_type": "stream",
          "text": [
            "fatal: destination path 'Psypy' already exists and is not an empty directory.\n"
          ],
          "name": "stdout"
        }
      ]
    },
    {
      "cell_type": "code",
      "metadata": {
        "id": "5lHI_h26Zdcn",
        "colab_type": "code",
        "outputId": "8167efb8-16ce-4743-9d5b-ee08fc116fb9",
        "colab": {
          "base_uri": "https://localhost:8080/",
          "height": 68
        }
      },
      "source": [
        "ls -ltr"
      ],
      "execution_count": 2,
      "outputs": [
        {
          "output_type": "stream",
          "text": [
            "total 8\n",
            "drwxr-xr-x 1 root root 4096 Dec 18 16:52 \u001b[0m\u001b[01;34msample_data\u001b[0m/\n",
            "drwxr-xr-x 4 root root 4096 Jan  1 05:48 \u001b[01;34mPsypy\u001b[0m/\n"
          ],
          "name": "stdout"
        }
      ]
    },
    {
      "cell_type": "code",
      "metadata": {
        "id": "vVw1d2-hYeEm",
        "colab_type": "code",
        "outputId": "698009e4-1d09-4772-b43c-af05ad8f0bf3",
        "colab": {
          "base_uri": "https://localhost:8080/",
          "height": 119
        }
      },
      "source": [
        "!ls Psypy/image"
      ],
      "execution_count": 3,
      "outputs": [
        {
          "output_type": "stream",
          "text": [
            "'Figure 1-10.png'  'Figure 1-16.png'  'Figure 1-21.png'  'Figure 1-5.png'\n",
            "'Figure 1-11.png'  'Figure 1-17.png'  'Figure 1-22.png'  'Figure 1-6.png'\n",
            "'Figure 1-12.png'  'Figure 1-18.png'  'Figure 1-23.png'  'Figure 1-7.png'\n",
            "'Figure 1-13.png'  'Figure 1-19.png'  'Figure 1-2.png'\t 'Figure 1-8.png'\n",
            "'Figure 1-14.png'  'Figure 1-1.png'    Figure1-3.png\t 'Figure 1-9.png'\n",
            "'Figure 1-15.png'  'Figure 1-20.png'  'Figure 1-4.png'\t  Read.md\n"
          ],
          "name": "stdout"
        }
      ]
    },
    {
      "cell_type": "markdown",
      "metadata": {
        "id": "F1E4tHPGYU54",
        "colab_type": "text"
      },
      "source": [
        "### Psypy2 1회차\n",
        "#### 교재: Hands on Machine Learning with Scikit-Learn, Keras & TensorFlow\n",
        "#### Part1. The Fundamentals of Machine Learning\n",
        "##### CH1. The Machine Learning Landscape"
      ]
    },
    {
      "cell_type": "markdown",
      "metadata": {
        "id": "CJ9amP37YXMF",
        "colab_type": "text"
      },
      "source": [
        "#### Chapter1 목적\n",
        "- 모든 데이터 과학자가 알아야 하는 기본 개념 소개"
      ]
    },
    {
      "cell_type": "markdown",
      "metadata": {
        "id": "lenFcjT-YZi7",
        "colab_type": "text"
      },
      "source": [
        "#### What Is Machine Learning?\n",
        "- Machine Learning is the science (and art) of programming computers so they can learn from data.\n",
        "\n",
        "- general definition  \n",
        "[Machine Learning is the] field of study that gives computers the ability to learn without being explicitly programmed.  \n",
        "— Arthur Samuel, 1959\n",
        "\n",
        "\n",
        "- engineering  \n",
        "A computer program is said to learn from experience E with respect to some task Tand some performance measure P, if its performance on T, as measured by P, improves with experience E.  \n",
        "—Tom Mitchell, 1997"
      ]
    },
    {
      "cell_type": "markdown",
      "metadata": {
        "id": "Mr2wbXwQYbgy",
        "colab_type": "text"
      },
      "source": [
        "#### Why Use Machine Learning?\n",
        "\n",
        "##### 1. 일반적인 스팸 분류 방법과 절차(그림1)\n",
        "\n",
        "![Figure1-1](./image/Figure 1-1.png)\n",
        "\n",
        "1. 스팸 메일은 일반적으로 일부 문구(“4U,” “credit card,” “free,” and “amazing”)를 포함\n",
        "2. 발견 한 각 패턴에 대해 탐지 알고리즘을 작성하고 이러한 패턴이 다수 감지되면 프로그램은 이메일을 스팸으로 표시.\n",
        "3.  프로그램을 테스트하고 충분할 때까지 1 단계와 2 단계를 반복.\n",
        "\n",
        "##### 2. ML을 이용한 스팸 분류 방법과 절차(그림2)\n",
        "\n",
        "\n",
        "![Figure1-2](./image/Figure 1-2.png)\n",
        "\n",
        "&nbsp;&nbsp;&nbsp;&nbsp;반대로 Machine Learning 기술을 기반의 스팸 필터는 스팸 예시에서 비정상적으로 빈번한 단어 패턴을 감지, 어떤 단어와 구가 스팸을 예측하는 좋은지 자동으로 학습 (그림 1-2).\n",
        "\n",
        "##### 3. 분류기 자동화(그림3) \n",
        "\n",
        "![Figure1-3](./image/Figure 1-3.png)\n",
        "\n",
        "\n",
        "&nbsp;&nbsp;&nbsp;&nbsp;또한 “For U”와 같은 단어가 빈번하게 발생하면, 사용자의 지정 없이도 해당 단어를 스팸 분류기에 포함할 수 있음\n",
        "\n",
        "##### 4. 인간 학습에 도움을 주는 머신러닝(그림4)\n",
        "\n",
        "![Figure1-4](./image/Figure 1-4.png)\n",
        "\n",
        "&nbsp;&nbsp;&nbsp;&nbsp;ML 알고리즘을 통한 학습은 인간이 의심하지 못한 상관관계나 새로운 경향을 보여줄 때가 있음. 이는 해당 문제를 더 잘 이해하게 도울 수 있다.\n",
        "\n"
      ]
    },
    {
      "cell_type": "code",
      "metadata": {
        "id": "D4_-sPcgY6Rk",
        "colab_type": "code",
        "colab": {}
      },
      "source": [
        ""
      ],
      "execution_count": 0,
      "outputs": []
    }
  ]
}