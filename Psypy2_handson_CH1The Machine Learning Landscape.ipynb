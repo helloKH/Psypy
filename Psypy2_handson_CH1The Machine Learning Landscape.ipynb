{
  "nbformat": 4,
  "nbformat_minor": 0,
  "metadata": {
    "colab": {
      "name": "Untitled3.ipynb",
      "provenance": [],
      "include_colab_link": true
    },
    "kernelspec": {
      "name": "python3",
      "display_name": "Python 3"
    }
  },
  "cells": [
    {
      "cell_type": "markdown",
      "metadata": {
        "id": "view-in-github",
        "colab_type": "text"
      },
      "source": [
        "<a href=\"https://colab.research.google.com/github/helloKH/Psypy/blob/master/Psypy2_handson_CH1The%20Machine%20Learning%20Landscape.ipynb\" target=\"_parent\"><img src=\"https://colab.research.google.com/assets/colab-badge.svg\" alt=\"Open In Colab\"/></a>"
      ]
    },
    {
      "cell_type": "code",
      "metadata": {
        "id": "Ri7UWbxpYUPb",
        "colab_type": "code",
        "colab": {
          "base_uri": "https://localhost:8080/",
          "height": 136
        },
        "outputId": "9b0b71af-56a8-4f02-823d-6c8e7af6e154"
      },
      "source": [
        "!git clone https://github.com/helloKH/Psypy.git"
      ],
      "execution_count": 1,
      "outputs": [
        {
          "output_type": "stream",
          "text": [
            "Cloning into 'Psypy'...\n",
            "remote: Enumerating objects: 81, done.\u001b[K\n",
            "remote: Counting objects:   1% (1/81)\u001b[K\rremote: Counting objects:   2% (2/81)\u001b[K\rremote: Counting objects:   3% (3/81)\u001b[K\rremote: Counting objects:   4% (4/81)\u001b[K\rremote: Counting objects:   6% (5/81)\u001b[K\rremote: Counting objects:   7% (6/81)\u001b[K\rremote: Counting objects:   8% (7/81)\u001b[K\rremote: Counting objects:   9% (8/81)\u001b[K\rremote: Counting objects:  11% (9/81)\u001b[K\rremote: Counting objects:  12% (10/81)\u001b[K\rremote: Counting objects:  13% (11/81)\u001b[K\rremote: Counting objects:  14% (12/81)\u001b[K\rremote: Counting objects:  16% (13/81)\u001b[K\rremote: Counting objects:  17% (14/81)\u001b[K\rremote: Counting objects:  18% (15/81)\u001b[K\rremote: Counting objects:  19% (16/81)\u001b[K\rremote: Counting objects:  20% (17/81)\u001b[K\rremote: Counting objects:  22% (18/81)\u001b[K\rremote: Counting objects:  23% (19/81)\u001b[K\rremote: Counting objects:  24% (20/81)\u001b[K\rremote: Counting objects:  25% (21/81)\u001b[K\rremote: Counting objects:  27% (22/81)\u001b[K\rremote: Counting objects:  28% (23/81)\u001b[K\rremote: Counting objects:  29% (24/81)\u001b[K\rremote: Counting objects:  30% (25/81)\u001b[K\rremote: Counting objects:  32% (26/81)\u001b[K\rremote: Counting objects:  33% (27/81)\u001b[K\rremote: Counting objects:  34% (28/81)\u001b[K\rremote: Counting objects:  35% (29/81)\u001b[K\rremote: Counting objects:  37% (30/81)\u001b[K\rremote: Counting objects:  38% (31/81)\u001b[K\rremote: Counting objects:  39% (32/81)\u001b[K\rremote: Counting objects:  40% (33/81)\u001b[K\rremote: Counting objects:  41% (34/81)\u001b[K\rremote: Counting objects:  43% (35/81)\u001b[K\rremote: Counting objects:  44% (36/81)\u001b[K\rremote: Counting objects:  45% (37/81)\u001b[K\rremote: Counting objects:  46% (38/81)\u001b[K\rremote: Counting objects:  48% (39/81)\u001b[K\rremote: Counting objects:  49% (40/81)\u001b[K\rremote: Counting objects:  50% (41/81)\u001b[K\rremote: Counting objects:  51% (42/81)\u001b[K\rremote: Counting objects:  53% (43/81)\u001b[K\rremote: Counting objects:  54% (44/81)\u001b[K\rremote: Counting objects:  55% (45/81)\u001b[K\rremote: Counting objects:  56% (46/81)\u001b[K\rremote: Counting objects:  58% (47/81)\u001b[K\rremote: Counting objects:  59% (48/81)\u001b[K\rremote: Counting objects:  60% (49/81)\u001b[K\rremote: Counting objects:  61% (50/81)\u001b[K\rremote: Counting objects:  62% (51/81)\u001b[K\rremote: Counting objects:  64% (52/81)\u001b[K\rremote: Counting objects:  65% (53/81)\u001b[K\rremote: Counting objects:  66% (54/81)\u001b[K\rremote: Counting objects:  67% (55/81)\u001b[K\rremote: Counting objects:  69% (56/81)\u001b[K\rremote: Counting objects:  70% (57/81)\u001b[K\rremote: Counting objects:  71% (58/81)\u001b[K\rremote: Counting objects:  72% (59/81)\u001b[K\rremote: Counting objects:  74% (60/81)\u001b[K\rremote: Counting objects:  75% (61/81)\u001b[K\rremote: Counting objects:  76% (62/81)\u001b[K\rremote: Counting objects:  77% (63/81)\u001b[K\rremote: Counting objects:  79% (64/81)\u001b[K\rremote: Counting objects:  80% (65/81)\u001b[K\rremote: Counting objects:  81% (66/81)\u001b[K\rremote: Counting objects:  82% (67/81)\u001b[K\rremote: Counting objects:  83% (68/81)\u001b[K\rremote: Counting objects:  85% (69/81)\u001b[K\rremote: Counting objects:  86% (70/81)\u001b[K\rremote: Counting objects:  87% (71/81)\u001b[K\rremote: Counting objects:  88% (72/81)\u001b[K\rremote: Counting objects:  90% (73/81)\u001b[K\rremote: Counting objects:  91% (74/81)\u001b[K\rremote: Counting objects:  92% (75/81)\u001b[K\rremote: Counting objects:  93% (76/81)\u001b[K\rremote: Counting objects:  95% (77/81)\u001b[K\rremote: Counting objects:  96% (78/81)\u001b[K\rremote: Counting objects:  97% (79/81)\u001b[K\rremote: Counting objects:  98% (80/81)\u001b[K\rremote: Counting objects: 100% (81/81)\u001b[K\rremote: Counting objects: 100% (81/81), done.\u001b[K\n",
            "remote: Compressing objects:   1% (1/81)\u001b[K\rremote: Compressing objects:   2% (2/81)\u001b[K\rremote: Compressing objects:   3% (3/81)\u001b[K\rremote: Compressing objects:   4% (4/81)\u001b[K\rremote: Compressing objects:   6% (5/81)\u001b[K\rremote: Compressing objects:   7% (6/81)\u001b[K\rremote: Compressing objects:   8% (7/81)\u001b[K\rremote: Compressing objects:   9% (8/81)\u001b[K\rremote: Compressing objects:  11% (9/81)\u001b[K\rremote: Compressing objects:  12% (10/81)\u001b[K\rremote: Compressing objects:  13% (11/81)\u001b[K\rremote: Compressing objects:  14% (12/81)\u001b[K\rremote: Compressing objects:  16% (13/81)\u001b[K\rremote: Compressing objects:  17% (14/81)\u001b[K\rremote: Compressing objects:  18% (15/81)\u001b[K\rremote: Compressing objects:  19% (16/81)\u001b[K\rremote: Compressing objects:  20% (17/81)\u001b[K\rremote: Compressing objects:  22% (18/81)\u001b[K\rremote: Compressing objects:  23% (19/81)\u001b[K\rremote: Compressing objects:  24% (20/81)\u001b[K\rremote: Compressing objects:  25% (21/81)\u001b[K\rremote: Compressing objects:  27% (22/81)\u001b[K\rremote: Compressing objects:  28% (23/81)\u001b[K\rremote: Compressing objects:  29% (24/81)\u001b[K\rremote: Compressing objects:  30% (25/81)\u001b[K\rremote: Compressing objects:  32% (26/81)\u001b[K\rremote: Compressing objects:  33% (27/81)\u001b[K\rremote: Compressing objects:  34% (28/81)\u001b[K\rremote: Compressing objects:  35% (29/81)\u001b[K\rremote: Compressing objects:  37% (30/81)\u001b[K\rremote: Compressing objects:  38% (31/81)\u001b[K\rremote: Compressing objects:  39% (32/81)\u001b[K\rremote: Compressing objects:  40% (33/81)\u001b[K\rremote: Compressing objects:  41% (34/81)\u001b[K\rremote: Compressing objects:  43% (35/81)\u001b[K\rremote: Compressing objects:  44% (36/81)\u001b[K\rremote: Compressing objects:  45% (37/81)\u001b[K\rremote: Compressing objects:  46% (38/81)\u001b[K\rremote: Compressing objects:  48% (39/81)\u001b[K\rremote: Compressing objects:  49% (40/81)\u001b[K\rremote: Compressing objects:  50% (41/81)\u001b[K\rremote: Compressing objects:  51% (42/81)\u001b[K\rremote: Compressing objects:  53% (43/81)\u001b[K\rremote: Compressing objects:  54% (44/81)\u001b[K\rremote: Compressing objects:  55% (45/81)\u001b[K\rremote: Compressing objects:  56% (46/81)\u001b[K\rremote: Compressing objects:  58% (47/81)\u001b[K\rremote: Compressing objects:  59% (48/81)\u001b[K\rremote: Compressing objects:  60% (49/81)\u001b[K\rremote: Compressing objects:  61% (50/81)\u001b[K\rremote: Compressing objects:  62% (51/81)\u001b[K\rremote: Compressing objects:  64% (52/81)\u001b[K\rremote: Compressing objects:  65% (53/81)\u001b[K\rremote: Compressing objects:  66% (54/81)\u001b[K\rremote: Compressing objects:  67% (55/81)\u001b[K\rremote: Compressing objects:  69% (56/81)\u001b[K\rremote: Compressing objects:  70% (57/81)\u001b[K\rremote: Compressing objects:  71% (58/81)\u001b[K\rremote: Compressing objects:  72% (59/81)\u001b[K\rremote: Compressing objects:  74% (60/81)\u001b[K\rremote: Compressing objects:  75% (61/81)\u001b[K\rremote: Compressing objects:  76% (62/81)\u001b[K\rremote: Compressing objects:  77% (63/81)\u001b[K\rremote: Compressing objects:  79% (64/81)\u001b[K\rremote: Compressing objects:  80% (65/81)\u001b[K\rremote: Compressing objects:  81% (66/81)\u001b[K\rremote: Compressing objects:  82% (67/81)\u001b[K\rremote: Compressing objects:  83% (68/81)\u001b[K\rremote: Compressing objects:  85% (69/81)\u001b[K\rremote: Compressing objects:  86% (70/81)\u001b[K\rremote: Compressing objects:  87% (71/81)\u001b[K\rremote: Compressing objects:  88% (72/81)\u001b[K\rremote: Compressing objects:  90% (73/81)\u001b[K\rremote: Compressing objects:  91% (74/81)\u001b[K\rremote: Compressing objects:  92% (75/81)\u001b[K\rremote: Compressing objects:  93% (76/81)\u001b[K\rremote: Compressing objects:  95% (77/81)\u001b[K\rremote: Compressing objects:  96% (78/81)\u001b[K\rremote: Compressing objects:  97% (79/81)\u001b[K\rremote: Compressing objects:  98% (80/81)\u001b[K\rremote: Compressing objects: 100% (81/81)\u001b[K\rremote: Compressing objects: 100% (81/81), done.\u001b[K\n",
            "Receiving objects:   0% (1/307)   \rReceiving objects:   1% (4/307)   \rReceiving objects:   2% (7/307)   \rReceiving objects:   3% (10/307)   \rReceiving objects:   4% (13/307)   \rReceiving objects:   5% (16/307)   \rReceiving objects:   6% (19/307)   \rReceiving objects:   7% (22/307)   \rReceiving objects:   8% (25/307)   \rReceiving objects:   9% (28/307)   \rReceiving objects:  10% (31/307)   \rReceiving objects:  11% (34/307)   \rReceiving objects:  12% (37/307)   \rReceiving objects:  13% (40/307)   \rReceiving objects:  14% (43/307)   \rReceiving objects:  15% (47/307)   \rReceiving objects:  16% (50/307)   \rReceiving objects:  17% (53/307)   \rReceiving objects:  18% (56/307)   \rReceiving objects:  19% (59/307)   \rReceiving objects:  20% (62/307)   \rReceiving objects:  21% (65/307)   \rReceiving objects:  22% (68/307)   \rReceiving objects:  23% (71/307)   \rReceiving objects:  24% (74/307)   \rReceiving objects:  25% (77/307)   \rReceiving objects:  26% (80/307)   \rReceiving objects:  27% (83/307)   \rReceiving objects:  28% (86/307)   \rReceiving objects:  29% (90/307)   \rReceiving objects:  30% (93/307)   \rReceiving objects:  31% (96/307)   \rReceiving objects:  32% (99/307)   \rReceiving objects:  33% (102/307)   \rReceiving objects:  34% (105/307)   \rReceiving objects:  35% (108/307)   \rReceiving objects:  36% (111/307)   \rReceiving objects:  37% (114/307)   \rReceiving objects:  38% (117/307)   \rReceiving objects:  39% (120/307)   \rReceiving objects:  40% (123/307)   \rReceiving objects:  41% (126/307)   \rReceiving objects:  42% (129/307)   \rReceiving objects:  43% (133/307)   \rReceiving objects:  44% (136/307)   \rReceiving objects:  45% (139/307)   \rReceiving objects:  46% (142/307)   \rReceiving objects:  47% (145/307)   \rReceiving objects:  48% (148/307)   \rremote: Total 307 (delta 50), reused 0 (delta 0), pack-reused 226\u001b[K\n",
            "Receiving objects: 100% (307/307), 3.64 MiB | 28.25 MiB/s, done.\n",
            "Resolving deltas: 100% (159/159), done.\n"
          ],
          "name": "stdout"
        }
      ]
    },
    {
      "cell_type": "code",
      "metadata": {
        "id": "5lHI_h26Zdcn",
        "colab_type": "code",
        "colab": {
          "base_uri": "https://localhost:8080/",
          "height": 68
        },
        "outputId": "6652717c-0c62-4f1b-f910-2c2a9006482a"
      },
      "source": [
        "ls -ltr"
      ],
      "execution_count": 5,
      "outputs": [
        {
          "output_type": "stream",
          "text": [
            "total 8\n",
            "drwxr-xr-x 1 root root 4096 Dec 18 16:52 \u001b[0m\u001b[01;34msample_data\u001b[0m/\n",
            "drwxr-xr-x 4 root root 4096 Dec 30 15:18 \u001b[01;34mPsypy\u001b[0m/\n"
          ],
          "name": "stdout"
        }
      ]
    },
    {
      "cell_type": "code",
      "metadata": {
        "id": "vVw1d2-hYeEm",
        "colab_type": "code",
        "colab": {
          "base_uri": "https://localhost:8080/",
          "height": 119
        },
        "outputId": "09b7e1fa-2c47-4131-b99d-8cad0764a2b0"
      },
      "source": [
        "!ls Psypy/image"
      ],
      "execution_count": 2,
      "outputs": [
        {
          "output_type": "stream",
          "text": [
            "'Figure 1-10.png'  'Figure 1-16.png'  'Figure 1-21.png'  'Figure 1-5.png'\n",
            "'Figure 1-11.png'  'Figure 1-17.png'  'Figure 1-22.png'  'Figure 1-6.png'\n",
            "'Figure 1-12.png'  'Figure 1-18.png'  'Figure 1-23.png'  'Figure 1-7.png'\n",
            "'Figure 1-13.png'  'Figure 1-19.png'  'Figure 1-2.png'\t 'Figure 1-8.png'\n",
            "'Figure 1-14.png'  'Figure 1-1.png'    Figure1-3.png\t 'Figure 1-9.png'\n",
            "'Figure 1-15.png'  'Figure 1-20.png'  'Figure 1-4.png'\t  Read.md\n"
          ],
          "name": "stdout"
        }
      ]
    },
    {
      "cell_type": "markdown",
      "metadata": {
        "id": "F1E4tHPGYU54",
        "colab_type": "text"
      },
      "source": [
        "### Psypy2 1회차\n",
        "#### 교재: Hands on Machine Learning with Scikit-Learn, Keras & TensorFlow\n",
        "#### Part1. The Fundamentals of Machine Learning\n",
        "##### CH1. The Machine Learning Landscape"
      ]
    },
    {
      "cell_type": "markdown",
      "metadata": {
        "id": "CJ9amP37YXMF",
        "colab_type": "text"
      },
      "source": [
        "#### Chapter1 목적\n",
        "- 모든 데이터 과학자가 알아야 하는 기본 개념 소개"
      ]
    },
    {
      "cell_type": "markdown",
      "metadata": {
        "id": "lenFcjT-YZi7",
        "colab_type": "text"
      },
      "source": [
        "#### What Is Machine Learning?\n",
        "- Machine Learning is the science (and art) of programming computers so they can learn from data.\n",
        "\n",
        "- general definition  \n",
        "[Machine Learning is the] field of study that gives computers the ability to learn without being explicitly programmed.  \n",
        "— Arthur Samuel, 1959\n",
        "\n",
        "\n",
        "- engineering  \n",
        "A computer program is said to learn from experience E with respect to some task Tand some performance measure P, if its performance on T, as measured by P, improves with experience E.  \n",
        "—Tom Mitchell, 1997"
      ]
    },
    {
      "cell_type": "markdown",
      "metadata": {
        "id": "Mr2wbXwQYbgy",
        "colab_type": "text"
      },
      "source": [
        "#### Why Use Machine Learning?\n",
        "- git에 있는 이미지 파일 어떻게 올리지;;;;\n",
        "\n",
        "![Figure1-1](./image/Figure 1-1.png)"
      ]
    },
    {
      "cell_type": "code",
      "metadata": {
        "id": "D4_-sPcgY6Rk",
        "colab_type": "code",
        "colab": {}
      },
      "source": [
        ""
      ],
      "execution_count": 0,
      "outputs": []
    }
  ]
}