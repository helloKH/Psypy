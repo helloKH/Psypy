{
  "nbformat": 4,
  "nbformat_minor": 0,
  "metadata": {
    "colab": {
      "name": "Untitled0.ipynb",
      "provenance": [],
      "include_colab_link": true
    },
    "kernelspec": {
      "name": "python3",
      "display_name": "Python 3"
    }
  },
  "cells": [
    {
      "cell_type": "markdown",
      "metadata": {
        "id": "view-in-github",
        "colab_type": "text"
      },
      "source": [
        "<a href=\"https://colab.research.google.com/github/helloKH/Psypy/blob/master/Psypy_Data%20Load%20%26%20Preparations(Chapter%206%20~7).ipynb\" target=\"_parent\"><img src=\"https://colab.research.google.com/assets/colab-badge.svg\" alt=\"Open In Colab\"/></a>"
      ]
    },
    {
      "cell_type": "markdown",
      "metadata": {
        "id": "Gan3-pQfJDym",
        "colab_type": "text"
      },
      "source": [
        "### Psypy 6회차 \n",
        "- 데이터 로딩과 저장, 파일의 형식(Chapter 6) \n",
        "- 데이터 정제 및 준비(Chapter 7)\n",
        "- 참고자료: Python for Data Analysis 2nd."
      ]
    },
    {
      "cell_type": "code",
      "metadata": {
        "id": "F4JM8qu6sPX1",
        "colab_type": "code",
        "outputId": "bf38ab2e-fb23-4a9a-b8d7-eae7f90d8e53",
        "colab": {
          "base_uri": "https://localhost:8080/",
          "height": 34
        }
      },
      "source": [
        "!python -V"
      ],
      "execution_count": 128,
      "outputs": [
        {
          "output_type": "stream",
          "text": [
            "Python 3.6.9\n"
          ],
          "name": "stdout"
        }
      ]
    },
    {
      "cell_type": "markdown",
      "metadata": {
        "id": "QHh0IcRK6i4j",
        "colab_type": "text"
      },
      "source": [
        "#### 0. Google Drive와 연결하여 데이터 업로드해두기\n",
        "- 참고 문서 링크: https://www.marktechpost.com/2019/06/07/how-to-connect-google-colab-with-google-drive/"
      ]
    },
    {
      "cell_type": "code",
      "metadata": {
        "id": "asVafCvv6IZz",
        "colab_type": "code",
        "outputId": "a55d91f3-0bf7-422c-f35d-19a8bac0c394",
        "colab": {
          "base_uri": "https://localhost:8080/",
          "height": 34
        }
      },
      "source": [
        "from google.colab import drive\n",
        "drive.mount('/content/gdrive')"
      ],
      "execution_count": 196,
      "outputs": [
        {
          "output_type": "stream",
          "text": [
            "Drive already mounted at /content/gdrive; to attempt to forcibly remount, call drive.mount(\"/content/gdrive\", force_remount=True).\n"
          ],
          "name": "stdout"
        }
      ]
    },
    {
      "cell_type": "markdown",
      "metadata": {
        "id": "cC2C3a5m6vlb",
        "colab_type": "text"
      },
      "source": [
        "#### URL로 가서 authorization code를 아래 code 입력란에 copy and paste. 마운트 위치는 /content/gdrive/My Drive/ 이렇게 됨."
      ]
    },
    {
      "cell_type": "code",
      "metadata": {
        "id": "xHfb46eO62Ap",
        "colab_type": "code",
        "outputId": "27ae4cf8-ab2e-4c1a-f457-d85b0281127d",
        "colab": {
          "base_uri": "https://localhost:8080/",
          "height": 34
        }
      },
      "source": [
        "!ls '/content/gdrive/My Drive/' # 유닉스 명령어 ls를 사용하여 폴더에 있는 파일 리스트를 확인 가능"
      ],
      "execution_count": 197,
      "outputs": [
        {
          "output_type": "stream",
          "text": [
            " Aimmed  'Colab Notebooks'   psypy   pydata-book\n"
          ],
          "name": "stdout"
        }
      ]
    },
    {
      "cell_type": "markdown",
      "metadata": {
        "id": "kBftk3Jl7ay8",
        "colab_type": "text"
      },
      "source": [
        "#### 자신의 구글 드라이브에 디렉토리를 만들어서 거기에 필요한 파일들을 업로드\n",
        "- 교재에서 사용되는 파일들은 아래 링크에 존재\n",
        "- https://github.com/wesm/pydata-book/tree/2nd-edition/examples"
      ]
    },
    {
      "cell_type": "code",
      "metadata": {
        "id": "rDS068Qs8M0h",
        "colab_type": "code",
        "outputId": "d4976862-d68c-4bac-bb3b-15b8acdaddfa",
        "colab": {
          "base_uri": "https://localhost:8080/",
          "height": 34
        }
      },
      "source": [
        "import os\n",
        "os.getcwd()\n",
        "os.chdir('/content/gdrive/My Drive/pydata-book') #경로 변경\n",
        "os.getcwd()\n"
      ],
      "execution_count": 199,
      "outputs": [
        {
          "output_type": "execute_result",
          "data": {
            "text/plain": [
              "'/content/gdrive/My Drive/pydata-book'"
            ]
          },
          "metadata": {
            "tags": []
          },
          "execution_count": 199
        }
      ]
    },
    {
      "cell_type": "code",
      "metadata": {
        "id": "22awNuAe9l5F",
        "colab_type": "code",
        "colab": {}
      },
      "source": [
        "import urllib.request\n",
        "\n",
        "url = 'https://raw.githubusercontent.com/wesm/pydata-book/2nd-edition/examples/ex1.csv'\n",
        "file_name = \"examples/ex1.csv\" \n",
        "with urllib.request.urlopen(url) as r:\n",
        "  doc = r.read()\n",
        "  with open(file_name, \"wb\") as f:\n",
        "    f.write(doc)"
      ],
      "execution_count": 0,
      "outputs": []
    },
    {
      "cell_type": "code",
      "metadata": {
        "id": "wxte7VVJ-Bu7",
        "colab_type": "code",
        "outputId": "1a37bc7b-4fe2-4c5d-bd85-024b89846a77",
        "colab": {
          "base_uri": "https://localhost:8080/",
          "height": 85
        }
      },
      "source": [
        "# 제대로 만들어서 업로드했으면 다음처럼 확인할 수 있다.\n",
        "!ls '/content/gdrive/My Drive/pydata-book'"
      ],
      "execution_count": 202,
      "outputs": [
        {
          "output_type": "stream",
          "text": [
            "appa.ipynb  ch05.ipynb\tch09.ipynb  ch13.ipynb\texamples\n",
            "ch02.ipynb  ch06.ipynb\tch10.ipynb  ch14.ipynb\tREADME.md\n",
            "ch03.ipynb  ch07.ipynb\tch11.ipynb  COPYING\trequirements.txt\n",
            "ch04.ipynb  ch08.ipynb\tch12.ipynb  datasets\n"
          ],
          "name": "stdout"
        }
      ]
    },
    {
      "cell_type": "code",
      "metadata": {
        "id": "SmyRLTF--SLz",
        "colab_type": "code",
        "outputId": "2c7d56a2-60a9-419c-e302-bd7d246de115",
        "colab": {
          "base_uri": "https://localhost:8080/",
          "height": 85
        }
      },
      "source": [
        "# 실습을 위한 소스와 데이터가 있는 저장소를 클로닝해서 colab과 동기화하는 방법을 사용.\n",
        "# 지금은 클로닝되어 있지 않음\n",
        "%ls"
      ],
      "execution_count": 203,
      "outputs": [
        {
          "output_type": "stream",
          "text": [
            "appa.ipynb  ch05.ipynb  ch09.ipynb  ch13.ipynb  \u001b[0m\u001b[01;34mexamples\u001b[0m/\n",
            "ch02.ipynb  ch06.ipynb  ch10.ipynb  ch14.ipynb  README.md\n",
            "ch03.ipynb  ch07.ipynb  ch11.ipynb  COPYING     requirements.txt\n",
            "ch04.ipynb  ch08.ipynb  ch12.ipynb  \u001b[01;34mdatasets\u001b[0m/\n"
          ],
          "name": "stdout"
        }
      ]
    },
    {
      "cell_type": "code",
      "metadata": {
        "id": "Fw9OecML-SN-",
        "colab_type": "code",
        "outputId": "a69eca9f-2b3b-4308-aae6-cb5495c46c79",
        "colab": {
          "base_uri": "https://localhost:8080/",
          "height": 119
        }
      },
      "source": [
        "# 저장소 가져옴\n",
        "!git clone https://github.com/wesm/pydata-book.git"
      ],
      "execution_count": 204,
      "outputs": [
        {
          "output_type": "stream",
          "text": [
            "Cloning into 'pydata-book'...\n",
            "remote: Enumerating objects: 431, done.\u001b[K\n",
            "remote: Total 431 (delta 0), reused 0 (delta 0), pack-reused 431\u001b[K\n",
            "Receiving objects: 100% (431/431), 40.54 MiB | 11.03 MiB/s, done.\n",
            "Resolving deltas: 100% (132/132), done.\n",
            "Checking out files: 100% (210/210), done.\n"
          ],
          "name": "stdout"
        }
      ]
    },
    {
      "cell_type": "code",
      "metadata": {
        "id": "F_qGegyg-d22",
        "colab_type": "code",
        "outputId": "6ff9b3a8-8d1d-49ca-f73f-be529591f573",
        "colab": {
          "base_uri": "https://localhost:8080/",
          "height": 85
        }
      },
      "source": [
        "# 코드&데이터 디렉토리 확인\n",
        "%ls"
      ],
      "execution_count": 205,
      "outputs": [
        {
          "output_type": "stream",
          "text": [
            "appa.ipynb  ch05.ipynb  ch09.ipynb  ch13.ipynb  \u001b[0m\u001b[01;34mexamples\u001b[0m/\n",
            "ch02.ipynb  ch06.ipynb  ch10.ipynb  ch14.ipynb  \u001b[01;34mpydata-book\u001b[0m/\n",
            "ch03.ipynb  ch07.ipynb  ch11.ipynb  COPYING     README.md\n",
            "ch04.ipynb  ch08.ipynb  ch12.ipynb  \u001b[01;34mdatasets\u001b[0m/   requirements.txt\n"
          ],
          "name": "stdout"
        }
      ]
    },
    {
      "cell_type": "code",
      "metadata": {
        "id": "S8kFupay-i4I",
        "colab_type": "code",
        "outputId": "177137ff-842c-4727-d48b-4e5fbc1272ef",
        "colab": {
          "base_uri": "https://localhost:8080/",
          "height": 34
        }
      },
      "source": [
        "#colab의 실행 위치를 examples 디렉토리 내부로 옮기자\n",
        "%cd examples"
      ],
      "execution_count": 206,
      "outputs": [
        {
          "output_type": "stream",
          "text": [
            "/content/gdrive/My Drive/pydata-book/examples\n"
          ],
          "name": "stdout"
        }
      ]
    },
    {
      "cell_type": "code",
      "metadata": {
        "id": "x3IUeUpR_S2o",
        "colab_type": "code",
        "outputId": "4fb041d0-450a-4107-ef1b-5bbe8c5b6dc7",
        "colab": {
          "base_uri": "https://localhost:8080/",
          "height": 34
        }
      },
      "source": [
        "os.getcwd()"
      ],
      "execution_count": 207,
      "outputs": [
        {
          "output_type": "execute_result",
          "data": {
            "text/plain": [
              "'/content/gdrive/My Drive/pydata-book/examples'"
            ]
          },
          "metadata": {
            "tags": []
          },
          "execution_count": 207
        }
      ]
    },
    {
      "cell_type": "code",
      "metadata": {
        "id": "YpH76eiS-mOj",
        "colab_type": "code",
        "outputId": "36b54cbc-4e2d-432e-abfb-bf52137396ae",
        "colab": {
          "base_uri": "https://localhost:8080/",
          "height": 136
        }
      },
      "source": [
        "%ls"
      ],
      "execution_count": 208,
      "outputs": [
        {
          "output_type": "stream",
          "text": [
            "array_ex.txt    ex4.csv                     macrodata.csv   test_file.csv\n",
            "csv_mindex.csv  ex5.csv                     out.csv         tips.csv\n",
            "ex1.csv         ex6.csv                     segismundo.txt  tseries.csv\n",
            "ex1.xlsx        ex7.csv                     spx.csv         volume.csv\n",
            "ex2.csv         example.json                stinkbug.png    yahoo_price.pkl\n",
            "ex3.csv         fdic_failed_bank_list.html  stock_px_2.csv  yahoo_volume.pkl\n",
            "ex3.txt         ipython_bug.py              stock_px.csv\n"
          ],
          "name": "stdout"
        }
      ]
    },
    {
      "cell_type": "code",
      "metadata": {
        "id": "itbxOVFJ_H0f",
        "colab_type": "code",
        "outputId": "7fdd6124-b320-4358-ca4b-61699eb41f71",
        "colab": {
          "base_uri": "https://localhost:8080/",
          "height": 85
        }
      },
      "source": [
        "%cat ex1.csv"
      ],
      "execution_count": 209,
      "outputs": [
        {
          "output_type": "stream",
          "text": [
            "a,b,c,d,message\n",
            "1,2,3,4,hello\n",
            "5,6,7,8,world\n",
            "9,10,11,12,foo"
          ],
          "name": "stdout"
        }
      ]
    },
    {
      "cell_type": "markdown",
      "metadata": {
        "id": "_n46D0Z4cIIQ",
        "colab_type": "text"
      },
      "source": [
        "### 6 데이터 로딩과 저장, 파일형식"
      ]
    },
    {
      "cell_type": "markdown",
      "metadata": {
        "id": "i98TjobFgoF5",
        "colab_type": "text"
      },
      "source": [
        "#### 6.1 텍스트파일에서 데이터 읽고 쓰기"
      ]
    },
    {
      "cell_type": "code",
      "metadata": {
        "id": "7n-KMTjhcC4-",
        "colab_type": "code",
        "colab": {}
      },
      "source": [
        "import pandas as pd\n",
        "import numpy as np\n",
        "from pandas import Series, DataFrame"
      ],
      "execution_count": 0,
      "outputs": []
    },
    {
      "cell_type": "code",
      "metadata": {
        "id": "CPyn_VH7BAQE",
        "colab_type": "code",
        "outputId": "10ab6a8f-5689-413f-a855-0565b7c0bbe5",
        "colab": {
          "base_uri": "https://localhost:8080/",
          "height": 85
        }
      },
      "source": [
        "!cat ex1.csv"
      ],
      "execution_count": 211,
      "outputs": [
        {
          "output_type": "stream",
          "text": [
            "a,b,c,d,message\n",
            "1,2,3,4,hello\n",
            "5,6,7,8,world\n",
            "9,10,11,12,foo"
          ],
          "name": "stdout"
        }
      ]
    },
    {
      "cell_type": "code",
      "metadata": {
        "id": "FcjeW3Oe-whm",
        "colab_type": "code",
        "outputId": "aaa035e2-74a9-47fb-8daf-5dcd59aaf311",
        "colab": {
          "base_uri": "https://localhost:8080/",
          "height": 142
        }
      },
      "source": [
        "# 설정된 폴더 내에서 data를 직접 불러온다\n",
        "df = pd.read_csv('ex1.csv')\n",
        "df"
      ],
      "execution_count": 212,
      "outputs": [
        {
          "output_type": "execute_result",
          "data": {
            "text/html": [
              "<div>\n",
              "<style scoped>\n",
              "    .dataframe tbody tr th:only-of-type {\n",
              "        vertical-align: middle;\n",
              "    }\n",
              "\n",
              "    .dataframe tbody tr th {\n",
              "        vertical-align: top;\n",
              "    }\n",
              "\n",
              "    .dataframe thead th {\n",
              "        text-align: right;\n",
              "    }\n",
              "</style>\n",
              "<table border=\"1\" class=\"dataframe\">\n",
              "  <thead>\n",
              "    <tr style=\"text-align: right;\">\n",
              "      <th></th>\n",
              "      <th>a</th>\n",
              "      <th>b</th>\n",
              "      <th>c</th>\n",
              "      <th>d</th>\n",
              "      <th>message</th>\n",
              "    </tr>\n",
              "  </thead>\n",
              "  <tbody>\n",
              "    <tr>\n",
              "      <th>0</th>\n",
              "      <td>1</td>\n",
              "      <td>2</td>\n",
              "      <td>3</td>\n",
              "      <td>4</td>\n",
              "      <td>hello</td>\n",
              "    </tr>\n",
              "    <tr>\n",
              "      <th>1</th>\n",
              "      <td>5</td>\n",
              "      <td>6</td>\n",
              "      <td>7</td>\n",
              "      <td>8</td>\n",
              "      <td>world</td>\n",
              "    </tr>\n",
              "    <tr>\n",
              "      <th>2</th>\n",
              "      <td>9</td>\n",
              "      <td>10</td>\n",
              "      <td>11</td>\n",
              "      <td>12</td>\n",
              "      <td>foo</td>\n",
              "    </tr>\n",
              "  </tbody>\n",
              "</table>\n",
              "</div>"
            ],
            "text/plain": [
              "   a   b   c   d message\n",
              "0  1   2   3   4   hello\n",
              "1  5   6   7   8   world\n",
              "2  9  10  11  12     foo"
            ]
          },
          "metadata": {
            "tags": []
          },
          "execution_count": 212
        }
      ]
    },
    {
      "cell_type": "code",
      "metadata": {
        "id": "n1USnu7c_QuH",
        "colab_type": "code",
        "outputId": "a8b2d995-430a-42d0-84b3-f8413a8f7878",
        "colab": {
          "base_uri": "https://localhost:8080/",
          "height": 142
        }
      },
      "source": [
        "#read_table 에 구분자로 쉼표를 지정해서 읽어올 수 있다\n",
        "pd.read_table('ex1.csv', sep = ',')"
      ],
      "execution_count": 213,
      "outputs": [
        {
          "output_type": "execute_result",
          "data": {
            "text/html": [
              "<div>\n",
              "<style scoped>\n",
              "    .dataframe tbody tr th:only-of-type {\n",
              "        vertical-align: middle;\n",
              "    }\n",
              "\n",
              "    .dataframe tbody tr th {\n",
              "        vertical-align: top;\n",
              "    }\n",
              "\n",
              "    .dataframe thead th {\n",
              "        text-align: right;\n",
              "    }\n",
              "</style>\n",
              "<table border=\"1\" class=\"dataframe\">\n",
              "  <thead>\n",
              "    <tr style=\"text-align: right;\">\n",
              "      <th></th>\n",
              "      <th>a</th>\n",
              "      <th>b</th>\n",
              "      <th>c</th>\n",
              "      <th>d</th>\n",
              "      <th>message</th>\n",
              "    </tr>\n",
              "  </thead>\n",
              "  <tbody>\n",
              "    <tr>\n",
              "      <th>0</th>\n",
              "      <td>1</td>\n",
              "      <td>2</td>\n",
              "      <td>3</td>\n",
              "      <td>4</td>\n",
              "      <td>hello</td>\n",
              "    </tr>\n",
              "    <tr>\n",
              "      <th>1</th>\n",
              "      <td>5</td>\n",
              "      <td>6</td>\n",
              "      <td>7</td>\n",
              "      <td>8</td>\n",
              "      <td>world</td>\n",
              "    </tr>\n",
              "    <tr>\n",
              "      <th>2</th>\n",
              "      <td>9</td>\n",
              "      <td>10</td>\n",
              "      <td>11</td>\n",
              "      <td>12</td>\n",
              "      <td>foo</td>\n",
              "    </tr>\n",
              "  </tbody>\n",
              "</table>\n",
              "</div>"
            ],
            "text/plain": [
              "   a   b   c   d message\n",
              "0  1   2   3   4   hello\n",
              "1  5   6   7   8   world\n",
              "2  9  10  11  12     foo"
            ]
          },
          "metadata": {
            "tags": []
          },
          "execution_count": 213
        }
      ]
    },
    {
      "cell_type": "markdown",
      "metadata": {
        "id": "VLrZUSaIX2b0",
        "colab_type": "text"
      },
      "source": [
        "- 파일 컬럼에 이름이 없는 경우"
      ]
    },
    {
      "cell_type": "code",
      "metadata": {
        "id": "eXnWYJqTWpbU",
        "colab_type": "code",
        "outputId": "bc371aff-9d3b-4aeb-c4f5-b35b20bf1463",
        "colab": {
          "base_uri": "https://localhost:8080/",
          "height": 111
        }
      },
      "source": [
        "pd.read_table('ex2.csv')"
      ],
      "execution_count": 214,
      "outputs": [
        {
          "output_type": "execute_result",
          "data": {
            "text/html": [
              "<div>\n",
              "<style scoped>\n",
              "    .dataframe tbody tr th:only-of-type {\n",
              "        vertical-align: middle;\n",
              "    }\n",
              "\n",
              "    .dataframe tbody tr th {\n",
              "        vertical-align: top;\n",
              "    }\n",
              "\n",
              "    .dataframe thead th {\n",
              "        text-align: right;\n",
              "    }\n",
              "</style>\n",
              "<table border=\"1\" class=\"dataframe\">\n",
              "  <thead>\n",
              "    <tr style=\"text-align: right;\">\n",
              "      <th></th>\n",
              "      <th>1,2,3,4,hello</th>\n",
              "    </tr>\n",
              "  </thead>\n",
              "  <tbody>\n",
              "    <tr>\n",
              "      <th>0</th>\n",
              "      <td>5,6,7,8,world</td>\n",
              "    </tr>\n",
              "    <tr>\n",
              "      <th>1</th>\n",
              "      <td>9,10,11,12,foo</td>\n",
              "    </tr>\n",
              "  </tbody>\n",
              "</table>\n",
              "</div>"
            ],
            "text/plain": [
              "    1,2,3,4,hello\n",
              "0   5,6,7,8,world\n",
              "1  9,10,11,12,foo"
            ]
          },
          "metadata": {
            "tags": []
          },
          "execution_count": 214
        }
      ]
    },
    {
      "cell_type": "markdown",
      "metadata": {
        "id": "Hs9u2ijIZN06",
        "colab_type": "text"
      },
      "source": [
        "- pandas 가 자동으로 컬럼 이름 생성하게 만들거나, 이름 지정하기\n",
        "\n"
      ]
    },
    {
      "cell_type": "code",
      "metadata": {
        "id": "CGtM11eVBs27",
        "colab_type": "code",
        "outputId": "4b1fc7f2-9ffb-49c8-f87b-2c83bd9c8b3b",
        "colab": {
          "base_uri": "https://localhost:8080/",
          "height": 142
        }
      },
      "source": [
        "pd.read_csv('ex2.csv', header = None)"
      ],
      "execution_count": 215,
      "outputs": [
        {
          "output_type": "execute_result",
          "data": {
            "text/html": [
              "<div>\n",
              "<style scoped>\n",
              "    .dataframe tbody tr th:only-of-type {\n",
              "        vertical-align: middle;\n",
              "    }\n",
              "\n",
              "    .dataframe tbody tr th {\n",
              "        vertical-align: top;\n",
              "    }\n",
              "\n",
              "    .dataframe thead th {\n",
              "        text-align: right;\n",
              "    }\n",
              "</style>\n",
              "<table border=\"1\" class=\"dataframe\">\n",
              "  <thead>\n",
              "    <tr style=\"text-align: right;\">\n",
              "      <th></th>\n",
              "      <th>0</th>\n",
              "      <th>1</th>\n",
              "      <th>2</th>\n",
              "      <th>3</th>\n",
              "      <th>4</th>\n",
              "    </tr>\n",
              "  </thead>\n",
              "  <tbody>\n",
              "    <tr>\n",
              "      <th>0</th>\n",
              "      <td>1</td>\n",
              "      <td>2</td>\n",
              "      <td>3</td>\n",
              "      <td>4</td>\n",
              "      <td>hello</td>\n",
              "    </tr>\n",
              "    <tr>\n",
              "      <th>1</th>\n",
              "      <td>5</td>\n",
              "      <td>6</td>\n",
              "      <td>7</td>\n",
              "      <td>8</td>\n",
              "      <td>world</td>\n",
              "    </tr>\n",
              "    <tr>\n",
              "      <th>2</th>\n",
              "      <td>9</td>\n",
              "      <td>10</td>\n",
              "      <td>11</td>\n",
              "      <td>12</td>\n",
              "      <td>foo</td>\n",
              "    </tr>\n",
              "  </tbody>\n",
              "</table>\n",
              "</div>"
            ],
            "text/plain": [
              "   0   1   2   3      4\n",
              "0  1   2   3   4  hello\n",
              "1  5   6   7   8  world\n",
              "2  9  10  11  12    foo"
            ]
          },
          "metadata": {
            "tags": []
          },
          "execution_count": 215
        }
      ]
    },
    {
      "cell_type": "code",
      "metadata": {
        "id": "NQBcbRw5ZVV5",
        "colab_type": "code",
        "outputId": "a665f1ce-debb-4875-e4dc-ed48d5723f91",
        "colab": {
          "base_uri": "https://localhost:8080/",
          "height": 142
        }
      },
      "source": [
        "pd.read_csv('ex2.csv', names = ['a', 'b', 'c', 'd', 'message'])"
      ],
      "execution_count": 216,
      "outputs": [
        {
          "output_type": "execute_result",
          "data": {
            "text/html": [
              "<div>\n",
              "<style scoped>\n",
              "    .dataframe tbody tr th:only-of-type {\n",
              "        vertical-align: middle;\n",
              "    }\n",
              "\n",
              "    .dataframe tbody tr th {\n",
              "        vertical-align: top;\n",
              "    }\n",
              "\n",
              "    .dataframe thead th {\n",
              "        text-align: right;\n",
              "    }\n",
              "</style>\n",
              "<table border=\"1\" class=\"dataframe\">\n",
              "  <thead>\n",
              "    <tr style=\"text-align: right;\">\n",
              "      <th></th>\n",
              "      <th>a</th>\n",
              "      <th>b</th>\n",
              "      <th>c</th>\n",
              "      <th>d</th>\n",
              "      <th>message</th>\n",
              "    </tr>\n",
              "  </thead>\n",
              "  <tbody>\n",
              "    <tr>\n",
              "      <th>0</th>\n",
              "      <td>1</td>\n",
              "      <td>2</td>\n",
              "      <td>3</td>\n",
              "      <td>4</td>\n",
              "      <td>hello</td>\n",
              "    </tr>\n",
              "    <tr>\n",
              "      <th>1</th>\n",
              "      <td>5</td>\n",
              "      <td>6</td>\n",
              "      <td>7</td>\n",
              "      <td>8</td>\n",
              "      <td>world</td>\n",
              "    </tr>\n",
              "    <tr>\n",
              "      <th>2</th>\n",
              "      <td>9</td>\n",
              "      <td>10</td>\n",
              "      <td>11</td>\n",
              "      <td>12</td>\n",
              "      <td>foo</td>\n",
              "    </tr>\n",
              "  </tbody>\n",
              "</table>\n",
              "</div>"
            ],
            "text/plain": [
              "   a   b   c   d message\n",
              "0  1   2   3   4   hello\n",
              "1  5   6   7   8   world\n",
              "2  9  10  11  12     foo"
            ]
          },
          "metadata": {
            "tags": []
          },
          "execution_count": 216
        }
      ]
    },
    {
      "cell_type": "code",
      "metadata": {
        "id": "IE_PeTbUZnH3",
        "colab_type": "code",
        "outputId": "0135a5d0-d5b3-45b6-88d4-6e0942af6955",
        "colab": {
          "base_uri": "https://localhost:8080/",
          "height": 173
        }
      },
      "source": [
        "names = ['a', 'b', 'c', 'd', 'message']\n",
        "pd.read_csv('ex2.csv', names = names, index_col = 'message')"
      ],
      "execution_count": 217,
      "outputs": [
        {
          "output_type": "execute_result",
          "data": {
            "text/html": [
              "<div>\n",
              "<style scoped>\n",
              "    .dataframe tbody tr th:only-of-type {\n",
              "        vertical-align: middle;\n",
              "    }\n",
              "\n",
              "    .dataframe tbody tr th {\n",
              "        vertical-align: top;\n",
              "    }\n",
              "\n",
              "    .dataframe thead th {\n",
              "        text-align: right;\n",
              "    }\n",
              "</style>\n",
              "<table border=\"1\" class=\"dataframe\">\n",
              "  <thead>\n",
              "    <tr style=\"text-align: right;\">\n",
              "      <th></th>\n",
              "      <th>a</th>\n",
              "      <th>b</th>\n",
              "      <th>c</th>\n",
              "      <th>d</th>\n",
              "    </tr>\n",
              "    <tr>\n",
              "      <th>message</th>\n",
              "      <th></th>\n",
              "      <th></th>\n",
              "      <th></th>\n",
              "      <th></th>\n",
              "    </tr>\n",
              "  </thead>\n",
              "  <tbody>\n",
              "    <tr>\n",
              "      <th>hello</th>\n",
              "      <td>1</td>\n",
              "      <td>2</td>\n",
              "      <td>3</td>\n",
              "      <td>4</td>\n",
              "    </tr>\n",
              "    <tr>\n",
              "      <th>world</th>\n",
              "      <td>5</td>\n",
              "      <td>6</td>\n",
              "      <td>7</td>\n",
              "      <td>8</td>\n",
              "    </tr>\n",
              "    <tr>\n",
              "      <th>foo</th>\n",
              "      <td>9</td>\n",
              "      <td>10</td>\n",
              "      <td>11</td>\n",
              "      <td>12</td>\n",
              "    </tr>\n",
              "  </tbody>\n",
              "</table>\n",
              "</div>"
            ],
            "text/plain": [
              "         a   b   c   d\n",
              "message               \n",
              "hello    1   2   3   4\n",
              "world    5   6   7   8\n",
              "foo      9  10  11  12"
            ]
          },
          "metadata": {
            "tags": []
          },
          "execution_count": 217
        }
      ]
    },
    {
      "cell_type": "markdown",
      "metadata": {
        "id": "h3Cxu_SNabVT",
        "colab_type": "text"
      },
      "source": [
        "- 계층적 색인을 지정하기 위해 컬럼 번호나 이름의 리스트를 넘기기"
      ]
    },
    {
      "cell_type": "code",
      "metadata": {
        "id": "QPBaPXUiZ4yn",
        "colab_type": "code",
        "outputId": "8fa35ece-433c-4a35-c6e0-f35f07e3147b",
        "colab": {
          "base_uri": "https://localhost:8080/",
          "height": 328
        }
      },
      "source": [
        "parsed = pd.read_csv('csv_mindex.csv', index_col = ['key1', 'key2'])\n",
        "parsed"
      ],
      "execution_count": 218,
      "outputs": [
        {
          "output_type": "execute_result",
          "data": {
            "text/html": [
              "<div>\n",
              "<style scoped>\n",
              "    .dataframe tbody tr th:only-of-type {\n",
              "        vertical-align: middle;\n",
              "    }\n",
              "\n",
              "    .dataframe tbody tr th {\n",
              "        vertical-align: top;\n",
              "    }\n",
              "\n",
              "    .dataframe thead th {\n",
              "        text-align: right;\n",
              "    }\n",
              "</style>\n",
              "<table border=\"1\" class=\"dataframe\">\n",
              "  <thead>\n",
              "    <tr style=\"text-align: right;\">\n",
              "      <th></th>\n",
              "      <th></th>\n",
              "      <th>value1</th>\n",
              "      <th>value2</th>\n",
              "    </tr>\n",
              "    <tr>\n",
              "      <th>key1</th>\n",
              "      <th>key2</th>\n",
              "      <th></th>\n",
              "      <th></th>\n",
              "    </tr>\n",
              "  </thead>\n",
              "  <tbody>\n",
              "    <tr>\n",
              "      <th rowspan=\"4\" valign=\"top\">one</th>\n",
              "      <th>a</th>\n",
              "      <td>1</td>\n",
              "      <td>2</td>\n",
              "    </tr>\n",
              "    <tr>\n",
              "      <th>b</th>\n",
              "      <td>3</td>\n",
              "      <td>4</td>\n",
              "    </tr>\n",
              "    <tr>\n",
              "      <th>c</th>\n",
              "      <td>5</td>\n",
              "      <td>6</td>\n",
              "    </tr>\n",
              "    <tr>\n",
              "      <th>d</th>\n",
              "      <td>7</td>\n",
              "      <td>8</td>\n",
              "    </tr>\n",
              "    <tr>\n",
              "      <th rowspan=\"4\" valign=\"top\">two</th>\n",
              "      <th>a</th>\n",
              "      <td>9</td>\n",
              "      <td>10</td>\n",
              "    </tr>\n",
              "    <tr>\n",
              "      <th>b</th>\n",
              "      <td>11</td>\n",
              "      <td>12</td>\n",
              "    </tr>\n",
              "    <tr>\n",
              "      <th>c</th>\n",
              "      <td>13</td>\n",
              "      <td>14</td>\n",
              "    </tr>\n",
              "    <tr>\n",
              "      <th>d</th>\n",
              "      <td>15</td>\n",
              "      <td>16</td>\n",
              "    </tr>\n",
              "  </tbody>\n",
              "</table>\n",
              "</div>"
            ],
            "text/plain": [
              "           value1  value2\n",
              "key1 key2                \n",
              "one  a          1       2\n",
              "     b          3       4\n",
              "     c          5       6\n",
              "     d          7       8\n",
              "two  a          9      10\n",
              "     b         11      12\n",
              "     c         13      14\n",
              "     d         15      16"
            ]
          },
          "metadata": {
            "tags": []
          },
          "execution_count": 218
        }
      ]
    },
    {
      "cell_type": "markdown",
      "metadata": {
        "id": "VIWUts2GaiAR",
        "colab_type": "text"
      },
      "source": [
        "- 고정된 구분자 없이 공백이나 다른 패턴으로 필드를 구분한 경우\n",
        "  - 정규표현식으로 고치기"
      ]
    },
    {
      "cell_type": "code",
      "metadata": {
        "id": "rkHJ6MjHaggf",
        "colab_type": "code",
        "outputId": "c76222e3-1718-4b0d-e285-9dd3e75bf5b1",
        "colab": {
          "base_uri": "https://localhost:8080/",
          "height": 173
        }
      },
      "source": [
        "result = pd.read_table('ex3.txt', sep = '\\s+')\n",
        "result"
      ],
      "execution_count": 219,
      "outputs": [
        {
          "output_type": "execute_result",
          "data": {
            "text/html": [
              "<div>\n",
              "<style scoped>\n",
              "    .dataframe tbody tr th:only-of-type {\n",
              "        vertical-align: middle;\n",
              "    }\n",
              "\n",
              "    .dataframe tbody tr th {\n",
              "        vertical-align: top;\n",
              "    }\n",
              "\n",
              "    .dataframe thead th {\n",
              "        text-align: right;\n",
              "    }\n",
              "</style>\n",
              "<table border=\"1\" class=\"dataframe\">\n",
              "  <thead>\n",
              "    <tr style=\"text-align: right;\">\n",
              "      <th></th>\n",
              "      <th>A</th>\n",
              "      <th>B</th>\n",
              "      <th>C</th>\n",
              "    </tr>\n",
              "  </thead>\n",
              "  <tbody>\n",
              "    <tr>\n",
              "      <th>aaa</th>\n",
              "      <td>-0.264438</td>\n",
              "      <td>-1.026059</td>\n",
              "      <td>-0.619500</td>\n",
              "    </tr>\n",
              "    <tr>\n",
              "      <th>bbb</th>\n",
              "      <td>0.927272</td>\n",
              "      <td>0.302904</td>\n",
              "      <td>-0.032399</td>\n",
              "    </tr>\n",
              "    <tr>\n",
              "      <th>ccc</th>\n",
              "      <td>-0.264273</td>\n",
              "      <td>-0.386314</td>\n",
              "      <td>-0.217601</td>\n",
              "    </tr>\n",
              "    <tr>\n",
              "      <th>ddd</th>\n",
              "      <td>-0.871858</td>\n",
              "      <td>-0.348382</td>\n",
              "      <td>1.100491</td>\n",
              "    </tr>\n",
              "  </tbody>\n",
              "</table>\n",
              "</div>"
            ],
            "text/plain": [
              "            A         B         C\n",
              "aaa -0.264438 -1.026059 -0.619500\n",
              "bbb  0.927272  0.302904 -0.032399\n",
              "ccc -0.264273 -0.386314 -0.217601\n",
              "ddd -0.871858 -0.348382  1.100491"
            ]
          },
          "metadata": {
            "tags": []
          },
          "execution_count": 219
        }
      ]
    },
    {
      "cell_type": "markdown",
      "metadata": {
        "id": "jTzP3-yebr7z",
        "colab_type": "text"
      },
      "source": [
        "- 누락된 값 확인하기"
      ]
    },
    {
      "cell_type": "code",
      "metadata": {
        "id": "jOOPERLDbHmN",
        "colab_type": "code",
        "outputId": "14d01655-1cd5-472e-ee5b-9358e81d3a45",
        "colab": {
          "base_uri": "https://localhost:8080/",
          "height": 142
        }
      },
      "source": [
        "result = pd.read_csv('ex5.csv')\n",
        "result"
      ],
      "execution_count": 220,
      "outputs": [
        {
          "output_type": "execute_result",
          "data": {
            "text/html": [
              "<div>\n",
              "<style scoped>\n",
              "    .dataframe tbody tr th:only-of-type {\n",
              "        vertical-align: middle;\n",
              "    }\n",
              "\n",
              "    .dataframe tbody tr th {\n",
              "        vertical-align: top;\n",
              "    }\n",
              "\n",
              "    .dataframe thead th {\n",
              "        text-align: right;\n",
              "    }\n",
              "</style>\n",
              "<table border=\"1\" class=\"dataframe\">\n",
              "  <thead>\n",
              "    <tr style=\"text-align: right;\">\n",
              "      <th></th>\n",
              "      <th>something</th>\n",
              "      <th>a</th>\n",
              "      <th>b</th>\n",
              "      <th>c</th>\n",
              "      <th>d</th>\n",
              "      <th>message</th>\n",
              "    </tr>\n",
              "  </thead>\n",
              "  <tbody>\n",
              "    <tr>\n",
              "      <th>0</th>\n",
              "      <td>one</td>\n",
              "      <td>1</td>\n",
              "      <td>2</td>\n",
              "      <td>3.0</td>\n",
              "      <td>4</td>\n",
              "      <td>NaN</td>\n",
              "    </tr>\n",
              "    <tr>\n",
              "      <th>1</th>\n",
              "      <td>two</td>\n",
              "      <td>5</td>\n",
              "      <td>6</td>\n",
              "      <td>NaN</td>\n",
              "      <td>8</td>\n",
              "      <td>world</td>\n",
              "    </tr>\n",
              "    <tr>\n",
              "      <th>2</th>\n",
              "      <td>three</td>\n",
              "      <td>9</td>\n",
              "      <td>10</td>\n",
              "      <td>11.0</td>\n",
              "      <td>12</td>\n",
              "      <td>foo</td>\n",
              "    </tr>\n",
              "  </tbody>\n",
              "</table>\n",
              "</div>"
            ],
            "text/plain": [
              "  something  a   b     c   d message\n",
              "0       one  1   2   3.0   4     NaN\n",
              "1       two  5   6   NaN   8   world\n",
              "2     three  9  10  11.0  12     foo"
            ]
          },
          "metadata": {
            "tags": []
          },
          "execution_count": 220
        }
      ]
    },
    {
      "cell_type": "code",
      "metadata": {
        "id": "sBFIMmEHaZm5",
        "colab_type": "code",
        "outputId": "d4fd7fcb-09ad-438c-c182-721b0e537425",
        "colab": {
          "base_uri": "https://localhost:8080/",
          "height": 142
        }
      },
      "source": [
        "pd.isnull(result)"
      ],
      "execution_count": 221,
      "outputs": [
        {
          "output_type": "execute_result",
          "data": {
            "text/html": [
              "<div>\n",
              "<style scoped>\n",
              "    .dataframe tbody tr th:only-of-type {\n",
              "        vertical-align: middle;\n",
              "    }\n",
              "\n",
              "    .dataframe tbody tr th {\n",
              "        vertical-align: top;\n",
              "    }\n",
              "\n",
              "    .dataframe thead th {\n",
              "        text-align: right;\n",
              "    }\n",
              "</style>\n",
              "<table border=\"1\" class=\"dataframe\">\n",
              "  <thead>\n",
              "    <tr style=\"text-align: right;\">\n",
              "      <th></th>\n",
              "      <th>something</th>\n",
              "      <th>a</th>\n",
              "      <th>b</th>\n",
              "      <th>c</th>\n",
              "      <th>d</th>\n",
              "      <th>message</th>\n",
              "    </tr>\n",
              "  </thead>\n",
              "  <tbody>\n",
              "    <tr>\n",
              "      <th>0</th>\n",
              "      <td>False</td>\n",
              "      <td>False</td>\n",
              "      <td>False</td>\n",
              "      <td>False</td>\n",
              "      <td>False</td>\n",
              "      <td>True</td>\n",
              "    </tr>\n",
              "    <tr>\n",
              "      <th>1</th>\n",
              "      <td>False</td>\n",
              "      <td>False</td>\n",
              "      <td>False</td>\n",
              "      <td>True</td>\n",
              "      <td>False</td>\n",
              "      <td>False</td>\n",
              "    </tr>\n",
              "    <tr>\n",
              "      <th>2</th>\n",
              "      <td>False</td>\n",
              "      <td>False</td>\n",
              "      <td>False</td>\n",
              "      <td>False</td>\n",
              "      <td>False</td>\n",
              "      <td>False</td>\n",
              "    </tr>\n",
              "  </tbody>\n",
              "</table>\n",
              "</div>"
            ],
            "text/plain": [
              "   something      a      b      c      d  message\n",
              "0      False  False  False  False  False     True\n",
              "1      False  False  False   True  False    False\n",
              "2      False  False  False  False  False    False"
            ]
          },
          "metadata": {
            "tags": []
          },
          "execution_count": 221
        }
      ]
    },
    {
      "cell_type": "markdown",
      "metadata": {
        "id": "Iq8doEs3f45b",
        "colab_type": "text"
      },
      "source": [
        "- na-values 옵션은 리스트나 문자열 집합을 받아서 누락된 값을 처리한다"
      ]
    },
    {
      "cell_type": "code",
      "metadata": {
        "id": "eV1KBtc1b_lm",
        "colab_type": "code",
        "outputId": "9f5d70f1-8582-4ece-f9ed-3697098023d2",
        "colab": {
          "base_uri": "https://localhost:8080/",
          "height": 142
        }
      },
      "source": [
        "result = pd.read_csv('ex5.csv', na_values = ['NULL'])\n",
        "result\n",
        "       "
      ],
      "execution_count": 222,
      "outputs": [
        {
          "output_type": "execute_result",
          "data": {
            "text/html": [
              "<div>\n",
              "<style scoped>\n",
              "    .dataframe tbody tr th:only-of-type {\n",
              "        vertical-align: middle;\n",
              "    }\n",
              "\n",
              "    .dataframe tbody tr th {\n",
              "        vertical-align: top;\n",
              "    }\n",
              "\n",
              "    .dataframe thead th {\n",
              "        text-align: right;\n",
              "    }\n",
              "</style>\n",
              "<table border=\"1\" class=\"dataframe\">\n",
              "  <thead>\n",
              "    <tr style=\"text-align: right;\">\n",
              "      <th></th>\n",
              "      <th>something</th>\n",
              "      <th>a</th>\n",
              "      <th>b</th>\n",
              "      <th>c</th>\n",
              "      <th>d</th>\n",
              "      <th>message</th>\n",
              "    </tr>\n",
              "  </thead>\n",
              "  <tbody>\n",
              "    <tr>\n",
              "      <th>0</th>\n",
              "      <td>one</td>\n",
              "      <td>1</td>\n",
              "      <td>2</td>\n",
              "      <td>3.0</td>\n",
              "      <td>4</td>\n",
              "      <td>NaN</td>\n",
              "    </tr>\n",
              "    <tr>\n",
              "      <th>1</th>\n",
              "      <td>two</td>\n",
              "      <td>5</td>\n",
              "      <td>6</td>\n",
              "      <td>NaN</td>\n",
              "      <td>8</td>\n",
              "      <td>world</td>\n",
              "    </tr>\n",
              "    <tr>\n",
              "      <th>2</th>\n",
              "      <td>three</td>\n",
              "      <td>9</td>\n",
              "      <td>10</td>\n",
              "      <td>11.0</td>\n",
              "      <td>12</td>\n",
              "      <td>foo</td>\n",
              "    </tr>\n",
              "  </tbody>\n",
              "</table>\n",
              "</div>"
            ],
            "text/plain": [
              "  something  a   b     c   d message\n",
              "0       one  1   2   3.0   4     NaN\n",
              "1       two  5   6   NaN   8   world\n",
              "2     three  9  10  11.0  12     foo"
            ]
          },
          "metadata": {
            "tags": []
          },
          "execution_count": 222
        }
      ]
    },
    {
      "cell_type": "code",
      "metadata": {
        "id": "kjnY_WmYgLep",
        "colab_type": "code",
        "outputId": "8d55d301-cf30-4f3d-c70f-3a9bc58e807f",
        "colab": {
          "base_uri": "https://localhost:8080/",
          "height": 142
        }
      },
      "source": [
        "sentinels = {'message': ['foo', 'NA'], 'something': ['two']}\n",
        "pd.read_csv('ex5.csv', na_values=sentinels)"
      ],
      "execution_count": 223,
      "outputs": [
        {
          "output_type": "execute_result",
          "data": {
            "text/html": [
              "<div>\n",
              "<style scoped>\n",
              "    .dataframe tbody tr th:only-of-type {\n",
              "        vertical-align: middle;\n",
              "    }\n",
              "\n",
              "    .dataframe tbody tr th {\n",
              "        vertical-align: top;\n",
              "    }\n",
              "\n",
              "    .dataframe thead th {\n",
              "        text-align: right;\n",
              "    }\n",
              "</style>\n",
              "<table border=\"1\" class=\"dataframe\">\n",
              "  <thead>\n",
              "    <tr style=\"text-align: right;\">\n",
              "      <th></th>\n",
              "      <th>something</th>\n",
              "      <th>a</th>\n",
              "      <th>b</th>\n",
              "      <th>c</th>\n",
              "      <th>d</th>\n",
              "      <th>message</th>\n",
              "    </tr>\n",
              "  </thead>\n",
              "  <tbody>\n",
              "    <tr>\n",
              "      <th>0</th>\n",
              "      <td>one</td>\n",
              "      <td>1</td>\n",
              "      <td>2</td>\n",
              "      <td>3.0</td>\n",
              "      <td>4</td>\n",
              "      <td>NaN</td>\n",
              "    </tr>\n",
              "    <tr>\n",
              "      <th>1</th>\n",
              "      <td>NaN</td>\n",
              "      <td>5</td>\n",
              "      <td>6</td>\n",
              "      <td>NaN</td>\n",
              "      <td>8</td>\n",
              "      <td>world</td>\n",
              "    </tr>\n",
              "    <tr>\n",
              "      <th>2</th>\n",
              "      <td>three</td>\n",
              "      <td>9</td>\n",
              "      <td>10</td>\n",
              "      <td>11.0</td>\n",
              "      <td>12</td>\n",
              "      <td>NaN</td>\n",
              "    </tr>\n",
              "  </tbody>\n",
              "</table>\n",
              "</div>"
            ],
            "text/plain": [
              "  something  a   b     c   d message\n",
              "0       one  1   2   3.0   4     NaN\n",
              "1       NaN  5   6   NaN   8   world\n",
              "2     three  9  10  11.0  12     NaN"
            ]
          },
          "metadata": {
            "tags": []
          },
          "execution_count": 223
        }
      ]
    },
    {
      "cell_type": "markdown",
      "metadata": {
        "id": "NbzCeOOmghlm",
        "colab_type": "text"
      },
      "source": [
        "#### 6.1.1 텍스트파일 조금씩 읽어오기"
      ]
    },
    {
      "cell_type": "code",
      "metadata": {
        "id": "nNHWV0D_gfMg",
        "colab_type": "code",
        "outputId": "da03896e-a916-48ec-dfe1-1ef3befd3bad",
        "colab": {
          "base_uri": "https://localhost:8080/",
          "height": 419
        }
      },
      "source": [
        "result = pd.read_csv('ex6.csv')\n",
        "result"
      ],
      "execution_count": 224,
      "outputs": [
        {
          "output_type": "execute_result",
          "data": {
            "text/html": [
              "<div>\n",
              "<style scoped>\n",
              "    .dataframe tbody tr th:only-of-type {\n",
              "        vertical-align: middle;\n",
              "    }\n",
              "\n",
              "    .dataframe tbody tr th {\n",
              "        vertical-align: top;\n",
              "    }\n",
              "\n",
              "    .dataframe thead th {\n",
              "        text-align: right;\n",
              "    }\n",
              "</style>\n",
              "<table border=\"1\" class=\"dataframe\">\n",
              "  <thead>\n",
              "    <tr style=\"text-align: right;\">\n",
              "      <th></th>\n",
              "      <th>one</th>\n",
              "      <th>two</th>\n",
              "      <th>three</th>\n",
              "      <th>four</th>\n",
              "      <th>key</th>\n",
              "    </tr>\n",
              "  </thead>\n",
              "  <tbody>\n",
              "    <tr>\n",
              "      <th>0</th>\n",
              "      <td>0.467976</td>\n",
              "      <td>-0.038649</td>\n",
              "      <td>-0.295344</td>\n",
              "      <td>-1.824726</td>\n",
              "      <td>L</td>\n",
              "    </tr>\n",
              "    <tr>\n",
              "      <th>1</th>\n",
              "      <td>-0.358893</td>\n",
              "      <td>1.404453</td>\n",
              "      <td>0.704965</td>\n",
              "      <td>-0.200638</td>\n",
              "      <td>B</td>\n",
              "    </tr>\n",
              "    <tr>\n",
              "      <th>2</th>\n",
              "      <td>-0.501840</td>\n",
              "      <td>0.659254</td>\n",
              "      <td>-0.421691</td>\n",
              "      <td>-0.057688</td>\n",
              "      <td>G</td>\n",
              "    </tr>\n",
              "    <tr>\n",
              "      <th>3</th>\n",
              "      <td>0.204886</td>\n",
              "      <td>1.074134</td>\n",
              "      <td>1.388361</td>\n",
              "      <td>-0.982404</td>\n",
              "      <td>R</td>\n",
              "    </tr>\n",
              "    <tr>\n",
              "      <th>4</th>\n",
              "      <td>0.354628</td>\n",
              "      <td>-0.133116</td>\n",
              "      <td>0.283763</td>\n",
              "      <td>-0.837063</td>\n",
              "      <td>Q</td>\n",
              "    </tr>\n",
              "    <tr>\n",
              "      <th>...</th>\n",
              "      <td>...</td>\n",
              "      <td>...</td>\n",
              "      <td>...</td>\n",
              "      <td>...</td>\n",
              "      <td>...</td>\n",
              "    </tr>\n",
              "    <tr>\n",
              "      <th>9995</th>\n",
              "      <td>2.311896</td>\n",
              "      <td>-0.417070</td>\n",
              "      <td>-1.409599</td>\n",
              "      <td>-0.515821</td>\n",
              "      <td>L</td>\n",
              "    </tr>\n",
              "    <tr>\n",
              "      <th>9996</th>\n",
              "      <td>-0.479893</td>\n",
              "      <td>-0.650419</td>\n",
              "      <td>0.745152</td>\n",
              "      <td>-0.646038</td>\n",
              "      <td>E</td>\n",
              "    </tr>\n",
              "    <tr>\n",
              "      <th>9997</th>\n",
              "      <td>0.523331</td>\n",
              "      <td>0.787112</td>\n",
              "      <td>0.486066</td>\n",
              "      <td>1.093156</td>\n",
              "      <td>K</td>\n",
              "    </tr>\n",
              "    <tr>\n",
              "      <th>9998</th>\n",
              "      <td>-0.362559</td>\n",
              "      <td>0.598894</td>\n",
              "      <td>-1.843201</td>\n",
              "      <td>0.887292</td>\n",
              "      <td>G</td>\n",
              "    </tr>\n",
              "    <tr>\n",
              "      <th>9999</th>\n",
              "      <td>-0.096376</td>\n",
              "      <td>-1.012999</td>\n",
              "      <td>-0.657431</td>\n",
              "      <td>-0.573315</td>\n",
              "      <td>0</td>\n",
              "    </tr>\n",
              "  </tbody>\n",
              "</table>\n",
              "<p>10000 rows × 5 columns</p>\n",
              "</div>"
            ],
            "text/plain": [
              "           one       two     three      four key\n",
              "0     0.467976 -0.038649 -0.295344 -1.824726   L\n",
              "1    -0.358893  1.404453  0.704965 -0.200638   B\n",
              "2    -0.501840  0.659254 -0.421691 -0.057688   G\n",
              "3     0.204886  1.074134  1.388361 -0.982404   R\n",
              "4     0.354628 -0.133116  0.283763 -0.837063   Q\n",
              "...        ...       ...       ...       ...  ..\n",
              "9995  2.311896 -0.417070 -1.409599 -0.515821   L\n",
              "9996 -0.479893 -0.650419  0.745152 -0.646038   E\n",
              "9997  0.523331  0.787112  0.486066  1.093156   K\n",
              "9998 -0.362559  0.598894 -1.843201  0.887292   G\n",
              "9999 -0.096376 -1.012999 -0.657431 -0.573315   0\n",
              "\n",
              "[10000 rows x 5 columns]"
            ]
          },
          "metadata": {
            "tags": []
          },
          "execution_count": 224
        }
      ]
    },
    {
      "cell_type": "code",
      "metadata": {
        "id": "T2i3Of-Ig4Q_",
        "colab_type": "code",
        "outputId": "8400f060-f69f-4439-8deb-1f3457c16648",
        "colab": {
          "base_uri": "https://localhost:8080/",
          "height": 204
        }
      },
      "source": [
        "pd.read_csv('ex6.csv', nrows = 5)"
      ],
      "execution_count": 225,
      "outputs": [
        {
          "output_type": "execute_result",
          "data": {
            "text/html": [
              "<div>\n",
              "<style scoped>\n",
              "    .dataframe tbody tr th:only-of-type {\n",
              "        vertical-align: middle;\n",
              "    }\n",
              "\n",
              "    .dataframe tbody tr th {\n",
              "        vertical-align: top;\n",
              "    }\n",
              "\n",
              "    .dataframe thead th {\n",
              "        text-align: right;\n",
              "    }\n",
              "</style>\n",
              "<table border=\"1\" class=\"dataframe\">\n",
              "  <thead>\n",
              "    <tr style=\"text-align: right;\">\n",
              "      <th></th>\n",
              "      <th>one</th>\n",
              "      <th>two</th>\n",
              "      <th>three</th>\n",
              "      <th>four</th>\n",
              "      <th>key</th>\n",
              "    </tr>\n",
              "  </thead>\n",
              "  <tbody>\n",
              "    <tr>\n",
              "      <th>0</th>\n",
              "      <td>0.467976</td>\n",
              "      <td>-0.038649</td>\n",
              "      <td>-0.295344</td>\n",
              "      <td>-1.824726</td>\n",
              "      <td>L</td>\n",
              "    </tr>\n",
              "    <tr>\n",
              "      <th>1</th>\n",
              "      <td>-0.358893</td>\n",
              "      <td>1.404453</td>\n",
              "      <td>0.704965</td>\n",
              "      <td>-0.200638</td>\n",
              "      <td>B</td>\n",
              "    </tr>\n",
              "    <tr>\n",
              "      <th>2</th>\n",
              "      <td>-0.501840</td>\n",
              "      <td>0.659254</td>\n",
              "      <td>-0.421691</td>\n",
              "      <td>-0.057688</td>\n",
              "      <td>G</td>\n",
              "    </tr>\n",
              "    <tr>\n",
              "      <th>3</th>\n",
              "      <td>0.204886</td>\n",
              "      <td>1.074134</td>\n",
              "      <td>1.388361</td>\n",
              "      <td>-0.982404</td>\n",
              "      <td>R</td>\n",
              "    </tr>\n",
              "    <tr>\n",
              "      <th>4</th>\n",
              "      <td>0.354628</td>\n",
              "      <td>-0.133116</td>\n",
              "      <td>0.283763</td>\n",
              "      <td>-0.837063</td>\n",
              "      <td>Q</td>\n",
              "    </tr>\n",
              "  </tbody>\n",
              "</table>\n",
              "</div>"
            ],
            "text/plain": [
              "        one       two     three      four key\n",
              "0  0.467976 -0.038649 -0.295344 -1.824726   L\n",
              "1 -0.358893  1.404453  0.704965 -0.200638   B\n",
              "2 -0.501840  0.659254 -0.421691 -0.057688   G\n",
              "3  0.204886  1.074134  1.388361 -0.982404   R\n",
              "4  0.354628 -0.133116  0.283763 -0.837063   Q"
            ]
          },
          "metadata": {
            "tags": []
          },
          "execution_count": 225
        }
      ]
    },
    {
      "cell_type": "markdown",
      "metadata": {
        "id": "Zn3yiqL-hHKz",
        "colab_type": "text"
      },
      "source": [
        "- chunksize 옵션으로 row 개수를 나눠서 읽을 수 있다"
      ]
    },
    {
      "cell_type": "code",
      "metadata": {
        "id": "cbHT5dOXg91M",
        "colab_type": "code",
        "colab": {}
      },
      "source": [
        "chunker = pd.read_csv('ex6.csv', chunksize= 1000)\n",
        "\n",
        "# TextParser 객체를 이용해 chunksize에 따라 분리된 파일들을 순회 가능\n",
        "# ex6.csv 파일을 순회하면서 key 값 세어보기\n",
        "\n",
        "tot = pd.Series([])\n",
        "\n",
        "for piece in chunker:\n",
        "  tot = tot.add(piece['key'].value_counts(), fill_value=0)\n",
        "tot = tot.sort_values(ascending = False)"
      ],
      "execution_count": 0,
      "outputs": []
    },
    {
      "cell_type": "code",
      "metadata": {
        "id": "f8s2bn8KiAuV",
        "colab_type": "code",
        "outputId": "fbed40da-8313-4e88-c196-509cfa94a9fe",
        "colab": {
          "base_uri": "https://localhost:8080/",
          "height": 204
        }
      },
      "source": [
        "tot[:10]"
      ],
      "execution_count": 227,
      "outputs": [
        {
          "output_type": "execute_result",
          "data": {
            "text/plain": [
              "E    368.0\n",
              "X    364.0\n",
              "L    346.0\n",
              "O    343.0\n",
              "Q    340.0\n",
              "M    338.0\n",
              "J    337.0\n",
              "F    335.0\n",
              "K    334.0\n",
              "H    330.0\n",
              "dtype: float64"
            ]
          },
          "metadata": {
            "tags": []
          },
          "execution_count": 227
        }
      ]
    },
    {
      "cell_type": "markdown",
      "metadata": {
        "id": "MWygDfT9iF0E",
        "colab_type": "text"
      },
      "source": [
        "#### 6.1.2 데이터를 텍스트 형식으로 기록\n",
        "- 읽어오기와 마찬가지로 데이터를 구분자로 내보내는 것도 가능"
      ]
    },
    {
      "cell_type": "code",
      "metadata": {
        "id": "DPUF10ZziCXv",
        "colab_type": "code",
        "outputId": "1df5b8da-a690-44a7-de51-b710f414ca29",
        "colab": {
          "base_uri": "https://localhost:8080/",
          "height": 142
        }
      },
      "source": [
        "data = pd.read_csv('ex5.csv')\n",
        "data"
      ],
      "execution_count": 228,
      "outputs": [
        {
          "output_type": "execute_result",
          "data": {
            "text/html": [
              "<div>\n",
              "<style scoped>\n",
              "    .dataframe tbody tr th:only-of-type {\n",
              "        vertical-align: middle;\n",
              "    }\n",
              "\n",
              "    .dataframe tbody tr th {\n",
              "        vertical-align: top;\n",
              "    }\n",
              "\n",
              "    .dataframe thead th {\n",
              "        text-align: right;\n",
              "    }\n",
              "</style>\n",
              "<table border=\"1\" class=\"dataframe\">\n",
              "  <thead>\n",
              "    <tr style=\"text-align: right;\">\n",
              "      <th></th>\n",
              "      <th>something</th>\n",
              "      <th>a</th>\n",
              "      <th>b</th>\n",
              "      <th>c</th>\n",
              "      <th>d</th>\n",
              "      <th>message</th>\n",
              "    </tr>\n",
              "  </thead>\n",
              "  <tbody>\n",
              "    <tr>\n",
              "      <th>0</th>\n",
              "      <td>one</td>\n",
              "      <td>1</td>\n",
              "      <td>2</td>\n",
              "      <td>3.0</td>\n",
              "      <td>4</td>\n",
              "      <td>NaN</td>\n",
              "    </tr>\n",
              "    <tr>\n",
              "      <th>1</th>\n",
              "      <td>two</td>\n",
              "      <td>5</td>\n",
              "      <td>6</td>\n",
              "      <td>NaN</td>\n",
              "      <td>8</td>\n",
              "      <td>world</td>\n",
              "    </tr>\n",
              "    <tr>\n",
              "      <th>2</th>\n",
              "      <td>three</td>\n",
              "      <td>9</td>\n",
              "      <td>10</td>\n",
              "      <td>11.0</td>\n",
              "      <td>12</td>\n",
              "      <td>foo</td>\n",
              "    </tr>\n",
              "  </tbody>\n",
              "</table>\n",
              "</div>"
            ],
            "text/plain": [
              "  something  a   b     c   d message\n",
              "0       one  1   2   3.0   4     NaN\n",
              "1       two  5   6   NaN   8   world\n",
              "2     three  9  10  11.0  12     foo"
            ]
          },
          "metadata": {
            "tags": []
          },
          "execution_count": 228
        }
      ]
    },
    {
      "cell_type": "markdown",
      "metadata": {
        "id": "yUT2KuHKFi1m",
        "colab_type": "text"
      },
      "source": [
        "- to.csv 메서드를 이용하면 데이터를 쉼표로 구분된 형식으로 파일에 쓸 수 있음"
      ]
    },
    {
      "cell_type": "code",
      "metadata": {
        "id": "zecpzYIAjifj",
        "colab_type": "code",
        "colab": {
          "base_uri": "https://localhost:8080/",
          "height": 85
        },
        "outputId": "9bb44448-c196-42aa-fe57-1606f314a819"
      },
      "source": [
        "data.to_csv('ex5.csv')\n",
        "!cat out.csv"
      ],
      "execution_count": 229,
      "outputs": [
        {
          "output_type": "stream",
          "text": [
            ",something,a,b,c,d,message\n",
            "0,one,1,2,3.0,4,\n",
            "1,two,5,6,,8,world\n",
            "2,three,9,10,11.0,12,foo\n"
          ],
          "name": "stdout"
        }
      ]
    },
    {
      "cell_type": "markdown",
      "metadata": {
        "id": "uL_qUpHnGQDY",
        "colab_type": "text"
      },
      "source": [
        "- 다른 구분자도 가능(콘솔에서 확인 가능하도록 실제 파일로 기록하지 않고, sys.stdout에 기록)"
      ]
    },
    {
      "cell_type": "code",
      "metadata": {
        "id": "j3TqPG9KGNBl",
        "colab_type": "code",
        "colab": {
          "base_uri": "https://localhost:8080/",
          "height": 85
        },
        "outputId": "fcf328e9-9781-40b4-e398-a51691532dc0"
      },
      "source": [
        "import sys\n",
        "\n",
        "data.to_csv(sys.stdout, sep = '|')"
      ],
      "execution_count": 230,
      "outputs": [
        {
          "output_type": "stream",
          "text": [
            "|something|a|b|c|d|message\n",
            "0|one|1|2|3.0|4|\n",
            "1|two|5|6||8|world\n",
            "2|three|9|10|11.0|12|foo\n"
          ],
          "name": "stdout"
        }
      ]
    },
    {
      "cell_type": "markdown",
      "metadata": {
        "id": "tYWdGjqQGY4N",
        "colab_type": "text"
      },
      "source": [
        "- 결과에서 누락된 값은 빈 문자열로 나타나는데, 원하는 값으로 지정 가능"
      ]
    },
    {
      "cell_type": "code",
      "metadata": {
        "id": "PPJ_VL1CGeIM",
        "colab_type": "code",
        "colab": {
          "base_uri": "https://localhost:8080/",
          "height": 85
        },
        "outputId": "35760211-2336-441b-cf5e-26abfe28bb87"
      },
      "source": [
        "data.to_csv(sys.stdout, na_rep = 'NULL')"
      ],
      "execution_count": 231,
      "outputs": [
        {
          "output_type": "stream",
          "text": [
            ",something,a,b,c,d,message\n",
            "0,one,1,2,3.0,4,NULL\n",
            "1,two,5,6,NULL,8,world\n",
            "2,three,9,10,11.0,12,foo\n"
          ],
          "name": "stdout"
        }
      ]
    },
    {
      "cell_type": "markdown",
      "metadata": {
        "id": "LfmQwllzGnrK",
        "colab_type": "text"
      },
      "source": [
        "- row, column 이름 포함하지 않기"
      ]
    },
    {
      "cell_type": "code",
      "metadata": {
        "id": "fDohkRbYGqcU",
        "colab_type": "code",
        "colab": {
          "base_uri": "https://localhost:8080/",
          "height": 68
        },
        "outputId": "91e1eaa3-b446-4fe3-be0b-c5377972448c"
      },
      "source": [
        "data.to_csv(sys.stdout, index = False, header = False)"
      ],
      "execution_count": 232,
      "outputs": [
        {
          "output_type": "stream",
          "text": [
            "one,1,2,3.0,4,\n",
            "two,5,6,,8,world\n",
            "three,9,10,11.0,12,foo\n"
          ],
          "name": "stdout"
        }
      ]
    },
    {
      "cell_type": "markdown",
      "metadata": {
        "id": "60i63dzlGw8Q",
        "colab_type": "text"
      },
      "source": [
        "- 일부기록 혹은 순서 지정"
      ]
    },
    {
      "cell_type": "code",
      "metadata": {
        "id": "eFHNhuyoG0qW",
        "colab_type": "code",
        "colab": {
          "base_uri": "https://localhost:8080/",
          "height": 85
        },
        "outputId": "0052c739-67a6-4bbb-f9ec-925060be38b7"
      },
      "source": [
        "data.to_csv(sys.stdout, index = False, columns = ['a', 'b', 'c'])"
      ],
      "execution_count": 233,
      "outputs": [
        {
          "output_type": "stream",
          "text": [
            "a,b,c\n",
            "1,2,3.0\n",
            "5,6,\n",
            "9,10,11.0\n"
          ],
          "name": "stdout"
        }
      ]
    },
    {
      "cell_type": "markdown",
      "metadata": {
        "id": "_pEYnlhgmXOP",
        "colab_type": "text"
      },
      "source": [
        "#### 6.1.3 구분자 형식 다루기"
      ]
    },
    {
      "cell_type": "markdown",
      "metadata": {
        "id": "BbYRfrY_4Lfw",
        "colab_type": "text"
      },
      "source": [
        "- 파일을 읽듯이 reader을 순회하면 큰따옴표가 제거된 튜플 획득 가능"
      ]
    },
    {
      "cell_type": "code",
      "metadata": {
        "id": "9gCAsi4ZmV0-",
        "colab_type": "code",
        "outputId": "04a86cf4-f163-4cc8-c0ca-d0b44c2dce7c",
        "colab": {
          "base_uri": "https://localhost:8080/",
          "height": 111
        }
      },
      "source": [
        "data = pd.read_csv('ex7.csv')\n",
        "data"
      ],
      "execution_count": 234,
      "outputs": [
        {
          "output_type": "execute_result",
          "data": {
            "text/html": [
              "<div>\n",
              "<style scoped>\n",
              "    .dataframe tbody tr th:only-of-type {\n",
              "        vertical-align: middle;\n",
              "    }\n",
              "\n",
              "    .dataframe tbody tr th {\n",
              "        vertical-align: top;\n",
              "    }\n",
              "\n",
              "    .dataframe thead th {\n",
              "        text-align: right;\n",
              "    }\n",
              "</style>\n",
              "<table border=\"1\" class=\"dataframe\">\n",
              "  <thead>\n",
              "    <tr style=\"text-align: right;\">\n",
              "      <th></th>\n",
              "      <th>a</th>\n",
              "      <th>b</th>\n",
              "      <th>c</th>\n",
              "    </tr>\n",
              "  </thead>\n",
              "  <tbody>\n",
              "    <tr>\n",
              "      <th>0</th>\n",
              "      <td>1</td>\n",
              "      <td>2</td>\n",
              "      <td>3</td>\n",
              "    </tr>\n",
              "    <tr>\n",
              "      <th>1</th>\n",
              "      <td>1</td>\n",
              "      <td>2</td>\n",
              "      <td>3</td>\n",
              "    </tr>\n",
              "  </tbody>\n",
              "</table>\n",
              "</div>"
            ],
            "text/plain": [
              "   a  b  c\n",
              "0  1  2  3\n",
              "1  1  2  3"
            ]
          },
          "metadata": {
            "tags": []
          },
          "execution_count": 234
        }
      ]
    },
    {
      "cell_type": "markdown",
      "metadata": {
        "id": "IIIaHId7Hjbx",
        "colab_type": "text"
      },
      "source": [
        "- 구분자가 한 글자인 파일은 파이썬 내장 csv 모듈로 처리할 수 있는데, 열려진 파일 객체를 csv.reader로 넘기면 됨"
      ]
    },
    {
      "cell_type": "code",
      "metadata": {
        "id": "Gnpq5lOHIORN",
        "colab_type": "code",
        "colab": {
          "base_uri": "https://localhost:8080/",
          "height": 68
        },
        "outputId": "d10e7537-7296-4ab7-8f8e-a65ecc36fe1f"
      },
      "source": [
        "import csv\n",
        "f = open('ex7.csv')\n",
        "reader = csv.reader(f)\n",
        "\n",
        "for line in reader:\n",
        "  print(line)"
      ],
      "execution_count": 235,
      "outputs": [
        {
          "output_type": "stream",
          "text": [
            "['a', 'b', 'c']\n",
            "['1', '2', '3']\n",
            "['1', '2', '3']\n"
          ],
          "name": "stdout"
        }
      ]
    },
    {
      "cell_type": "markdown",
      "metadata": {
        "id": "Vry-3KCDIeGU",
        "colab_type": "text"
      },
      "source": [
        "- 파일을 읽어줄 단위를 리스트로 저장하고, 헤더와 데이터를 구분한다"
      ]
    },
    {
      "cell_type": "code",
      "metadata": {
        "id": "D3F5XzWLIWrd",
        "colab_type": "code",
        "colab": {}
      },
      "source": [
        "with open('ex7.csv') as f:\n",
        "  lines = list(csv.reader(f))\n",
        "\n",
        "header, values = lines[0], lines[1:]"
      ],
      "execution_count": 0,
      "outputs": []
    },
    {
      "cell_type": "markdown",
      "metadata": {
        "id": "Kfkxcuh5Izxh",
        "colab_type": "text"
      },
      "source": [
        "- 사전 표기법과 row를 컬럼으로 전치해주는 zip(*values)를 이용하여 데이터 컬럼 사전을 만들 수 있다"
      ]
    },
    {
      "cell_type": "code",
      "metadata": {
        "id": "y6bOsYK6Iybv",
        "colab_type": "code",
        "colab": {
          "base_uri": "https://localhost:8080/",
          "height": 34
        },
        "outputId": "67a31bb4-0867-4d00-c738-932ea89a1462"
      },
      "source": [
        "data_dict = {h: v for h, v in zip(header, zip(*values))}\n",
        "data_dict"
      ],
      "execution_count": 237,
      "outputs": [
        {
          "output_type": "execute_result",
          "data": {
            "text/plain": [
              "{'a': ('1', '1'), 'b': ('2', '2'), 'c': ('3', '3')}"
            ]
          },
          "metadata": {
            "tags": []
          },
          "execution_count": 237
        }
      ]
    },
    {
      "cell_type": "markdown",
      "metadata": {
        "id": "lvYyM9KBJ4YJ",
        "colab_type": "text"
      },
      "source": [
        "#### 6.1.4 JSON 데이터 \n",
        "- JSON은 웹브라이저와 다른 애플리케이션이 HTTP 요청으로 데이터를 보낼 때 널리 사용하는 표준 파일 형식. JSON은 CSV 같은 표 형식보다 더 유연함"
      ]
    },
    {
      "cell_type": "code",
      "metadata": {
        "id": "GrLuD6JuJytF",
        "colab_type": "code",
        "colab": {}
      },
      "source": [
        "#예시\n",
        "obj = \"\"\"\n",
        "{\"name\": \"Wes\",\n",
        " \"places_lived\": [\"United States\", \"Spain\", \"Germany\"],\n",
        " \"pet\": null,\n",
        " \"siblings\": [{\"name\": \"Scott\", \"age\": 30, \"pets\": [\"Zeus\", \"Zuko\"]},\n",
        "              {\"name\": \"Katie\", \"age\": 38,\n",
        "               \"pets\": [\"Sixes\", \"Stache\", \"Cisco\"]}]\n",
        "}\n",
        "\"\"\""
      ],
      "execution_count": 0,
      "outputs": []
    },
    {
      "cell_type": "markdown",
      "metadata": {
        "id": "dQmHZ8gzOzuz",
        "colab_type": "text"
      },
      "source": [
        "- JSON은 일부를 제외하면 파이썬 코드와 유사. 객체의 키는 반드시 문자열이어야 함\n",
        "- 파이썬 표준 라이브러리인 json를 통해 다룰 수 있음"
      ]
    },
    {
      "cell_type": "code",
      "metadata": {
        "id": "fsaqs4LTOtb3",
        "colab_type": "code",
        "colab": {
          "base_uri": "https://localhost:8080/",
          "height": 102
        },
        "outputId": "39d5bad0-6154-47fd-e812-2ad5a7fa4204"
      },
      "source": [
        "import json\n",
        "result = json.loads(obj)\n",
        "result"
      ],
      "execution_count": 239,
      "outputs": [
        {
          "output_type": "execute_result",
          "data": {
            "text/plain": [
              "{'name': 'Wes',\n",
              " 'pet': None,\n",
              " 'places_lived': ['United States', 'Spain', 'Germany'],\n",
              " 'siblings': [{'age': 30, 'name': 'Scott', 'pets': ['Zeus', 'Zuko']},\n",
              "  {'age': 38, 'name': 'Katie', 'pets': ['Sixes', 'Stache', 'Cisco']}]}"
            ]
          },
          "metadata": {
            "tags": []
          },
          "execution_count": 239
        }
      ]
    },
    {
      "cell_type": "markdown",
      "metadata": {
        "id": "6jI--vS8PHE6",
        "colab_type": "text"
      },
      "source": [
        "- json.dumps는 파이썬 객체를 json 형태로 변환"
      ]
    },
    {
      "cell_type": "code",
      "metadata": {
        "id": "9cms11lBOyXy",
        "colab_type": "code",
        "colab": {
          "base_uri": "https://localhost:8080/",
          "height": 54
        },
        "outputId": "202497d2-9c2a-4782-e583-6553d85f3568"
      },
      "source": [
        "asjson = json.dumps(result)\n",
        "asjson"
      ],
      "execution_count": 240,
      "outputs": [
        {
          "output_type": "execute_result",
          "data": {
            "text/plain": [
              "'{\"name\": \"Wes\", \"places_lived\": [\"United States\", \"Spain\", \"Germany\"], \"pet\": null, \"siblings\": [{\"name\": \"Scott\", \"age\": 30, \"pets\": [\"Zeus\", \"Zuko\"]}, {\"name\": \"Katie\", \"age\": 38, \"pets\": [\"Sixes\", \"Stache\", \"Cisco\"]}]}'"
            ]
          },
          "metadata": {
            "tags": []
          },
          "execution_count": 240
        }
      ]
    },
    {
      "cell_type": "markdown",
      "metadata": {
        "id": "6Mms4huqPTxN",
        "colab_type": "text"
      },
      "source": [
        "- 객체의 리스트를 사전을 담고 있는 리스트로 변환, DataFrame 생성자로 넘기고 데이터 필드 선택 가능"
      ]
    },
    {
      "cell_type": "code",
      "metadata": {
        "id": "i398EbgVPPJA",
        "colab_type": "code",
        "colab": {
          "base_uri": "https://localhost:8080/",
          "height": 111
        },
        "outputId": "02d177fe-740d-49ac-f7e0-33d7288df81e"
      },
      "source": [
        "siblings = pd.DataFrame(result['siblings'], columns = ['name', 'age'])\n",
        "siblings"
      ],
      "execution_count": 241,
      "outputs": [
        {
          "output_type": "execute_result",
          "data": {
            "text/html": [
              "<div>\n",
              "<style scoped>\n",
              "    .dataframe tbody tr th:only-of-type {\n",
              "        vertical-align: middle;\n",
              "    }\n",
              "\n",
              "    .dataframe tbody tr th {\n",
              "        vertical-align: top;\n",
              "    }\n",
              "\n",
              "    .dataframe thead th {\n",
              "        text-align: right;\n",
              "    }\n",
              "</style>\n",
              "<table border=\"1\" class=\"dataframe\">\n",
              "  <thead>\n",
              "    <tr style=\"text-align: right;\">\n",
              "      <th></th>\n",
              "      <th>name</th>\n",
              "      <th>age</th>\n",
              "    </tr>\n",
              "  </thead>\n",
              "  <tbody>\n",
              "    <tr>\n",
              "      <th>0</th>\n",
              "      <td>Scott</td>\n",
              "      <td>30</td>\n",
              "    </tr>\n",
              "    <tr>\n",
              "      <th>1</th>\n",
              "      <td>Katie</td>\n",
              "      <td>38</td>\n",
              "    </tr>\n",
              "  </tbody>\n",
              "</table>\n",
              "</div>"
            ],
            "text/plain": [
              "    name  age\n",
              "0  Scott   30\n",
              "1  Katie   38"
            ]
          },
          "metadata": {
            "tags": []
          },
          "execution_count": 241
        }
      ]
    },
    {
      "cell_type": "code",
      "metadata": {
        "id": "hFvKN7SJPmPv",
        "colab_type": "code",
        "colab": {
          "base_uri": "https://localhost:8080/",
          "height": 68
        },
        "outputId": "d20e49f8-04be-4db9-8ec2-7dccfe63d9b2"
      },
      "source": [
        "!cat example.json"
      ],
      "execution_count": 242,
      "outputs": [
        {
          "output_type": "stream",
          "text": [
            "[{\"a\": 1, \"b\": 2, \"c\": 3},\n",
            " {\"a\": 4, \"b\": 5, \"c\": 6},\n",
            " {\"a\": 7, \"b\": 8, \"c\": 9}]\n"
          ],
          "name": "stdout"
        }
      ]
    },
    {
      "cell_type": "markdown",
      "metadata": {
        "id": "HVUc9gpNP2pI",
        "colab_type": "text"
      },
      "source": [
        "- 별다른 옵션이 없을 경우 pd.read_json는 JSON 배열에 담긴 각 객체를 테이블의 row로 간주"
      ]
    },
    {
      "cell_type": "code",
      "metadata": {
        "id": "Utlfqj-bPqDG",
        "colab_type": "code",
        "colab": {
          "base_uri": "https://localhost:8080/",
          "height": 142
        },
        "outputId": "8d15e332-54aa-4a69-ae4f-1240861433a0"
      },
      "source": [
        "data = pd.read_json('example.json')\n",
        "data"
      ],
      "execution_count": 243,
      "outputs": [
        {
          "output_type": "execute_result",
          "data": {
            "text/html": [
              "<div>\n",
              "<style scoped>\n",
              "    .dataframe tbody tr th:only-of-type {\n",
              "        vertical-align: middle;\n",
              "    }\n",
              "\n",
              "    .dataframe tbody tr th {\n",
              "        vertical-align: top;\n",
              "    }\n",
              "\n",
              "    .dataframe thead th {\n",
              "        text-align: right;\n",
              "    }\n",
              "</style>\n",
              "<table border=\"1\" class=\"dataframe\">\n",
              "  <thead>\n",
              "    <tr style=\"text-align: right;\">\n",
              "      <th></th>\n",
              "      <th>a</th>\n",
              "      <th>b</th>\n",
              "      <th>c</th>\n",
              "    </tr>\n",
              "  </thead>\n",
              "  <tbody>\n",
              "    <tr>\n",
              "      <th>0</th>\n",
              "      <td>1</td>\n",
              "      <td>2</td>\n",
              "      <td>3</td>\n",
              "    </tr>\n",
              "    <tr>\n",
              "      <th>1</th>\n",
              "      <td>4</td>\n",
              "      <td>5</td>\n",
              "      <td>6</td>\n",
              "    </tr>\n",
              "    <tr>\n",
              "      <th>2</th>\n",
              "      <td>7</td>\n",
              "      <td>8</td>\n",
              "      <td>9</td>\n",
              "    </tr>\n",
              "  </tbody>\n",
              "</table>\n",
              "</div>"
            ],
            "text/plain": [
              "   a  b  c\n",
              "0  1  2  3\n",
              "1  4  5  6\n",
              "2  7  8  9"
            ]
          },
          "metadata": {
            "tags": []
          },
          "execution_count": 243
        }
      ]
    },
    {
      "cell_type": "markdown",
      "metadata": {
        "id": "fPXppIy9QA_b",
        "colab_type": "text"
      },
      "source": [
        "- pandas의 데이터를 json으로 저장하는 방법 중 하나는 Series 혹은 to_json 함수를 이용하는 것"
      ]
    },
    {
      "cell_type": "code",
      "metadata": {
        "id": "5065kfx-PwNF",
        "colab_type": "code",
        "colab": {
          "base_uri": "https://localhost:8080/",
          "height": 51
        },
        "outputId": "0ee3426d-fc5e-4d05-8c43-18c15c5c3d02"
      },
      "source": [
        "print(data.to_json())\n",
        "print(data.to_json(orient='records'))"
      ],
      "execution_count": 244,
      "outputs": [
        {
          "output_type": "stream",
          "text": [
            "{\"a\":{\"0\":1,\"1\":4,\"2\":7},\"b\":{\"0\":2,\"1\":5,\"2\":8},\"c\":{\"0\":3,\"1\":6,\"2\":9}}\n",
            "[{\"a\":1,\"b\":2,\"c\":3},{\"a\":4,\"b\":5,\"c\":6},{\"a\":7,\"b\":8,\"c\":9}]\n"
          ],
          "name": "stdout"
        }
      ]
    },
    {
      "cell_type": "markdown",
      "metadata": {
        "id": "j0aAcP6BQOuJ",
        "colab_type": "text"
      },
      "source": [
        "#### 6.1.5 XML 과 HTML: 웹 스크래핑"
      ]
    },
    {
      "cell_type": "markdown",
      "metadata": {
        "id": "y_PVdb9RSTuJ",
        "colab_type": "text"
      },
      "source": [
        "- 파이썬에는 lxml, Beautiful Soup, html5lib 과 같은 HTML과 XML 형식의 데이터를 읽고 쓸 수 있는 라이브러리 존재. \n",
        "- lxml은 가장 빠르게 동작하고, 꺠진 HTML, XML 파일도 처리해줌\n",
        "- read_html은 lxml, Beautiful Soup 같은 라이브러리를 통해 자동으로 HTML을 파싱하여 DataFrame으로 변환해줌"
      ]
    },
    {
      "cell_type": "markdown",
      "metadata": {
        "id": "RFg1dIOeT4ar",
        "colab_type": "text"
      },
      "source": [
        "- 미연방예금공사에서 부도은행을 보여주는 data"
      ]
    },
    {
      "cell_type": "code",
      "metadata": {
        "id": "xJ_Q7gNEP0lo",
        "colab_type": "code",
        "colab": {
          "base_uri": "https://localhost:8080/",
          "height": 221
        },
        "outputId": "9e4a0369-9281-4cf0-cd52-6501762e9198"
      },
      "source": [
        "tables = pd.read_html('fdic_failed_bank_list.html')\n",
        "print(len(tables))\n",
        "failures = tables[0]\n",
        "failures.head()"
      ],
      "execution_count": 245,
      "outputs": [
        {
          "output_type": "stream",
          "text": [
            "1\n"
          ],
          "name": "stdout"
        },
        {
          "output_type": "execute_result",
          "data": {
            "text/html": [
              "<div>\n",
              "<style scoped>\n",
              "    .dataframe tbody tr th:only-of-type {\n",
              "        vertical-align: middle;\n",
              "    }\n",
              "\n",
              "    .dataframe tbody tr th {\n",
              "        vertical-align: top;\n",
              "    }\n",
              "\n",
              "    .dataframe thead th {\n",
              "        text-align: right;\n",
              "    }\n",
              "</style>\n",
              "<table border=\"1\" class=\"dataframe\">\n",
              "  <thead>\n",
              "    <tr style=\"text-align: right;\">\n",
              "      <th></th>\n",
              "      <th>Bank Name</th>\n",
              "      <th>City</th>\n",
              "      <th>ST</th>\n",
              "      <th>CERT</th>\n",
              "      <th>Acquiring Institution</th>\n",
              "      <th>Closing Date</th>\n",
              "      <th>Updated Date</th>\n",
              "    </tr>\n",
              "  </thead>\n",
              "  <tbody>\n",
              "    <tr>\n",
              "      <th>0</th>\n",
              "      <td>Allied Bank</td>\n",
              "      <td>Mulberry</td>\n",
              "      <td>AR</td>\n",
              "      <td>91</td>\n",
              "      <td>Today's Bank</td>\n",
              "      <td>September 23, 2016</td>\n",
              "      <td>November 17, 2016</td>\n",
              "    </tr>\n",
              "    <tr>\n",
              "      <th>1</th>\n",
              "      <td>The Woodbury Banking Company</td>\n",
              "      <td>Woodbury</td>\n",
              "      <td>GA</td>\n",
              "      <td>11297</td>\n",
              "      <td>United Bank</td>\n",
              "      <td>August 19, 2016</td>\n",
              "      <td>November 17, 2016</td>\n",
              "    </tr>\n",
              "    <tr>\n",
              "      <th>2</th>\n",
              "      <td>First CornerStone Bank</td>\n",
              "      <td>King of Prussia</td>\n",
              "      <td>PA</td>\n",
              "      <td>35312</td>\n",
              "      <td>First-Citizens Bank &amp; Trust Company</td>\n",
              "      <td>May 6, 2016</td>\n",
              "      <td>September 6, 2016</td>\n",
              "    </tr>\n",
              "    <tr>\n",
              "      <th>3</th>\n",
              "      <td>Trust Company Bank</td>\n",
              "      <td>Memphis</td>\n",
              "      <td>TN</td>\n",
              "      <td>9956</td>\n",
              "      <td>The Bank of Fayette County</td>\n",
              "      <td>April 29, 2016</td>\n",
              "      <td>September 6, 2016</td>\n",
              "    </tr>\n",
              "    <tr>\n",
              "      <th>4</th>\n",
              "      <td>North Milwaukee State Bank</td>\n",
              "      <td>Milwaukee</td>\n",
              "      <td>WI</td>\n",
              "      <td>20364</td>\n",
              "      <td>First-Citizens Bank &amp; Trust Company</td>\n",
              "      <td>March 11, 2016</td>\n",
              "      <td>June 16, 2016</td>\n",
              "    </tr>\n",
              "  </tbody>\n",
              "</table>\n",
              "</div>"
            ],
            "text/plain": [
              "                      Bank Name  ...       Updated Date\n",
              "0                   Allied Bank  ...  November 17, 2016\n",
              "1  The Woodbury Banking Company  ...  November 17, 2016\n",
              "2        First CornerStone Bank  ...  September 6, 2016\n",
              "3            Trust Company Bank  ...  September 6, 2016\n",
              "4    North Milwaukee State Bank  ...      June 16, 2016\n",
              "\n",
              "[5 rows x 7 columns]"
            ]
          },
          "metadata": {
            "tags": []
          },
          "execution_count": 245
        }
      ]
    },
    {
      "cell_type": "markdown",
      "metadata": {
        "id": "4HMDTtHlT-s3",
        "colab_type": "text"
      },
      "source": [
        "- 데이터 정제 및 연도별 부도은행 수"
      ]
    },
    {
      "cell_type": "code",
      "metadata": {
        "id": "ZnYZXGJSTxhK",
        "colab_type": "code",
        "colab": {
          "base_uri": "https://localhost:8080/",
          "height": 51
        },
        "outputId": "26fd1462-d700-4844-dfae-f065752b486a"
      },
      "source": [
        "print(data.to_json())\n",
        "print(data.to_json(orient='records'))"
      ],
      "execution_count": 246,
      "outputs": [
        {
          "output_type": "stream",
          "text": [
            "{\"a\":{\"0\":1,\"1\":4,\"2\":7},\"b\":{\"0\":2,\"1\":5,\"2\":8},\"c\":{\"0\":3,\"1\":6,\"2\":9}}\n",
            "[{\"a\":1,\"b\":2,\"c\":3},{\"a\":4,\"b\":5,\"c\":6},{\"a\":7,\"b\":8,\"c\":9}]\n"
          ],
          "name": "stdout"
        }
      ]
    },
    {
      "cell_type": "markdown",
      "metadata": {
        "id": "EG_vvu7QVFJr",
        "colab_type": "text"
      },
      "source": [
        "- lxml.objectify를 통해 XML 파싱하기\n",
        "  - XML은 계층적 구조와 메타데이터를 포함한 중접된 데이터 구조를 지원\n",
        "  - 뉴욕 MTA(버스, 지하철 운영 자료) 예시"
      ]
    },
    {
      "cell_type": "code",
      "metadata": {
        "id": "ML-8L0PgXn0-",
        "colab_type": "code",
        "colab": {}
      },
      "source": [
        "# examples에는 Performance_MNR.xml가 없다\n",
        "os.chdir('/content/gdrive/My Drive/pydata-book') #윗 단으로 경로 변경"
      ],
      "execution_count": 0,
      "outputs": []
    },
    {
      "cell_type": "code",
      "metadata": {
        "id": "8UTJGJ0bTpcB",
        "colab_type": "code",
        "colab": {}
      },
      "source": [
        "from lxml import objectify\n",
        "\n",
        "path = 'datasets/mta_perf/Performance_MNR.xml'\n",
        "parsed = objectify.parse(open(path))\n",
        "root = parsed.getroot()"
      ],
      "execution_count": 0,
      "outputs": []
    },
    {
      "cell_type": "markdown",
      "metadata": {
        "id": "Ktj5gZ-fasHM",
        "colab_type": "text"
      },
      "source": [
        "- root.INDICATOR를 이용해서 모든 <INDICATOR> 엘리먼트를 끄집어낼 수 있다. 각 항목에 대한 몇몇 태그는 제외하고 태그 이름을 키값으로 하는 사전을 만들 수 있다"
      ]
    },
    {
      "cell_type": "code",
      "metadata": {
        "id": "L2xUY1XAVdUx",
        "colab_type": "code",
        "colab": {}
      },
      "source": [
        "data = []\n",
        "\n",
        "skip_fields = ['PARENT_SEQ', 'INDICATOR_SEQ',\n",
        "               'DESIRED_CHANGE', 'DECIMAL_PLACES']\n",
        "\n",
        "for elt in root.INDICATOR:\n",
        "    el_data = {}\n",
        "    for child in elt.getchildren():\n",
        "        if child.tag in skip_fields:\n",
        "            continue\n",
        "        el_data[child.tag] = child.pyval\n",
        "    data.append(el_data)"
      ],
      "execution_count": 0,
      "outputs": []
    },
    {
      "cell_type": "markdown",
      "metadata": {
        "id": "LDbkodDea70e",
        "colab_type": "text"
      },
      "source": [
        "- 사전 리스트를 DataFrame으로 전환"
      ]
    },
    {
      "cell_type": "code",
      "metadata": {
        "id": "d1BcExVBaqQA",
        "colab_type": "code",
        "colab": {
          "base_uri": "https://localhost:8080/",
          "height": 479
        },
        "outputId": "7a78fb53-ea29-4e1d-ffd0-a3ed32745bb4"
      },
      "source": [
        "perf = pd.DataFrame(data)\n",
        "perf.head()"
      ],
      "execution_count": 258,
      "outputs": [
        {
          "output_type": "execute_result",
          "data": {
            "text/html": [
              "<div>\n",
              "<style scoped>\n",
              "    .dataframe tbody tr th:only-of-type {\n",
              "        vertical-align: middle;\n",
              "    }\n",
              "\n",
              "    .dataframe tbody tr th {\n",
              "        vertical-align: top;\n",
              "    }\n",
              "\n",
              "    .dataframe thead th {\n",
              "        text-align: right;\n",
              "    }\n",
              "</style>\n",
              "<table border=\"1\" class=\"dataframe\">\n",
              "  <thead>\n",
              "    <tr style=\"text-align: right;\">\n",
              "      <th></th>\n",
              "      <th>AGENCY_NAME</th>\n",
              "      <th>INDICATOR_NAME</th>\n",
              "      <th>DESCRIPTION</th>\n",
              "      <th>PERIOD_YEAR</th>\n",
              "      <th>PERIOD_MONTH</th>\n",
              "      <th>CATEGORY</th>\n",
              "      <th>FREQUENCY</th>\n",
              "      <th>INDICATOR_UNIT</th>\n",
              "      <th>YTD_TARGET</th>\n",
              "      <th>YTD_ACTUAL</th>\n",
              "      <th>MONTHLY_TARGET</th>\n",
              "      <th>MONTHLY_ACTUAL</th>\n",
              "    </tr>\n",
              "  </thead>\n",
              "  <tbody>\n",
              "    <tr>\n",
              "      <th>0</th>\n",
              "      <td>Metro-North Railroad</td>\n",
              "      <td>On-Time Performance (West of Hudson)</td>\n",
              "      <td>Percent of commuter trains that arrive at thei...</td>\n",
              "      <td>2008</td>\n",
              "      <td>1</td>\n",
              "      <td>Service Indicators</td>\n",
              "      <td>M</td>\n",
              "      <td>%</td>\n",
              "      <td>95</td>\n",
              "      <td>96.9</td>\n",
              "      <td>95</td>\n",
              "      <td>96.9</td>\n",
              "    </tr>\n",
              "    <tr>\n",
              "      <th>1</th>\n",
              "      <td>Metro-North Railroad</td>\n",
              "      <td>On-Time Performance (West of Hudson)</td>\n",
              "      <td>Percent of commuter trains that arrive at thei...</td>\n",
              "      <td>2008</td>\n",
              "      <td>2</td>\n",
              "      <td>Service Indicators</td>\n",
              "      <td>M</td>\n",
              "      <td>%</td>\n",
              "      <td>95</td>\n",
              "      <td>96</td>\n",
              "      <td>95</td>\n",
              "      <td>95</td>\n",
              "    </tr>\n",
              "    <tr>\n",
              "      <th>2</th>\n",
              "      <td>Metro-North Railroad</td>\n",
              "      <td>On-Time Performance (West of Hudson)</td>\n",
              "      <td>Percent of commuter trains that arrive at thei...</td>\n",
              "      <td>2008</td>\n",
              "      <td>3</td>\n",
              "      <td>Service Indicators</td>\n",
              "      <td>M</td>\n",
              "      <td>%</td>\n",
              "      <td>95</td>\n",
              "      <td>96.3</td>\n",
              "      <td>95</td>\n",
              "      <td>96.9</td>\n",
              "    </tr>\n",
              "    <tr>\n",
              "      <th>3</th>\n",
              "      <td>Metro-North Railroad</td>\n",
              "      <td>On-Time Performance (West of Hudson)</td>\n",
              "      <td>Percent of commuter trains that arrive at thei...</td>\n",
              "      <td>2008</td>\n",
              "      <td>4</td>\n",
              "      <td>Service Indicators</td>\n",
              "      <td>M</td>\n",
              "      <td>%</td>\n",
              "      <td>95</td>\n",
              "      <td>96.8</td>\n",
              "      <td>95</td>\n",
              "      <td>98.3</td>\n",
              "    </tr>\n",
              "    <tr>\n",
              "      <th>4</th>\n",
              "      <td>Metro-North Railroad</td>\n",
              "      <td>On-Time Performance (West of Hudson)</td>\n",
              "      <td>Percent of commuter trains that arrive at thei...</td>\n",
              "      <td>2008</td>\n",
              "      <td>5</td>\n",
              "      <td>Service Indicators</td>\n",
              "      <td>M</td>\n",
              "      <td>%</td>\n",
              "      <td>95</td>\n",
              "      <td>96.6</td>\n",
              "      <td>95</td>\n",
              "      <td>95.8</td>\n",
              "    </tr>\n",
              "  </tbody>\n",
              "</table>\n",
              "</div>"
            ],
            "text/plain": [
              "            AGENCY_NAME  ... MONTHLY_ACTUAL\n",
              "0  Metro-North Railroad  ...           96.9\n",
              "1  Metro-North Railroad  ...             95\n",
              "2  Metro-North Railroad  ...           96.9\n",
              "3  Metro-North Railroad  ...           98.3\n",
              "4  Metro-North Railroad  ...           95.8\n",
              "\n",
              "[5 rows x 12 columns]"
            ]
          },
          "metadata": {
            "tags": []
          },
          "execution_count": 258
        }
      ]
    },
    {
      "cell_type": "markdown",
      "metadata": {
        "id": "T53h97WGbEhV",
        "colab_type": "text"
      },
      "source": [
        "- XML 데이터는 예제보다 더 복잡. 유효한 XML 형식인 HTML의 a 태그를 생각하면 됨"
      ]
    },
    {
      "cell_type": "code",
      "metadata": {
        "id": "kOq1IXeUbgj3",
        "colab_type": "code",
        "colab": {}
      },
      "source": [
        "from io import StringIO\n",
        "tag = '<a href=\"http://www.google.com\">Google</a>'\n",
        "root = objectify.parse(StringIO(tag)).getroot()"
      ],
      "execution_count": 0,
      "outputs": []
    },
    {
      "cell_type": "code",
      "metadata": {
        "id": "PXufKCtSbBEG",
        "colab_type": "code",
        "colab": {
          "base_uri": "https://localhost:8080/",
          "height": 34
        },
        "outputId": "7bc3f9b6-cbd9-424f-edf7-3f337771198f"
      },
      "source": [
        "root\n",
        "root.get('href')\n",
        "root.text"
      ],
      "execution_count": 263,
      "outputs": [
        {
          "output_type": "execute_result",
          "data": {
            "text/plain": [
              "'Google'"
            ]
          },
          "metadata": {
            "tags": []
          },
          "execution_count": 263
        }
      ]
    },
    {
      "cell_type": "markdown",
      "metadata": {
        "id": "ojpuYDhZbuDV",
        "colab_type": "text"
      },
      "source": [
        "#### 6.2 이진 데이터 형식"
      ]
    },
    {
      "cell_type": "code",
      "metadata": {
        "id": "8qKXvLCkbZ4I",
        "colab_type": "code",
        "colab": {}
      },
      "source": [
        ""
      ],
      "execution_count": 0,
      "outputs": []
    }
  ]
}