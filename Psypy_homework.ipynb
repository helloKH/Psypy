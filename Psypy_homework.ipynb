{
  "nbformat": 4,
  "nbformat_minor": 0,
  "metadata": {
    "colab": {
      "name": "Psypy_homework.ipynb",
      "provenance": [],
      "include_colab_link": true
    },
    "kernelspec": {
      "name": "python3",
      "display_name": "Python 3"
    }
  },
  "cells": [
    {
      "cell_type": "markdown",
      "metadata": {
        "id": "view-in-github",
        "colab_type": "text"
      },
      "source": [
        "<a href=\"https://colab.research.google.com/github/helloKH/python_study/blob/master/Psypy_homework.ipynb\" target=\"_parent\"><img src=\"https://colab.research.google.com/assets/colab-badge.svg\" alt=\"Open In Colab\"/></a>"
      ]
    },
    {
      "cell_type": "code",
      "metadata": {
        "id": "oUlsKjLOWIuG",
        "colab_type": "code",
        "colab": {
          "base_uri": "https://localhost:8080/",
          "height": 34
        },
        "outputId": "44ec5258-8eec-4dbf-ea42-ec57483d7382"
      },
      "source": [
        "!python -V"
      ],
      "execution_count": 40,
      "outputs": [
        {
          "output_type": "stream",
          "text": [
            "Python 3.6.8\n"
          ],
          "name": "stdout"
        }
      ]
    },
    {
      "cell_type": "markdown",
      "metadata": {
        "id": "ZTfVm8rl805V",
        "colab_type": "text"
      },
      "source": [
        "### colab github 연동하기 \n",
        "- https://brunch.co.kr/@jayden-factory/16 참고"
      ]
    },
    {
      "cell_type": "code",
      "metadata": {
        "id": "WqASO5d68j04",
        "colab_type": "code",
        "outputId": "177a008d-5b20-4904-d391-cbd6ee6b767c",
        "colab": {
          "base_uri": "https://localhost:8080/",
          "height": 34
        }
      },
      "source": [
        "!git clone https://github.com/helloKH/python_study.git"
      ],
      "execution_count": 41,
      "outputs": [
        {
          "output_type": "stream",
          "text": [
            "fatal: destination path 'python_study' already exists and is not an empty directory.\n"
          ],
          "name": "stdout"
        }
      ]
    },
    {
      "cell_type": "code",
      "metadata": {
        "id": "PlVT63ml88_Q",
        "colab_type": "code",
        "outputId": "04f5daee-3899-473f-fe85-a1094156cec4",
        "colab": {
          "base_uri": "https://localhost:8080/",
          "height": 102
        }
      },
      "source": [
        "ls -ltr"
      ],
      "execution_count": 42,
      "outputs": [
        {
          "output_type": "stream",
          "text": [
            "total 92\n",
            "drwxr-xr-x 1 root root  4096 Nov 21 16:30 \u001b[0m\u001b[01;34msample_data\u001b[0m/\n",
            "drwxr-xr-x 3 root root  4096 Dec  3 10:20 \u001b[01;34mpython_study\u001b[0m/\n",
            "drwxr-xr-x 2 root root  4096 Dec  3 11:12 \u001b[01;34mexamples\u001b[0m/\n",
            "-rw-r--r-- 1 root root 79735 Dec  3 11:19 ex.csv\n"
          ],
          "name": "stdout"
        }
      ]
    },
    {
      "cell_type": "markdown",
      "metadata": {
        "id": "0hnpbzQn-9d9",
        "colab_type": "text"
      },
      "source": [
        "#### 실습 기반 데이터파일 긁어오기"
      ]
    },
    {
      "cell_type": "code",
      "metadata": {
        "id": "K-spwMKQ_DJI",
        "colab_type": "code",
        "colab": {}
      },
      "source": [
        "import pandas as pd\n",
        "import os\n",
        "import urllib.request\n"
      ],
      "execution_count": 0,
      "outputs": []
    },
    {
      "cell_type": "code",
      "metadata": {
        "id": "rIeNuQ8kbmat",
        "colab_type": "code",
        "colab": {}
      },
      "source": [
        "# 우선 파일을 가져와보자.\n",
        "## 1. 디렉토리 만들기\n",
        "import os\n",
        "\n",
        "dir_name = \"examples\"\n",
        "if not os.path.exists(dir_name) :\n",
        "  os.mkdir(dir_name)"
      ],
      "execution_count": 0,
      "outputs": []
    },
    {
      "cell_type": "code",
      "metadata": {
        "id": "Q7hoY4ZDdVs7",
        "colab_type": "code",
        "colab": {
          "base_uri": "https://localhost:8080/",
          "height": 34
        },
        "outputId": "6287f828-b94f-421e-8f50-d06e47c17614"
      },
      "source": [
        "# example 디렉토리가 생겼다.\n",
        "%ls"
      ],
      "execution_count": 45,
      "outputs": [
        {
          "output_type": "stream",
          "text": [
            "\u001b[0m\u001b[01;34mexamples\u001b[0m/  ex.csv  \u001b[01;34mpython_study\u001b[0m/  \u001b[01;34msample_data\u001b[0m/\n"
          ],
          "name": "stdout"
        }
      ]
    },
    {
      "cell_type": "code",
      "metadata": {
        "id": "RzTda3padafP",
        "colab_type": "code",
        "colab": {
          "base_uri": "https://localhost:8080/",
          "height": 34
        },
        "outputId": "dd19c93e-cc54-4cfa-e97b-f5efade460e3"
      },
      "source": [
        "# 지금은 디렉토리 안에 아무 파일도 없다.\n",
        "%ls examples/"
      ],
      "execution_count": 46,
      "outputs": [
        {
          "output_type": "stream",
          "text": [
            "segismundo.txt\n"
          ],
          "name": "stdout"
        }
      ]
    },
    {
      "cell_type": "code",
      "metadata": {
        "id": "YJGRYrk8ddO7",
        "colab_type": "code",
        "colab": {}
      },
      "source": [
        "# 2. 파일 가져오기 - [1]의 예제소스 github의 파일들을 주소로 접근해서 가져온다.\n",
        "\n",
        "import urllib.request\n",
        "\n",
        "url = 'https://github.com/helloKH/python_study'\n",
        "file_name = \"ex.csv\" \n",
        "with urllib.request.urlopen(url) as r:\n",
        "  doc = r.read()\n",
        "  with open(file_name, \"wb\") as f:\n",
        "    f.write(doc)"
      ],
      "execution_count": 0,
      "outputs": []
    },
    {
      "cell_type": "code",
      "metadata": {
        "id": "BXpggrNudsh-",
        "colab_type": "code",
        "colab": {
          "base_uri": "https://localhost:8080/",
          "height": 204
        },
        "outputId": "be6367be-c6db-4464-8247-a9fc6844571d"
      },
      "source": [
        "# 내용를 한번 살펴보자\n",
        "%cat python_study/ex.csv"
      ],
      "execution_count": 48,
      "outputs": [
        {
          "output_type": "stream",
          "text": [
            "﻿no,id,gender,email,score\r\n",
            "1,ma,male,naver,100\r\n",
            "2,fa,female,google,100\r\n",
            "3,mb,male,yahoo,80\r\n",
            "4,mc,male,daum,70\r\n",
            "5,fb,female,daum,60\r\n",
            "6,fc,female,naver,70\r\n",
            "7,me,male,yahoo,80\r\n",
            "8,md,male,naver,100\r\n",
            "9,mg,male,naver,90\r\n",
            "10,fd,female,naver,90"
          ],
          "name": "stdout"
        }
      ]
    },
    {
      "cell_type": "markdown",
      "metadata": {
        "id": "ibjKX0KbjCwp",
        "colab_type": "text"
      },
      "source": [
        "#### github에서 직접 가져오고 싶다 "
      ]
    },
    {
      "cell_type": "code",
      "metadata": {
        "id": "9L_DwqhCiYbt",
        "colab_type": "code",
        "colab": {
          "base_uri": "https://localhost:8080/",
          "height": 359
        },
        "outputId": "75fc210c-0492-492e-e8fa-aa730f73fe7d"
      },
      "source": [
        "### git에 올려져 있는 file을 직접 불러오고 싶다(25MB 미만 가능) \n",
        "#### 참고: https://towardsdatascience.com/3-ways-to-load-csv-files-into-colab-7c14fcbdcb92\n",
        "\n",
        "url = \"https://raw.githubusercontent.com/helloKH/python_study/master/ex.csv\"\n",
        "data = pd.read_csv(url)\n",
        "data"
      ],
      "execution_count": 62,
      "outputs": [
        {
          "output_type": "execute_result",
          "data": {
            "text/html": [
              "<div>\n",
              "<style scoped>\n",
              "    .dataframe tbody tr th:only-of-type {\n",
              "        vertical-align: middle;\n",
              "    }\n",
              "\n",
              "    .dataframe tbody tr th {\n",
              "        vertical-align: top;\n",
              "    }\n",
              "\n",
              "    .dataframe thead th {\n",
              "        text-align: right;\n",
              "    }\n",
              "</style>\n",
              "<table border=\"1\" class=\"dataframe\">\n",
              "  <thead>\n",
              "    <tr style=\"text-align: right;\">\n",
              "      <th></th>\n",
              "      <th>no</th>\n",
              "      <th>id</th>\n",
              "      <th>gender</th>\n",
              "      <th>email</th>\n",
              "      <th>score</th>\n",
              "    </tr>\n",
              "  </thead>\n",
              "  <tbody>\n",
              "    <tr>\n",
              "      <th>0</th>\n",
              "      <td>1</td>\n",
              "      <td>ma</td>\n",
              "      <td>male</td>\n",
              "      <td>naver</td>\n",
              "      <td>100</td>\n",
              "    </tr>\n",
              "    <tr>\n",
              "      <th>1</th>\n",
              "      <td>2</td>\n",
              "      <td>fa</td>\n",
              "      <td>female</td>\n",
              "      <td>google</td>\n",
              "      <td>100</td>\n",
              "    </tr>\n",
              "    <tr>\n",
              "      <th>2</th>\n",
              "      <td>3</td>\n",
              "      <td>mb</td>\n",
              "      <td>male</td>\n",
              "      <td>yahoo</td>\n",
              "      <td>80</td>\n",
              "    </tr>\n",
              "    <tr>\n",
              "      <th>3</th>\n",
              "      <td>4</td>\n",
              "      <td>mc</td>\n",
              "      <td>male</td>\n",
              "      <td>daum</td>\n",
              "      <td>70</td>\n",
              "    </tr>\n",
              "    <tr>\n",
              "      <th>4</th>\n",
              "      <td>5</td>\n",
              "      <td>fb</td>\n",
              "      <td>female</td>\n",
              "      <td>daum</td>\n",
              "      <td>60</td>\n",
              "    </tr>\n",
              "    <tr>\n",
              "      <th>5</th>\n",
              "      <td>6</td>\n",
              "      <td>fc</td>\n",
              "      <td>female</td>\n",
              "      <td>naver</td>\n",
              "      <td>70</td>\n",
              "    </tr>\n",
              "    <tr>\n",
              "      <th>6</th>\n",
              "      <td>7</td>\n",
              "      <td>me</td>\n",
              "      <td>male</td>\n",
              "      <td>yahoo</td>\n",
              "      <td>80</td>\n",
              "    </tr>\n",
              "    <tr>\n",
              "      <th>7</th>\n",
              "      <td>8</td>\n",
              "      <td>md</td>\n",
              "      <td>male</td>\n",
              "      <td>naver</td>\n",
              "      <td>100</td>\n",
              "    </tr>\n",
              "    <tr>\n",
              "      <th>8</th>\n",
              "      <td>9</td>\n",
              "      <td>mg</td>\n",
              "      <td>male</td>\n",
              "      <td>naver</td>\n",
              "      <td>90</td>\n",
              "    </tr>\n",
              "    <tr>\n",
              "      <th>9</th>\n",
              "      <td>10</td>\n",
              "      <td>fd</td>\n",
              "      <td>female</td>\n",
              "      <td>naver</td>\n",
              "      <td>90</td>\n",
              "    </tr>\n",
              "  </tbody>\n",
              "</table>\n",
              "</div>"
            ],
            "text/plain": [
              "   no  id  gender   email  score\n",
              "0   1  ma    male   naver    100\n",
              "1   2  fa  female  google    100\n",
              "2   3  mb    male   yahoo     80\n",
              "3   4  mc    male    daum     70\n",
              "4   5  fb  female    daum     60\n",
              "5   6  fc  female   naver     70\n",
              "6   7  me    male   yahoo     80\n",
              "7   8  md    male   naver    100\n",
              "8   9  mg    male   naver     90\n",
              "9  10  fd  female   naver     90"
            ]
          },
          "metadata": {
            "tags": []
          },
          "execution_count": 62
        }
      ]
    },
    {
      "cell_type": "code",
      "metadata": {
        "id": "znK7vdlVgilg",
        "colab_type": "code",
        "colab": {
          "base_uri": "https://localhost:8080/",
          "height": 68
        },
        "outputId": "11f90e31-84c7-4ac1-acca-f672892c5faf"
      },
      "source": [
        "#### 문1. score 평균\n",
        "data.mean()"
      ],
      "execution_count": 63,
      "outputs": [
        {
          "output_type": "execute_result",
          "data": {
            "text/plain": [
              "no        5.5\n",
              "score    84.0\n",
              "dtype: float64"
            ]
          },
          "metadata": {
            "tags": []
          },
          "execution_count": 63
        }
      ]
    },
    {
      "cell_type": "code",
      "metadata": {
        "id": "HxmInaHfjQkR",
        "colab_type": "code",
        "colab": {
          "base_uri": "https://localhost:8080/",
          "height": 142
        },
        "outputId": "f6685fae-d0ed-44e1-828c-03604246b306"
      },
      "source": [
        "#### 문2. 남녀평균\n",
        "data.groupby(data['gender']).mean()"
      ],
      "execution_count": 64,
      "outputs": [
        {
          "output_type": "execute_result",
          "data": {
            "text/html": [
              "<div>\n",
              "<style scoped>\n",
              "    .dataframe tbody tr th:only-of-type {\n",
              "        vertical-align: middle;\n",
              "    }\n",
              "\n",
              "    .dataframe tbody tr th {\n",
              "        vertical-align: top;\n",
              "    }\n",
              "\n",
              "    .dataframe thead th {\n",
              "        text-align: right;\n",
              "    }\n",
              "</style>\n",
              "<table border=\"1\" class=\"dataframe\">\n",
              "  <thead>\n",
              "    <tr style=\"text-align: right;\">\n",
              "      <th></th>\n",
              "      <th>no</th>\n",
              "      <th>score</th>\n",
              "    </tr>\n",
              "    <tr>\n",
              "      <th>gender</th>\n",
              "      <th></th>\n",
              "      <th></th>\n",
              "    </tr>\n",
              "  </thead>\n",
              "  <tbody>\n",
              "    <tr>\n",
              "      <th>female</th>\n",
              "      <td>5.750000</td>\n",
              "      <td>80.000000</td>\n",
              "    </tr>\n",
              "    <tr>\n",
              "      <th>male</th>\n",
              "      <td>5.333333</td>\n",
              "      <td>86.666667</td>\n",
              "    </tr>\n",
              "  </tbody>\n",
              "</table>\n",
              "</div>"
            ],
            "text/plain": [
              "              no      score\n",
              "gender                     \n",
              "female  5.750000  80.000000\n",
              "male    5.333333  86.666667"
            ]
          },
          "metadata": {
            "tags": []
          },
          "execution_count": 64
        }
      ]
    },
    {
      "cell_type": "code",
      "metadata": {
        "id": "T6qDXK7tU1nV",
        "colab_type": "code",
        "colab": {}
      },
      "source": [
        ""
      ],
      "execution_count": 0,
      "outputs": []
    }
  ]
}