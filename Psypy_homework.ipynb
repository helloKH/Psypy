{
  "nbformat": 4,
  "nbformat_minor": 0,
  "metadata": {
    "colab": {
      "name": "Psypy_homework.ipynb",
      "provenance": [],
      "include_colab_link": true
    },
    "kernelspec": {
      "name": "python3",
      "display_name": "Python 3"
    }
  },
  "cells": [
    {
      "cell_type": "markdown",
      "metadata": {
        "id": "view-in-github",
        "colab_type": "text"
      },
      "source": [
        "<a href=\"https://colab.research.google.com/github/helloKH/python_study/blob/master/Psypy_homework.ipynb\" target=\"_parent\"><img src=\"https://colab.research.google.com/assets/colab-badge.svg\" alt=\"Open In Colab\"/></a>"
      ]
    },
    {
      "cell_type": "code",
      "metadata": {
        "id": "oUlsKjLOWIuG",
        "colab_type": "code",
        "outputId": "d7006397-901d-41db-eb9c-9a97c2c3c200",
        "colab": {
          "base_uri": "https://localhost:8080/",
          "height": 34
        }
      },
      "source": [
        "!python -V"
      ],
      "execution_count": 1,
      "outputs": [
        {
          "output_type": "stream",
          "text": [
            "Python 3.6.8\n"
          ],
          "name": "stdout"
        }
      ]
    },
    {
      "cell_type": "markdown",
      "metadata": {
        "id": "ZTfVm8rl805V",
        "colab_type": "text"
      },
      "source": [
        "### colab github 연동하기 \n",
        "- https://brunch.co.kr/@jayden-factory/16 참고"
      ]
    },
    {
      "cell_type": "code",
      "metadata": {
        "id": "WqASO5d68j04",
        "colab_type": "code",
        "outputId": "177a008d-5b20-4904-d391-cbd6ee6b767c",
        "colab": {
          "base_uri": "https://localhost:8080/",
          "height": 34
        }
      },
      "source": [
        "!git clone https://github.com/helloKH/python_study.git"
      ],
      "execution_count": 0,
      "outputs": [
        {
          "output_type": "stream",
          "text": [
            "fatal: destination path 'python_study' already exists and is not an empty directory.\n"
          ],
          "name": "stdout"
        }
      ]
    },
    {
      "cell_type": "code",
      "metadata": {
        "id": "PlVT63ml88_Q",
        "colab_type": "code",
        "outputId": "04f5daee-3899-473f-fe85-a1094156cec4",
        "colab": {
          "base_uri": "https://localhost:8080/",
          "height": 102
        }
      },
      "source": [
        "ls -ltr"
      ],
      "execution_count": 0,
      "outputs": [
        {
          "output_type": "stream",
          "text": [
            "total 92\n",
            "drwxr-xr-x 1 root root  4096 Nov 21 16:30 \u001b[0m\u001b[01;34msample_data\u001b[0m/\n",
            "drwxr-xr-x 3 root root  4096 Dec  3 10:20 \u001b[01;34mpython_study\u001b[0m/\n",
            "drwxr-xr-x 2 root root  4096 Dec  3 11:12 \u001b[01;34mexamples\u001b[0m/\n",
            "-rw-r--r-- 1 root root 79735 Dec  3 11:19 ex.csv\n"
          ],
          "name": "stdout"
        }
      ]
    },
    {
      "cell_type": "markdown",
      "metadata": {
        "id": "0hnpbzQn-9d9",
        "colab_type": "text"
      },
      "source": [
        "#### 실습 기반 데이터파일 긁어오기"
      ]
    },
    {
      "cell_type": "code",
      "metadata": {
        "id": "K-spwMKQ_DJI",
        "colab_type": "code",
        "colab": {}
      },
      "source": [
        "import pandas as pd\n",
        "import os\n",
        "import urllib.request\n"
      ],
      "execution_count": 0,
      "outputs": []
    },
    {
      "cell_type": "code",
      "metadata": {
        "id": "rIeNuQ8kbmat",
        "colab_type": "code",
        "colab": {}
      },
      "source": [
        "# 우선 파일을 가져와보자.\n",
        "## 1. 디렉토리 만들기\n",
        "import os\n",
        "\n",
        "dir_name = \"examples\"\n",
        "if not os.path.exists(dir_name) :\n",
        "  os.mkdir(dir_name)"
      ],
      "execution_count": 0,
      "outputs": []
    },
    {
      "cell_type": "code",
      "metadata": {
        "id": "Q7hoY4ZDdVs7",
        "colab_type": "code",
        "outputId": "6287f828-b94f-421e-8f50-d06e47c17614",
        "colab": {
          "base_uri": "https://localhost:8080/",
          "height": 34
        }
      },
      "source": [
        "# example 디렉토리가 생겼다.\n",
        "%ls"
      ],
      "execution_count": 0,
      "outputs": [
        {
          "output_type": "stream",
          "text": [
            "\u001b[0m\u001b[01;34mexamples\u001b[0m/  ex.csv  \u001b[01;34mpython_study\u001b[0m/  \u001b[01;34msample_data\u001b[0m/\n"
          ],
          "name": "stdout"
        }
      ]
    },
    {
      "cell_type": "code",
      "metadata": {
        "id": "RzTda3padafP",
        "colab_type": "code",
        "outputId": "dd19c93e-cc54-4cfa-e97b-f5efade460e3",
        "colab": {
          "base_uri": "https://localhost:8080/",
          "height": 34
        }
      },
      "source": [
        "# 지금은 디렉토리 안에 아무 파일도 없다.\n",
        "%ls examples/"
      ],
      "execution_count": 0,
      "outputs": [
        {
          "output_type": "stream",
          "text": [
            "segismundo.txt\n"
          ],
          "name": "stdout"
        }
      ]
    },
    {
      "cell_type": "code",
      "metadata": {
        "id": "YJGRYrk8ddO7",
        "colab_type": "code",
        "colab": {}
      },
      "source": [
        "# 2. 파일 가져오기 - [1]의 예제소스 github의 파일들을 주소로 접근해서 가져온다.\n",
        "\n",
        "import urllib.request\n",
        "\n",
        "url = 'https://github.com/helloKH/python_study'\n",
        "file_name = \"ex.csv\" \n",
        "with urllib.request.urlopen(url) as r:\n",
        "  doc = r.read()\n",
        "  with open(file_name, \"wb\") as f:\n",
        "    f.write(doc)"
      ],
      "execution_count": 0,
      "outputs": []
    },
    {
      "cell_type": "code",
      "metadata": {
        "id": "BXpggrNudsh-",
        "colab_type": "code",
        "outputId": "be6367be-c6db-4464-8247-a9fc6844571d",
        "colab": {
          "base_uri": "https://localhost:8080/",
          "height": 204
        }
      },
      "source": [
        "# 내용를 한번 살펴보자\n",
        "%cat python_study/ex.csv"
      ],
      "execution_count": 0,
      "outputs": [
        {
          "output_type": "stream",
          "text": [
            "﻿no,id,gender,email,score\r\n",
            "1,ma,male,naver,100\r\n",
            "2,fa,female,google,100\r\n",
            "3,mb,male,yahoo,80\r\n",
            "4,mc,male,daum,70\r\n",
            "5,fb,female,daum,60\r\n",
            "6,fc,female,naver,70\r\n",
            "7,me,male,yahoo,80\r\n",
            "8,md,male,naver,100\r\n",
            "9,mg,male,naver,90\r\n",
            "10,fd,female,naver,90"
          ],
          "name": "stdout"
        }
      ]
    },
    {
      "cell_type": "markdown",
      "metadata": {
        "id": "ibjKX0KbjCwp",
        "colab_type": "text"
      },
      "source": [
        "#### github에서 직접 가져오고 싶다 "
      ]
    },
    {
      "cell_type": "code",
      "metadata": {
        "id": "9L_DwqhCiYbt",
        "colab_type": "code",
        "outputId": "8c6a40c6-42eb-4f04-e4a7-32638911c1ca",
        "colab": {
          "base_uri": "https://localhost:8080/",
          "height": 359
        }
      },
      "source": [
        "### git에 올려져 있는 file을 직접 불러오고 싶다(25MB 미만 가능) \n",
        "#### 참고: https://towardsdatascience.com/3-ways-to-load-csv-files-into-colab-7c14fcbdcb92\n",
        "\n",
        "url = \"https://raw.githubusercontent.com/helloKH/python_study/master/ex.csv\"\n",
        "data = pd.read_csv(url)\n",
        "data"
      ],
      "execution_count": 3,
      "outputs": [
        {
          "output_type": "execute_result",
          "data": {
            "text/html": [
              "<div>\n",
              "<style scoped>\n",
              "    .dataframe tbody tr th:only-of-type {\n",
              "        vertical-align: middle;\n",
              "    }\n",
              "\n",
              "    .dataframe tbody tr th {\n",
              "        vertical-align: top;\n",
              "    }\n",
              "\n",
              "    .dataframe thead th {\n",
              "        text-align: right;\n",
              "    }\n",
              "</style>\n",
              "<table border=\"1\" class=\"dataframe\">\n",
              "  <thead>\n",
              "    <tr style=\"text-align: right;\">\n",
              "      <th></th>\n",
              "      <th>no</th>\n",
              "      <th>id</th>\n",
              "      <th>gender</th>\n",
              "      <th>email</th>\n",
              "      <th>score</th>\n",
              "    </tr>\n",
              "  </thead>\n",
              "  <tbody>\n",
              "    <tr>\n",
              "      <th>0</th>\n",
              "      <td>1</td>\n",
              "      <td>ma</td>\n",
              "      <td>male</td>\n",
              "      <td>naver</td>\n",
              "      <td>100</td>\n",
              "    </tr>\n",
              "    <tr>\n",
              "      <th>1</th>\n",
              "      <td>2</td>\n",
              "      <td>fa</td>\n",
              "      <td>female</td>\n",
              "      <td>google</td>\n",
              "      <td>100</td>\n",
              "    </tr>\n",
              "    <tr>\n",
              "      <th>2</th>\n",
              "      <td>3</td>\n",
              "      <td>mb</td>\n",
              "      <td>male</td>\n",
              "      <td>yahoo</td>\n",
              "      <td>80</td>\n",
              "    </tr>\n",
              "    <tr>\n",
              "      <th>3</th>\n",
              "      <td>4</td>\n",
              "      <td>mc</td>\n",
              "      <td>male</td>\n",
              "      <td>daum</td>\n",
              "      <td>70</td>\n",
              "    </tr>\n",
              "    <tr>\n",
              "      <th>4</th>\n",
              "      <td>5</td>\n",
              "      <td>fb</td>\n",
              "      <td>female</td>\n",
              "      <td>daum</td>\n",
              "      <td>60</td>\n",
              "    </tr>\n",
              "    <tr>\n",
              "      <th>5</th>\n",
              "      <td>6</td>\n",
              "      <td>fc</td>\n",
              "      <td>female</td>\n",
              "      <td>naver</td>\n",
              "      <td>70</td>\n",
              "    </tr>\n",
              "    <tr>\n",
              "      <th>6</th>\n",
              "      <td>7</td>\n",
              "      <td>me</td>\n",
              "      <td>male</td>\n",
              "      <td>yahoo</td>\n",
              "      <td>80</td>\n",
              "    </tr>\n",
              "    <tr>\n",
              "      <th>7</th>\n",
              "      <td>8</td>\n",
              "      <td>md</td>\n",
              "      <td>male</td>\n",
              "      <td>naver</td>\n",
              "      <td>100</td>\n",
              "    </tr>\n",
              "    <tr>\n",
              "      <th>8</th>\n",
              "      <td>9</td>\n",
              "      <td>mg</td>\n",
              "      <td>male</td>\n",
              "      <td>naver</td>\n",
              "      <td>90</td>\n",
              "    </tr>\n",
              "    <tr>\n",
              "      <th>9</th>\n",
              "      <td>10</td>\n",
              "      <td>fd</td>\n",
              "      <td>female</td>\n",
              "      <td>naver</td>\n",
              "      <td>90</td>\n",
              "    </tr>\n",
              "  </tbody>\n",
              "</table>\n",
              "</div>"
            ],
            "text/plain": [
              "   no  id  gender   email  score\n",
              "0   1  ma    male   naver    100\n",
              "1   2  fa  female  google    100\n",
              "2   3  mb    male   yahoo     80\n",
              "3   4  mc    male    daum     70\n",
              "4   5  fb  female    daum     60\n",
              "5   6  fc  female   naver     70\n",
              "6   7  me    male   yahoo     80\n",
              "7   8  md    male   naver    100\n",
              "8   9  mg    male   naver     90\n",
              "9  10  fd  female   naver     90"
            ]
          },
          "metadata": {
            "tags": []
          },
          "execution_count": 3
        }
      ]
    },
    {
      "cell_type": "code",
      "metadata": {
        "id": "znK7vdlVgilg",
        "colab_type": "code",
        "outputId": "b05f4fb9-f27e-44a4-bf16-8ebb13161eaa",
        "colab": {
          "base_uri": "https://localhost:8080/",
          "height": 68
        }
      },
      "source": [
        "#### 문1. score 평균\n",
        "data.mean()"
      ],
      "execution_count": 4,
      "outputs": [
        {
          "output_type": "execute_result",
          "data": {
            "text/plain": [
              "no        5.5\n",
              "score    84.0\n",
              "dtype: float64"
            ]
          },
          "metadata": {
            "tags": []
          },
          "execution_count": 4
        }
      ]
    },
    {
      "cell_type": "code",
      "metadata": {
        "id": "HxmInaHfjQkR",
        "colab_type": "code",
        "outputId": "2273c3e2-e6c7-47c5-eaf4-586b5abeb884",
        "colab": {
          "base_uri": "https://localhost:8080/",
          "height": 142
        }
      },
      "source": [
        "#### 문2. 남녀평균\n",
        "data.groupby(data['gender']).mean()"
      ],
      "execution_count": 5,
      "outputs": [
        {
          "output_type": "execute_result",
          "data": {
            "text/html": [
              "<div>\n",
              "<style scoped>\n",
              "    .dataframe tbody tr th:only-of-type {\n",
              "        vertical-align: middle;\n",
              "    }\n",
              "\n",
              "    .dataframe tbody tr th {\n",
              "        vertical-align: top;\n",
              "    }\n",
              "\n",
              "    .dataframe thead th {\n",
              "        text-align: right;\n",
              "    }\n",
              "</style>\n",
              "<table border=\"1\" class=\"dataframe\">\n",
              "  <thead>\n",
              "    <tr style=\"text-align: right;\">\n",
              "      <th></th>\n",
              "      <th>no</th>\n",
              "      <th>score</th>\n",
              "    </tr>\n",
              "    <tr>\n",
              "      <th>gender</th>\n",
              "      <th></th>\n",
              "      <th></th>\n",
              "    </tr>\n",
              "  </thead>\n",
              "  <tbody>\n",
              "    <tr>\n",
              "      <th>female</th>\n",
              "      <td>5.750000</td>\n",
              "      <td>80.000000</td>\n",
              "    </tr>\n",
              "    <tr>\n",
              "      <th>male</th>\n",
              "      <td>5.333333</td>\n",
              "      <td>86.666667</td>\n",
              "    </tr>\n",
              "  </tbody>\n",
              "</table>\n",
              "</div>"
            ],
            "text/plain": [
              "              no      score\n",
              "gender                     \n",
              "female  5.750000  80.000000\n",
              "male    5.333333  86.666667"
            ]
          },
          "metadata": {
            "tags": []
          },
          "execution_count": 5
        }
      ]
    },
    {
      "cell_type": "code",
      "metadata": {
        "id": "T6qDXK7tU1nV",
        "colab_type": "code",
        "colab": {
          "base_uri": "https://localhost:8080/",
          "height": 204
        },
        "outputId": "d772b170-0e3f-4fb3-8ed0-e9d1462b73f3"
      },
      "source": [
        "#### 문3. email 채우기. 이메일은 '아이디@회사이름.com' 을 따름\n",
        "data['full email'] = data['id'] + '@' + data['email'] + '.com'\n",
        "data.head()"
      ],
      "execution_count": 9,
      "outputs": [
        {
          "output_type": "execute_result",
          "data": {
            "text/html": [
              "<div>\n",
              "<style scoped>\n",
              "    .dataframe tbody tr th:only-of-type {\n",
              "        vertical-align: middle;\n",
              "    }\n",
              "\n",
              "    .dataframe tbody tr th {\n",
              "        vertical-align: top;\n",
              "    }\n",
              "\n",
              "    .dataframe thead th {\n",
              "        text-align: right;\n",
              "    }\n",
              "</style>\n",
              "<table border=\"1\" class=\"dataframe\">\n",
              "  <thead>\n",
              "    <tr style=\"text-align: right;\">\n",
              "      <th></th>\n",
              "      <th>no</th>\n",
              "      <th>id</th>\n",
              "      <th>gender</th>\n",
              "      <th>email</th>\n",
              "      <th>score</th>\n",
              "      <th>full email</th>\n",
              "    </tr>\n",
              "  </thead>\n",
              "  <tbody>\n",
              "    <tr>\n",
              "      <th>0</th>\n",
              "      <td>1</td>\n",
              "      <td>ma</td>\n",
              "      <td>male</td>\n",
              "      <td>naver</td>\n",
              "      <td>100</td>\n",
              "      <td>ma@naver.com</td>\n",
              "    </tr>\n",
              "    <tr>\n",
              "      <th>1</th>\n",
              "      <td>2</td>\n",
              "      <td>fa</td>\n",
              "      <td>female</td>\n",
              "      <td>google</td>\n",
              "      <td>100</td>\n",
              "      <td>fa@google.com</td>\n",
              "    </tr>\n",
              "    <tr>\n",
              "      <th>2</th>\n",
              "      <td>3</td>\n",
              "      <td>mb</td>\n",
              "      <td>male</td>\n",
              "      <td>yahoo</td>\n",
              "      <td>80</td>\n",
              "      <td>mb@yahoo.com</td>\n",
              "    </tr>\n",
              "    <tr>\n",
              "      <th>3</th>\n",
              "      <td>4</td>\n",
              "      <td>mc</td>\n",
              "      <td>male</td>\n",
              "      <td>daum</td>\n",
              "      <td>70</td>\n",
              "      <td>mc@daum.com</td>\n",
              "    </tr>\n",
              "    <tr>\n",
              "      <th>4</th>\n",
              "      <td>5</td>\n",
              "      <td>fb</td>\n",
              "      <td>female</td>\n",
              "      <td>daum</td>\n",
              "      <td>60</td>\n",
              "      <td>fb@daum.com</td>\n",
              "    </tr>\n",
              "  </tbody>\n",
              "</table>\n",
              "</div>"
            ],
            "text/plain": [
              "   no  id  gender   email  score     full email\n",
              "0   1  ma    male   naver    100   ma@naver.com\n",
              "1   2  fa  female  google    100  fa@google.com\n",
              "2   3  mb    male   yahoo     80   mb@yahoo.com\n",
              "3   4  mc    male    daum     70    mc@daum.com\n",
              "4   5  fb  female    daum     60    fb@daum.com"
            ]
          },
          "metadata": {
            "tags": []
          },
          "execution_count": 9
        }
      ]
    },
    {
      "cell_type": "markdown",
      "metadata": {
        "id": "-P-ikvp3BzTb",
        "colab_type": "text"
      },
      "source": [
        "#### 응용 문제 2 - 디렉토리의 사진 정리\n",
        "- examples/iu 디렉토리에는 iu 사진이 들어있다. 디렉토리 안에 하위 디렉토리를 생성해서 사진 파일 포맷별로 정리해보자.\n",
        "- 예를들어 jpg 파일들은 jpg 파일별로 모아서 새로 디렉토리를 생성해서 그곳에 넣는다. 예) iu/1.jpg, 2.jpg, 3.jpg --> iu/jpg/1.jpg, 2.jpg, 3.jpg"
      ]
    },
    {
      "cell_type": "code",
      "metadata": {
        "id": "pxwbKk1HB5yH",
        "colab_type": "code",
        "colab": {}
      },
      "source": [
        ""
      ],
      "execution_count": 0,
      "outputs": []
    },
    {
      "cell_type": "markdown",
      "metadata": {
        "id": "cKggs5iiB5-J",
        "colab_type": "text"
      },
      "source": [
        "#### 응용문제 3 - 간단한 웹 크롤링\n",
        "- 다음 주소로 방탄소년단의 노래 가사를 가져온다.\n",
        "- 가사 중에 영어가 섞인 문장은 제거하고 출력해보자."
      ]
    },
    {
      "cell_type": "code",
      "metadata": {
        "id": "kTnNHCH5B-r7",
        "colab_type": "code",
        "colab": {}
      },
      "source": [
        "import requests\n",
        "from bs4 import BeautifulSoup"
      ],
      "execution_count": 0,
      "outputs": []
    },
    {
      "cell_type": "code",
      "metadata": {
        "id": "8WbQ968CCAqE",
        "colab_type": "code",
        "colab": {}
      },
      "source": [
        "#url = \"https://gasazip.com/view.html?no=614736\"\n",
        "#url = \"https://gasazip.com/view.html?no=636135\"\n",
        "url = \"http://gasazip.com/view.html?no=2276458\""
      ],
      "execution_count": 0,
      "outputs": []
    },
    {
      "cell_type": "code",
      "metadata": {
        "id": "l-xUM-stCDKC",
        "colab_type": "code",
        "colab": {}
      },
      "source": [
        "# HTTP GET Request\n",
        "req = requests.get(url)\n",
        "# HTML 소스 가져오기\n",
        "html = req.text\n",
        "# BeautifulSoup으로 html소스를 python객체로 변환하기\n",
        "# 첫 인자는 html소스코드, 두 번째 인자는 어떤 parser를 이용할지 명시.\n",
        "# 여기서는 Python 내장 html.parser를 이용했다.\n",
        "soup = BeautifulSoup(html, 'html.parser')"
      ],
      "execution_count": 0,
      "outputs": []
    },
    {
      "cell_type": "code",
      "metadata": {
        "id": "Rme-49VjCE0N",
        "colab_type": "code",
        "colab": {}
      },
      "source": [
        "lyrics = []\n",
        "for txt in soup.find_all('div', attrs={'class': 'col-md-8'}) :\n",
        "    lines = txt.get_text().split('\\n')\n",
        "    for line in lines :\n",
        "        lyrics.append(line.strip())"
      ],
      "execution_count": 0,
      "outputs": []
    },
    {
      "cell_type": "markdown",
      "metadata": {
        "id": "jAvtcq7WEGC3",
        "colab_type": "text"
      },
      "source": [
        "#### 영어 제거"
      ]
    },
    {
      "cell_type": "code",
      "metadata": {
        "id": "i8ws7v7lCHH8",
        "colab_type": "code",
        "colab": {
          "base_uri": "https://localhost:8080/",
          "height": 34
        },
        "outputId": "947dcf52-54cb-4a87-81db-2d5ac1b106dd"
      },
      "source": [
        "lyrics[1:3]"
      ],
      "execution_count": 32,
      "outputs": [
        {
          "output_type": "execute_result",
          "data": {
            "text/plain": [
              "['', '모든 게 궁금해']"
            ]
          },
          "metadata": {
            "tags": []
          },
          "execution_count": 32
        }
      ]
    },
    {
      "cell_type": "markdown",
      "metadata": {
        "id": "2kRrXjfoJSC_",
        "colab_type": "text"
      },
      "source": [
        "#### 정규표현식 적용해보기\n",
        "- https://doubly12f.tistory.com/64"
      ]
    },
    {
      "cell_type": "code",
      "metadata": {
        "id": "a1ZDAToeCKwH",
        "colab_type": "code",
        "colab": {}
      },
      "source": [
        "import re"
      ],
      "execution_count": 0,
      "outputs": []
    },
    {
      "cell_type": "code",
      "metadata": {
        "id": "X_BAjOAoGEUT",
        "colab_type": "code",
        "colab": {
          "base_uri": "https://localhost:8080/",
          "height": 34
        },
        "outputId": "1570538e-17da-4701-a221-bcde9f6aa1e8"
      },
      "source": [
        "text = \"ㅋㅋㅋㅋ 하이\"\n",
        "re.compile('ㄱ-ㅎ+').findall(text)\n",
        "type(text)"
      ],
      "execution_count": 27,
      "outputs": [
        {
          "output_type": "execute_result",
          "data": {
            "text/plain": [
              "str"
            ]
          },
          "metadata": {
            "tags": []
          },
          "execution_count": 27
        }
      ]
    },
    {
      "cell_type": "code",
      "metadata": {
        "id": "M5cuBsieHOCg",
        "colab_type": "code",
        "colab": {
          "base_uri": "https://localhost:8080/",
          "height": 34
        },
        "outputId": "b76d781a-db83-4ef2-8e99-028f7895dc08"
      },
      "source": [
        "lyrics[0] # list 내 루프를 돌면서, 영어를 제거하고 새로운 리스트 생성"
      ],
      "execution_count": 28,
      "outputs": [
        {
          "output_type": "execute_result",
          "data": {
            "text/plain": [
              "'작은 것들을 위한 시 (Boy With Luv)Feat.Halsey'"
            ]
          },
          "metadata": {
            "tags": []
          },
          "execution_count": 28
        }
      ]
    },
    {
      "cell_type": "code",
      "metadata": {
        "id": "mAiEK-eKEb8F",
        "colab_type": "code",
        "colab": {}
      },
      "source": [
        ""
      ],
      "execution_count": 0,
      "outputs": []
    }
  ]
}