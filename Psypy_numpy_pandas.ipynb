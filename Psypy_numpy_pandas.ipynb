{
  "nbformat": 4,
  "nbformat_minor": 0,
  "metadata": {
    "colab": {
      "name": "Untitled0.ipynb",
      "provenance": [],
      "include_colab_link": true
    },
    "kernelspec": {
      "name": "python3",
      "display_name": "Python 3"
    }
  },
  "cells": [
    {
      "cell_type": "markdown",
      "metadata": {
        "id": "view-in-github",
        "colab_type": "text"
      },
      "source": [
        "<a href=\"https://colab.research.google.com/github/helloKH/python_study/blob/master/Psypy_numpy_pandas.ipynb\" target=\"_parent\"><img src=\"https://colab.research.google.com/assets/colab-badge.svg\" alt=\"Open In Colab\"/></a>"
      ]
    },
    {
      "cell_type": "markdown",
      "metadata": {
        "id": "Gan3-pQfJDym",
        "colab_type": "text"
      },
      "source": [
        "### Psypy 4회차 \n",
        "- numpy & Pandas 실습자료\n",
        "- 실습교재: Python for data analysis 2nd.\n",
        "- Chapter 4 ~ 5"
      ]
    },
    {
      "cell_type": "code",
      "metadata": {
        "id": "F4JM8qu6sPX1",
        "colab_type": "code",
        "colab": {
          "base_uri": "https://localhost:8080/",
          "height": 34
        },
        "outputId": "3211a7b5-779e-45d8-e99a-bf0cb99d618c"
      },
      "source": [
        "!python -V"
      ],
      "execution_count": 2,
      "outputs": [
        {
          "output_type": "stream",
          "text": [
            "Python 3.6.9\n"
          ],
          "name": "stdout"
        }
      ]
    },
    {
      "cell_type": "markdown",
      "metadata": {
        "id": "rc5Y-XD0QYT9",
        "colab_type": "text"
      },
      "source": [
        "#### Numpy에서 제공하는 것들\n",
        "- 효율적인 다차원 배열인 ndarray는 빠른 배열 계산과 유연한 **브로드캐스팅** 기능을 제공\n",
        "- 반복문을 작성할 필요 없이 전체 데이터배열을 빠르게 계산할 수 있는 표준 수학함수\n",
        "- 배열데이터를 디스크에 쓰거나 읽을 수 있는 도구와 메모리에 적재된 파일을 다루는 도구\n",
        "- 선형대수, 난수 생성기, 푸리에 변환 기능\n",
        "- C, C++, 포드란으로 작성한 코드를 연결할 수 있는 C API"
      ]
    },
    {
      "cell_type": "code",
      "metadata": {
        "id": "HPnu6sv4P5TJ",
        "colab_type": "code",
        "colab": {}
      },
      "source": [
        "import numpy as np"
      ],
      "execution_count": 0,
      "outputs": []
    },
    {
      "cell_type": "markdown",
      "metadata": {
        "id": "O6IBpzaCAySU",
        "colab_type": "text"
      },
      "source": [
        "#### 4.1 ndarray\n",
        "- N차원의 배열 객체이며, 대규모 데이터 집합을 다룰 수 있는 빠르고 유연한 자료 구조"
      ]
    },
    {
      "cell_type": "code",
      "metadata": {
        "id": "O1e2XWIAAu2F",
        "colab_type": "code",
        "outputId": "589e16c1-cec2-4920-be5a-f8e2e54d11b9",
        "colab": {
          "base_uri": "https://localhost:8080/",
          "height": 51
        }
      },
      "source": [
        "#### 임의의 값 생성\n",
        "data = np.random.randn(2,3)\n",
        "data"
      ],
      "execution_count": 0,
      "outputs": [
        {
          "output_type": "execute_result",
          "data": {
            "text/plain": [
              "array([[-0.07779822,  2.073489  ,  0.76026552],\n",
              "       [ 0.7516605 ,  1.18407855,  1.114874  ]])"
            ]
          },
          "metadata": {
            "tags": []
          },
          "execution_count": 2
        }
      ]
    },
    {
      "cell_type": "code",
      "metadata": {
        "id": "rVdz5QymBP3y",
        "colab_type": "code",
        "outputId": "3240b535-137f-422e-9ed7-176ac62eaa66",
        "colab": {
          "base_uri": "https://localhost:8080/",
          "height": 51
        }
      },
      "source": [
        "data * 10 # 산술연산"
      ],
      "execution_count": 0,
      "outputs": [
        {
          "output_type": "execute_result",
          "data": {
            "text/plain": [
              "array([[-0.7779822 , 20.73489005,  7.60265521],\n",
              "       [ 7.51660498, 11.8407855 , 11.14874001]])"
            ]
          },
          "metadata": {
            "tags": []
          },
          "execution_count": 3
        }
      ]
    },
    {
      "cell_type": "code",
      "metadata": {
        "id": "70nME7cDBUF7",
        "colab_type": "code",
        "outputId": "56b98d5e-ba43-4459-f5da-f95497287091",
        "colab": {
          "base_uri": "https://localhost:8080/",
          "height": 51
        }
      },
      "source": [
        "data + data"
      ],
      "execution_count": 0,
      "outputs": [
        {
          "output_type": "execute_result",
          "data": {
            "text/plain": [
              "array([[-0.15559644,  4.14697801,  1.52053104],\n",
              "       [ 1.503321  ,  2.3681571 ,  2.229748  ]])"
            ]
          },
          "metadata": {
            "tags": []
          },
          "execution_count": 4
        }
      ]
    },
    {
      "cell_type": "markdown",
      "metadata": {
        "id": "mBqLSPgmBeza",
        "colab_type": "text"
      },
      "source": [
        "- ndarray는 같은 종류의 데이터를 담을 수 있는 다차열 배열이다. ndarray의 모든 원소는 같은 자료형이어야 한다\n",
        "  - shape: 각 차원의 크기를 알려주며, 튜플 형태로 제시\n",
        "  - dtype: 배열에 저장된 자료형을 알려주는 객체"
      ]
    },
    {
      "cell_type": "code",
      "metadata": {
        "id": "DuoikR2wBXv7",
        "colab_type": "code",
        "outputId": "ea423196-a7ce-49b1-d607-ec7dbaf42be8",
        "colab": {
          "base_uri": "https://localhost:8080/",
          "height": 51
        }
      },
      "source": [
        "print(data.shape)\n",
        "\n",
        "data.dtype"
      ],
      "execution_count": 0,
      "outputs": [
        {
          "output_type": "stream",
          "text": [
            "(2, 3)\n"
          ],
          "name": "stdout"
        },
        {
          "output_type": "execute_result",
          "data": {
            "text/plain": [
              "dtype('float64')"
            ]
          },
          "metadata": {
            "tags": []
          },
          "execution_count": 6
        }
      ]
    },
    {
      "cell_type": "markdown",
      "metadata": {
        "id": "ub5rL8D6CFLy",
        "colab_type": "text"
      },
      "source": [
        "#### 4.1.1 ndarray 생성"
      ]
    },
    {
      "cell_type": "code",
      "metadata": {
        "id": "OwbcCT9kB82S",
        "colab_type": "code",
        "outputId": "74e0bc6e-3689-4463-f572-87a810fa838e",
        "colab": {
          "base_uri": "https://localhost:8080/",
          "height": 34
        }
      },
      "source": [
        "data1 = [6, 7.5, 8, 0, 1]\n",
        "arr1 = np.array(data1)\n",
        "arr1"
      ],
      "execution_count": 0,
      "outputs": [
        {
          "output_type": "execute_result",
          "data": {
            "text/plain": [
              "array([6. , 7.5, 8. , 0. , 1. ])"
            ]
          },
          "metadata": {
            "tags": []
          },
          "execution_count": 7
        }
      ]
    },
    {
      "cell_type": "code",
      "metadata": {
        "id": "BT0T4uiVIACR",
        "colab_type": "code",
        "outputId": "cbc50e88-5303-4f32-ba88-107aa5ade9cb",
        "colab": {
          "base_uri": "https://localhost:8080/",
          "height": 51
        }
      },
      "source": [
        "# 같은 길이를 가진 리스트는 다차월 배열 변환 가능\n",
        "data2 = [[1,2,3,4], [5,6,7,8]]\n",
        "arr2 = np.array(data2)\n",
        "arr2"
      ],
      "execution_count": 0,
      "outputs": [
        {
          "output_type": "execute_result",
          "data": {
            "text/plain": [
              "array([[1, 2, 3, 4],\n",
              "       [5, 6, 7, 8]])"
            ]
          },
          "metadata": {
            "tags": []
          },
          "execution_count": 8
        }
      ]
    },
    {
      "cell_type": "code",
      "metadata": {
        "id": "5hm5EjofINL7",
        "colab_type": "code",
        "outputId": "4528af9b-be56-400d-c001-d56e366f547c",
        "colab": {
          "base_uri": "https://localhost:8080/",
          "height": 34
        }
      },
      "source": [
        "arr2.ndim"
      ],
      "execution_count": 0,
      "outputs": [
        {
          "output_type": "execute_result",
          "data": {
            "text/plain": [
              "2"
            ]
          },
          "metadata": {
            "tags": []
          },
          "execution_count": 9
        }
      ]
    },
    {
      "cell_type": "code",
      "metadata": {
        "id": "_hvmmG1aIQkI",
        "colab_type": "code",
        "outputId": "bd257d1d-3a1d-4a3f-d04f-976b5c165025",
        "colab": {
          "base_uri": "https://localhost:8080/",
          "height": 34
        }
      },
      "source": [
        "arr2.shape"
      ],
      "execution_count": 0,
      "outputs": [
        {
          "output_type": "execute_result",
          "data": {
            "text/plain": [
              "(2, 4)"
            ]
          },
          "metadata": {
            "tags": []
          },
          "execution_count": 11
        }
      ]
    },
    {
      "cell_type": "code",
      "metadata": {
        "id": "X7fNltjTIXs4",
        "colab_type": "code",
        "outputId": "368ba7ef-9a09-4c0a-b587-6429cc827eb6",
        "colab": {
          "base_uri": "https://localhost:8080/",
          "height": 51
        }
      },
      "source": [
        "# np.array의 자료형은 추론되어 dtype에 저장됨\n",
        "print(arr1.dtype)\n",
        "print(arr2.dtype)"
      ],
      "execution_count": 0,
      "outputs": [
        {
          "output_type": "stream",
          "text": [
            "float64\n",
            "int64\n"
          ],
          "name": "stdout"
        }
      ]
    },
    {
      "cell_type": "code",
      "metadata": {
        "id": "ddQ78tcgIrLM",
        "colab_type": "code",
        "outputId": "6dc39e82-271b-4b54-dd5e-4e96bb423699",
        "colab": {
          "base_uri": "https://localhost:8080/",
          "height": 255
        }
      },
      "source": [
        "# 배열에 0 생성\n",
        "np.zeros(10)\n",
        "print(np.zeros((2,3,2)))\n",
        "\n",
        "# 배열에 1 생성\n",
        "np.ones(4)\n",
        "np.ones((2,3,1))"
      ],
      "execution_count": 0,
      "outputs": [
        {
          "output_type": "stream",
          "text": [
            "[[[0. 0.]\n",
            "  [0. 0.]\n",
            "  [0. 0.]]\n",
            "\n",
            " [[0. 0.]\n",
            "  [0. 0.]\n",
            "  [0. 0.]]]\n"
          ],
          "name": "stdout"
        },
        {
          "output_type": "execute_result",
          "data": {
            "text/plain": [
              "array([[[1.],\n",
              "        [1.],\n",
              "        [1.]],\n",
              "\n",
              "       [[1.],\n",
              "        [1.],\n",
              "        [1.]]])"
            ]
          },
          "metadata": {
            "tags": []
          },
          "execution_count": 17
        }
      ]
    },
    {
      "cell_type": "code",
      "metadata": {
        "id": "UqiSCCiAJn5C",
        "colab_type": "code",
        "outputId": "e9848176-d527-444d-e779-bbc15b53052f",
        "colab": {
          "base_uri": "https://localhost:8080/",
          "height": 34
        }
      },
      "source": [
        "# np.arange는 range의 함수 버전\n",
        "np.arange(4)"
      ],
      "execution_count": 0,
      "outputs": [
        {
          "output_type": "execute_result",
          "data": {
            "text/plain": [
              "array([0, 1, 2, 3])"
            ]
          },
          "metadata": {
            "tags": []
          },
          "execution_count": 18
        }
      ]
    },
    {
      "cell_type": "markdown",
      "metadata": {
        "id": "vqGN-kW7NPr4",
        "colab_type": "text"
      },
      "source": [
        "#### 4.1.2 ndarray의 dtype"
      ]
    },
    {
      "cell_type": "code",
      "metadata": {
        "id": "ngEZitvMNLvL",
        "colab_type": "code",
        "colab": {
          "base_uri": "https://localhost:8080/",
          "height": 34
        },
        "outputId": "885f0836-378e-4cbe-e88c-e2a587068180"
      },
      "source": [
        "# dtype는 ndarray가 메모리를 해석하기 위해 필요한 정보(메타데이터)를 담고 있음\n",
        "arr1 = np.array([1,2,3], dtype=np.float64)\n",
        "arr2 = np.array([1,2,3], dtype=np.int32)\n",
        "\n",
        "arr1.dtype\n",
        "arr2.dtype"
      ],
      "execution_count": 6,
      "outputs": [
        {
          "output_type": "execute_result",
          "data": {
            "text/plain": [
              "dtype('int32')"
            ]
          },
          "metadata": {
            "tags": []
          },
          "execution_count": 6
        }
      ]
    },
    {
      "cell_type": "code",
      "metadata": {
        "id": "AI--1nQMs0Zh",
        "colab_type": "code",
        "colab": {
          "base_uri": "https://localhost:8080/",
          "height": 51
        },
        "outputId": "83c1ad15-450d-4c0c-f612-02ef0ef3f40b"
      },
      "source": [
        "#astype를 통해 배열의 dtype를 다른 형으로 변환\n",
        "arr = np.array([1,2,3,4,5])\n",
        "print(arr.dtype)\n",
        "\n",
        "float_arr = arr.astype(np.float64)\n",
        "float_arr.dtype"
      ],
      "execution_count": 9,
      "outputs": [
        {
          "output_type": "stream",
          "text": [
            "int64\n"
          ],
          "name": "stdout"
        },
        {
          "output_type": "execute_result",
          "data": {
            "text/plain": [
              "dtype('float64')"
            ]
          },
          "metadata": {
            "tags": []
          },
          "execution_count": 9
        }
      ]
    },
    {
      "cell_type": "code",
      "metadata": {
        "id": "mvEiq0oatTtn",
        "colab_type": "code",
        "colab": {
          "base_uri": "https://localhost:8080/",
          "height": 51
        },
        "outputId": "91877b41-d34a-482e-d85a-83909e73f24d"
      },
      "source": [
        "#부동소수점은 아래 자리가 버려짐\n",
        "arr = np.array([3.7, -1.2, -2.6, 0.5, 12.9, 10.1])\n",
        "print(arr)\n",
        "arr.astype(np.int32)"
      ],
      "execution_count": 10,
      "outputs": [
        {
          "output_type": "stream",
          "text": [
            "[ 3.7 -1.2 -2.6  0.5 12.9 10.1]\n"
          ],
          "name": "stdout"
        },
        {
          "output_type": "execute_result",
          "data": {
            "text/plain": [
              "array([ 3, -1, -2,  0, 12, 10], dtype=int32)"
            ]
          },
          "metadata": {
            "tags": []
          },
          "execution_count": 10
        }
      ]
    },
    {
      "cell_type": "code",
      "metadata": {
        "id": "SRx9DLojuiga",
        "colab_type": "code",
        "colab": {
          "base_uri": "https://localhost:8080/",
          "height": 34
        },
        "outputId": "23570151-c369-40a5-f942-8572fd9dcb6b"
      },
      "source": [
        "#숫자 형식의 문자열은 숫자로 변환 가능\n",
        "numberic_strings = np.array(['1.25', '-9.6', '42'], dtype = np.string_)\n",
        "numberic_strings.astype(float)"
      ],
      "execution_count": 11,
      "outputs": [
        {
          "output_type": "execute_result",
          "data": {
            "text/plain": [
              "array([ 1.25, -9.6 , 42.  ])"
            ]
          },
          "metadata": {
            "tags": []
          },
          "execution_count": 11
        }
      ]
    },
    {
      "cell_type": "markdown",
      "metadata": {
        "id": "49XKG5Vdu9HU",
        "colab_type": "text"
      },
      "source": [
        "#### 4.13 Numpy 배열 산술 연산\n",
        "- 배열은 for문을 사용하지 않고 데이터를 일괄 처리할 수 있다는 장점이 있음.\n",
        "- 이를 벡터화라고 하며, 같은 크기의 배열 간 산술 연산은 각 원소 단위로 적용"
      ]
    },
    {
      "cell_type": "code",
      "metadata": {
        "id": "3BdxO1bbu1YB",
        "colab_type": "code",
        "colab": {
          "base_uri": "https://localhost:8080/",
          "height": 119
        },
        "outputId": "ba4f012d-053f-4854-ead6-8ee571780f83"
      },
      "source": [
        "arr = np.array([[1,2,3], [4,5,6]])\n",
        "print(arr)\n",
        "print(arr*arr)\n",
        "print(arr - arr)"
      ],
      "execution_count": 15,
      "outputs": [
        {
          "output_type": "stream",
          "text": [
            "[[1 2 3]\n",
            " [4 5 6]]\n",
            "[[ 1  4  9]\n",
            " [16 25 36]]\n",
            "[[0 0 0]\n",
            " [0 0 0]]\n"
          ],
          "name": "stdout"
        }
      ]
    },
    {
      "cell_type": "code",
      "metadata": {
        "id": "ZZhkpJc8yxBR",
        "colab_type": "code",
        "colab": {
          "base_uri": "https://localhost:8080/",
          "height": 51
        },
        "outputId": "75ed6b8c-657e-4ff5-849c-471382e10c4e"
      },
      "source": [
        "# 같은 크기의 배열 간 비교는 불리언, 다른 크기의 배열은 브로드캐스팅 적용\n",
        "arr2 = np.array([[0, 4, 1], [7, 2, 12]])\n",
        "arr\n",
        "arr2 > arr"
      ],
      "execution_count": 16,
      "outputs": [
        {
          "output_type": "execute_result",
          "data": {
            "text/plain": [
              "array([[False,  True, False],\n",
              "       [ True, False,  True]])"
            ]
          },
          "metadata": {
            "tags": []
          },
          "execution_count": 16
        }
      ]
    },
    {
      "cell_type": "markdown",
      "metadata": {
        "id": "qhvjzYQFzafd",
        "colab_type": "text"
      },
      "source": [
        "#### 4.1.4 색인과 슬라이싱 기초"
      ]
    },
    {
      "cell_type": "code",
      "metadata": {
        "id": "i05s2KIozXaG",
        "colab_type": "code",
        "colab": {
          "base_uri": "https://localhost:8080/",
          "height": 85
        },
        "outputId": "80e97690-6395-45db-cbae-39521d8ff569"
      },
      "source": [
        "#1차원 배열은 리스트와 유사하게 동작\n",
        "arr = np.arange(10)\n",
        "print(arr)\n",
        "print(arr[5])\n",
        "print(arr[5:8])\n",
        "arr[5:8] = 12\n",
        "print(arr)"
      ],
      "execution_count": 5,
      "outputs": [
        {
          "output_type": "stream",
          "text": [
            "[0 1 2 3 4 5 6 7 8 9]\n",
            "5\n",
            "[5 6 7]\n",
            "[ 0  1  2  3  4 12 12 12  8  9]\n"
          ],
          "name": "stdout"
        }
      ]
    },
    {
      "cell_type": "code",
      "metadata": {
        "id": "oyBgKRxc1--I",
        "colab_type": "code",
        "colab": {
          "base_uri": "https://localhost:8080/",
          "height": 85
        },
        "outputId": "13484794-157c-48ef-f109-d129b59109ab"
      },
      "source": [
        "# numpy 배열은 복사되지 않는다\n",
        "# 배열조각은 원본의 뷰로, 데이터는 복사되지 않고 뷰에 대한 변경은 원본 배열에 반영\n",
        "arr_slice = arr[5:8]\n",
        "print(arr_slice)\n",
        "\n",
        "arr_slice[1] = 12345\n",
        "print(arr)\n",
        "\n",
        "arr_slice[2] = 3\n",
        "print(arr)\n",
        "\n",
        "print(arr_slice)"
      ],
      "execution_count": 6,
      "outputs": [
        {
          "output_type": "stream",
          "text": [
            "[12 12 12]\n",
            "[    0     1     2     3     4    12 12345    12     8     9]\n",
            "[    0     1     2     3     4    12 12345     3     8     9]\n",
            "[   12 12345     3]\n"
          ],
          "name": "stdout"
        }
      ]
    },
    {
      "cell_type": "code",
      "metadata": {
        "id": "tESQY7yt2kt_",
        "colab_type": "code",
        "colab": {
          "base_uri": "https://localhost:8080/",
          "height": 34
        },
        "outputId": "32d9864c-797a-4e92-b4fb-113b4f1ad42d"
      },
      "source": [
        "# 뷰 대신 ndarray의 슬라이스의 복사본을 얻고 싶다면 .copy를 사용한다\n",
        "arr[5:8].copy()"
      ],
      "execution_count": 8,
      "outputs": [
        {
          "output_type": "execute_result",
          "data": {
            "text/plain": [
              "array([   12, 12345,     3])"
            ]
          },
          "metadata": {
            "tags": []
          },
          "execution_count": 8
        }
      ]
    },
    {
      "cell_type": "code",
      "metadata": {
        "id": "l0KZ53gE5U77",
        "colab_type": "code",
        "colab": {
          "base_uri": "https://localhost:8080/",
          "height": 34
        },
        "outputId": "8eec97ab-d0f0-49d1-c966-8b7081e9c2f0"
      },
      "source": [
        "#단순히 [:]는 배열의 모든 값 할당\n",
        "arr_slice[:]  =64\n",
        "arr_slice\n"
      ],
      "execution_count": 11,
      "outputs": [
        {
          "output_type": "execute_result",
          "data": {
            "text/plain": [
              "array([64, 64, 64])"
            ]
          },
          "metadata": {
            "tags": []
          },
          "execution_count": 11
        }
      ]
    },
    {
      "cell_type": "code",
      "metadata": {
        "id": "jj5iCU1RHiK4",
        "colab_type": "code",
        "colab": {
          "base_uri": "https://localhost:8080/",
          "height": 34
        },
        "outputId": "742050a3-43e5-4fb1-9017-41c3e499a190"
      },
      "source": [
        "#2차원 배열(행렬)에서 각 색인에 해당하는 요소는 1차원 배열\n",
        "arr2d = np.array([[1,2,3], [4,5,6], [7,8,9]])\n",
        "arr2d[2]\n",
        "\n",
        "#콤마로 구분된 색인 리스트 넘기기\n",
        "arr2d[2][0]\n",
        "\n",
        "arr2d[0, 2]"
      ],
      "execution_count": 16,
      "outputs": [
        {
          "output_type": "execute_result",
          "data": {
            "text/plain": [
              "3"
            ]
          },
          "metadata": {
            "tags": []
          },
          "execution_count": 16
        }
      ]
    },
    {
      "cell_type": "code",
      "metadata": {
        "id": "y1fnDl-cIR2b",
        "colab_type": "code",
        "colab": {
          "base_uri": "https://localhost:8080/",
          "height": 34
        },
        "outputId": "a369378a-10a6-4f14-ec6f-97714f646ecc"
      },
      "source": [
        "#다차원 배열에서 마지막 색인을 생략할 때 반환되는 객체는 상위 차원의 데이터를 포함한 한 차원 낮은 ndarray(텐서 -> 행령, 행렬 -> 배열)\n",
        "arr3d = ([[[1,2,3], [4,5,6]], [[7,8,9], [9,10,11]]])\n",
        "arr3d"
      ],
      "execution_count": 24,
      "outputs": [
        {
          "output_type": "execute_result",
          "data": {
            "text/plain": [
              "[[[1, 2, 3], [4, 5, 6]], [[7, 8, 9], [9, 10, 11]]]"
            ]
          },
          "metadata": {
            "tags": []
          },
          "execution_count": 24
        }
      ]
    },
    {
      "cell_type": "code",
      "metadata": {
        "id": "0y0kWG1ZJGI5",
        "colab_type": "code",
        "colab": {
          "base_uri": "https://localhost:8080/",
          "height": 34
        },
        "outputId": "ae3cfb31-6aa6-4263-d241-a2a5e62d564f"
      },
      "source": [
        "arr3d[0] # 2 x 3 배열"
      ],
      "execution_count": 25,
      "outputs": [
        {
          "output_type": "execute_result",
          "data": {
            "text/plain": [
              "[[1, 2, 3], [4, 5, 6]]"
            ]
          },
          "metadata": {
            "tags": []
          },
          "execution_count": 25
        }
      ]
    },
    {
      "cell_type": "markdown",
      "metadata": {
        "id": "ITHMjphWKg7h",
        "colab_type": "text"
      },
      "source": [
        "- 슬라이스로 선택하기\n"
      ]
    },
    {
      "cell_type": "code",
      "metadata": {
        "id": "5TVIj4_nKCa2",
        "colab_type": "code",
        "colab": {
          "base_uri": "https://localhost:8080/",
          "height": 51
        },
        "outputId": "97cf355b-a329-4024-9873-e99e43cac804"
      },
      "source": [
        "arr2d[:2] #시작부터 두번째 row까지 선택"
      ],
      "execution_count": 28,
      "outputs": [
        {
          "output_type": "execute_result",
          "data": {
            "text/plain": [
              "array([[1, 2, 3],\n",
              "       [4, 5, 6]])"
            ]
          },
          "metadata": {
            "tags": []
          },
          "execution_count": 28
        }
      ]
    },
    {
      "cell_type": "code",
      "metadata": {
        "id": "73ufUwTjKqIU",
        "colab_type": "code",
        "colab": {
          "base_uri": "https://localhost:8080/",
          "height": 51
        },
        "outputId": "30b51894-eb3d-478a-fd79-064065a9d3d0"
      },
      "source": [
        "arr2d[:2, 1:]\n"
      ],
      "execution_count": 29,
      "outputs": [
        {
          "output_type": "execute_result",
          "data": {
            "text/plain": [
              "array([[2, 3],\n",
              "       [5, 6]])"
            ]
          },
          "metadata": {
            "tags": []
          },
          "execution_count": 29
        }
      ]
    },
    {
      "cell_type": "markdown",
      "metadata": {
        "id": "WBoEWLvLK83E",
        "colab_type": "text"
      },
      "source": [
        "#### 4.1.5 불리언 값으로 선택"
      ]
    },
    {
      "cell_type": "code",
      "metadata": {
        "id": "pgh-aX9oK45z",
        "colab_type": "code",
        "colab": {}
      },
      "source": [
        "names = np.array(['Bob', 'Joe', 'Will', 'Bob', 'Will', 'Joe', 'Joe'])\n",
        "data = np.random.randn(7, 4)"
      ],
      "execution_count": 0,
      "outputs": []
    },
    {
      "cell_type": "code",
      "metadata": {
        "id": "8ilJ_NNQLa2v",
        "colab_type": "code",
        "colab": {
          "base_uri": "https://localhost:8080/",
          "height": 34
        },
        "outputId": "5f81deb8-166f-43d3-a538-4370740e7456"
      },
      "source": [
        "names"
      ],
      "execution_count": 31,
      "outputs": [
        {
          "output_type": "execute_result",
          "data": {
            "text/plain": [
              "array(['Bob', 'Joe', 'Will', 'Bob', 'Will', 'Joe', 'Joe'], dtype='<U4')"
            ]
          },
          "metadata": {
            "tags": []
          },
          "execution_count": 31
        }
      ]
    },
    {
      "cell_type": "code",
      "metadata": {
        "id": "nGQON4mULdU4",
        "colab_type": "code",
        "colab": {
          "base_uri": "https://localhost:8080/",
          "height": 136
        },
        "outputId": "a23f5fc9-97c4-44a0-ff26-56da5af49c48"
      },
      "source": [
        "data"
      ],
      "execution_count": 32,
      "outputs": [
        {
          "output_type": "execute_result",
          "data": {
            "text/plain": [
              "array([[-1.33458251, -1.24979595, -0.71761731, -0.40723833],\n",
              "       [-0.262714  ,  0.16087214,  0.02004901, -0.82991284],\n",
              "       [ 0.66481812,  1.03982497,  1.4359695 ,  0.46394048],\n",
              "       [ 0.45167434,  0.57170577, -0.15811904,  0.18970495],\n",
              "       [-1.54157059, -1.62261609,  0.75956965,  0.80204636],\n",
              "       [-0.66846822,  0.57686788,  0.1028832 ,  0.7088873 ],\n",
              "       [ 0.27471918, -0.01106891, -0.00583349, -0.27276468]])"
            ]
          },
          "metadata": {
            "tags": []
          },
          "execution_count": 32
        }
      ]
    },
    {
      "cell_type": "markdown",
      "metadata": {
        "id": "SqzRp2EoLoUy",
        "colab_type": "text"
      },
      "source": [
        "- 불리언 배열을 배열의 색인으로 사용"
      ]
    },
    {
      "cell_type": "code",
      "metadata": {
        "id": "0kLEjRLILfKW",
        "colab_type": "code",
        "colab": {
          "base_uri": "https://localhost:8080/",
          "height": 51
        },
        "outputId": "c0b3cd15-f467-4488-fa09-472bdeb4280a"
      },
      "source": [
        "data[names == 'Bob']"
      ],
      "execution_count": 33,
      "outputs": [
        {
          "output_type": "execute_result",
          "data": {
            "text/plain": [
              "array([[-1.33458251, -1.24979595, -0.71761731, -0.40723833],\n",
              "       [ 0.45167434,  0.57170577, -0.15811904,  0.18970495]])"
            ]
          },
          "metadata": {
            "tags": []
          },
          "execution_count": 33
        }
      ]
    },
    {
      "cell_type": "code",
      "metadata": {
        "id": "SIK9iGxvLh09",
        "colab_type": "code",
        "colab": {
          "base_uri": "https://localhost:8080/",
          "height": 51
        },
        "outputId": "4590eff8-1247-439d-c374-c1626d27ad36"
      },
      "source": [
        "data[names == 'Bob', 2:]"
      ],
      "execution_count": 34,
      "outputs": [
        {
          "output_type": "execute_result",
          "data": {
            "text/plain": [
              "array([[-0.71761731, -0.40723833],\n",
              "       [-0.15811904,  0.18970495]])"
            ]
          },
          "metadata": {
            "tags": []
          },
          "execution_count": 34
        }
      ]
    },
    {
      "cell_type": "code",
      "metadata": {
        "id": "eMHRYD30L0bz",
        "colab_type": "code",
        "colab": {
          "base_uri": "https://localhost:8080/",
          "height": 34
        },
        "outputId": "8b4c3575-afb9-4249-d677-42d345443210"
      },
      "source": [
        "data[names == 'Bob', 3]"
      ],
      "execution_count": 35,
      "outputs": [
        {
          "output_type": "execute_result",
          "data": {
            "text/plain": [
              "array([-0.40723833,  0.18970495])"
            ]
          },
          "metadata": {
            "tags": []
          },
          "execution_count": 35
        }
      ]
    },
    {
      "cell_type": "markdown",
      "metadata": {
        "id": "W6gSb0bYL4xH",
        "colab_type": "text"
      },
      "source": [
        "- Bob이 아닌 요소는 != 혹은 ~을 사용한 조건절 부인"
      ]
    },
    {
      "cell_type": "code",
      "metadata": {
        "id": "7892KD7TL2KU",
        "colab_type": "code",
        "colab": {
          "base_uri": "https://localhost:8080/",
          "height": 34
        },
        "outputId": "116ec344-7861-4bd1-f154-f107a011c0a3"
      },
      "source": [
        "names != 'Bob'"
      ],
      "execution_count": 36,
      "outputs": [
        {
          "output_type": "execute_result",
          "data": {
            "text/plain": [
              "array([False,  True,  True, False,  True,  True,  True])"
            ]
          },
          "metadata": {
            "tags": []
          },
          "execution_count": 36
        }
      ]
    },
    {
      "cell_type": "code",
      "metadata": {
        "id": "vMB7jmgWMAre",
        "colab_type": "code",
        "colab": {
          "base_uri": "https://localhost:8080/",
          "height": 102
        },
        "outputId": "9cd64576-2814-42e1-b4b8-f691924a98b5"
      },
      "source": [
        "data[~(names == 'Bob')]"
      ],
      "execution_count": 37,
      "outputs": [
        {
          "output_type": "execute_result",
          "data": {
            "text/plain": [
              "array([[-0.262714  ,  0.16087214,  0.02004901, -0.82991284],\n",
              "       [ 0.66481812,  1.03982497,  1.4359695 ,  0.46394048],\n",
              "       [-1.54157059, -1.62261609,  0.75956965,  0.80204636],\n",
              "       [-0.66846822,  0.57686788,  0.1028832 ,  0.7088873 ],\n",
              "       [ 0.27471918, -0.01106891, -0.00583349, -0.27276468]])"
            ]
          },
          "metadata": {
            "tags": []
          },
          "execution_count": 37
        }
      ]
    },
    {
      "cell_type": "code",
      "metadata": {
        "id": "DveiFNyPMCVc",
        "colab_type": "code",
        "colab": {
          "base_uri": "https://localhost:8080/",
          "height": 102
        },
        "outputId": "ab076603-7228-49bc-f10b-bac8d3cab46d"
      },
      "source": [
        "cond = names == 'Bob'\n",
        "data[~cond]"
      ],
      "execution_count": 38,
      "outputs": [
        {
          "output_type": "execute_result",
          "data": {
            "text/plain": [
              "array([[-0.262714  ,  0.16087214,  0.02004901, -0.82991284],\n",
              "       [ 0.66481812,  1.03982497,  1.4359695 ,  0.46394048],\n",
              "       [-1.54157059, -1.62261609,  0.75956965,  0.80204636],\n",
              "       [-0.66846822,  0.57686788,  0.1028832 ,  0.7088873 ],\n",
              "       [ 0.27471918, -0.01106891, -0.00583349, -0.27276468]])"
            ]
          },
          "metadata": {
            "tags": []
          },
          "execution_count": 38
        }
      ]
    },
    {
      "cell_type": "markdown",
      "metadata": {
        "id": "Ow1iOG-BMGXu",
        "colab_type": "text"
      },
      "source": [
        "- 논리연산자 통해 &(and) 나 |(or) 로 여러 불리언 사용 가능"
      ]
    },
    {
      "cell_type": "code",
      "metadata": {
        "id": "Jr5kObTMMEIA",
        "colab_type": "code",
        "colab": {
          "base_uri": "https://localhost:8080/",
          "height": 34
        },
        "outputId": "b1302611-0842-4f5f-9bc1-700b71b537e8"
      },
      "source": [
        "mask = (names == 'Bob') | (names == 'Will')\n",
        "mask"
      ],
      "execution_count": 39,
      "outputs": [
        {
          "output_type": "execute_result",
          "data": {
            "text/plain": [
              "array([ True, False,  True,  True,  True, False, False])"
            ]
          },
          "metadata": {
            "tags": []
          },
          "execution_count": 39
        }
      ]
    },
    {
      "cell_type": "code",
      "metadata": {
        "id": "ncv9jAh8MPAq",
        "colab_type": "code",
        "colab": {
          "base_uri": "https://localhost:8080/",
          "height": 136
        },
        "outputId": "b0d4f747-aa2f-4327-8d8f-9039da37475e"
      },
      "source": [
        "data[data < 0] = 0\n",
        "data"
      ],
      "execution_count": 40,
      "outputs": [
        {
          "output_type": "execute_result",
          "data": {
            "text/plain": [
              "array([[0.        , 0.        , 0.        , 0.        ],\n",
              "       [0.        , 0.16087214, 0.02004901, 0.        ],\n",
              "       [0.66481812, 1.03982497, 1.4359695 , 0.46394048],\n",
              "       [0.45167434, 0.57170577, 0.        , 0.18970495],\n",
              "       [0.        , 0.        , 0.75956965, 0.80204636],\n",
              "       [0.        , 0.57686788, 0.1028832 , 0.7088873 ],\n",
              "       [0.27471918, 0.        , 0.        , 0.        ]])"
            ]
          },
          "metadata": {
            "tags": []
          },
          "execution_count": 40
        }
      ]
    },
    {
      "cell_type": "code",
      "metadata": {
        "id": "tPXF0hkbMWxy",
        "colab_type": "code",
        "colab": {
          "base_uri": "https://localhost:8080/",
          "height": 136
        },
        "outputId": "3bb1d431-ad38-4581-97e8-7f349e29c0b3"
      },
      "source": [
        "data[names != 'Joe'] = 7\n",
        "data"
      ],
      "execution_count": 41,
      "outputs": [
        {
          "output_type": "execute_result",
          "data": {
            "text/plain": [
              "array([[7.        , 7.        , 7.        , 7.        ],\n",
              "       [0.        , 0.16087214, 0.02004901, 0.        ],\n",
              "       [7.        , 7.        , 7.        , 7.        ],\n",
              "       [7.        , 7.        , 7.        , 7.        ],\n",
              "       [7.        , 7.        , 7.        , 7.        ],\n",
              "       [0.        , 0.57686788, 0.1028832 , 0.7088873 ],\n",
              "       [0.27471918, 0.        , 0.        , 0.        ]])"
            ]
          },
          "metadata": {
            "tags": []
          },
          "execution_count": 41
        }
      ]
    },
    {
      "cell_type": "markdown",
      "metadata": {
        "id": "RrJ-Z5C7MePU",
        "colab_type": "text"
      },
      "source": [
        "#### 4.1.7 배열 전치와 축 바꾸기\n",
        "- 배열 전치는 데이터를 복사하지 않고 데이터의 모양이 바뀐 뷰를 반환\n",
        "- transponse 메서드"
      ]
    },
    {
      "cell_type": "code",
      "metadata": {
        "id": "nE0Zk3KdMgij",
        "colab_type": "code",
        "colab": {
          "base_uri": "https://localhost:8080/",
          "height": 68
        },
        "outputId": "5451cb3b-9b2b-4a71-85c5-b042a5e17110"
      },
      "source": [
        "arr = np.arange(15).reshape(3, 5)\n",
        "arr"
      ],
      "execution_count": 42,
      "outputs": [
        {
          "output_type": "execute_result",
          "data": {
            "text/plain": [
              "array([[ 0,  1,  2,  3,  4],\n",
              "       [ 5,  6,  7,  8,  9],\n",
              "       [10, 11, 12, 13, 14]])"
            ]
          },
          "metadata": {
            "tags": []
          },
          "execution_count": 42
        }
      ]
    },
    {
      "cell_type": "code",
      "metadata": {
        "id": "fxHBiSl_Mv1q",
        "colab_type": "code",
        "colab": {
          "base_uri": "https://localhost:8080/",
          "height": 102
        },
        "outputId": "e9523c25-792e-4a6c-8ca3-9d57f281f917"
      },
      "source": [
        "arr.T"
      ],
      "execution_count": 43,
      "outputs": [
        {
          "output_type": "execute_result",
          "data": {
            "text/plain": [
              "array([[ 0,  5, 10],\n",
              "       [ 1,  6, 11],\n",
              "       [ 2,  7, 12],\n",
              "       [ 3,  8, 13],\n",
              "       [ 4,  9, 14]])"
            ]
          },
          "metadata": {
            "tags": []
          },
          "execution_count": 43
        }
      ]
    },
    {
      "cell_type": "code",
      "metadata": {
        "id": "lGS6VMfhMyPD",
        "colab_type": "code",
        "colab": {
          "base_uri": "https://localhost:8080/",
          "height": 187
        },
        "outputId": "7c4675ca-c377-4c2e-bb92-3c938649fa74"
      },
      "source": [
        "#다차원배열은 transponse는 튜플로 축 번호를 받아서 치환(첫 번째, 두 번째 축 순서가 바뀌고 마지막은 그대로임)\n",
        "arr = np.arange(16).reshape(2,2,4)\n",
        "print(arr)\n",
        "\n",
        "arr.transpose((1,0,2))"
      ],
      "execution_count": 48,
      "outputs": [
        {
          "output_type": "stream",
          "text": [
            "[[[ 0  1  2  3]\n",
            "  [ 4  5  6  7]]\n",
            "\n",
            " [[ 8  9 10 11]\n",
            "  [12 13 14 15]]]\n"
          ],
          "name": "stdout"
        },
        {
          "output_type": "execute_result",
          "data": {
            "text/plain": [
              "array([[[ 0,  1,  2,  3],\n",
              "        [ 8,  9, 10, 11]],\n",
              "\n",
              "       [[ 4,  5,  6,  7],\n",
              "        [12, 13, 14, 15]]])"
            ]
          },
          "metadata": {
            "tags": []
          },
          "execution_count": 48
        }
      ]
    },
    {
      "cell_type": "markdown",
      "metadata": {
        "id": "35RjsQ9WOqmb",
        "colab_type": "text"
      },
      "source": [
        "#### 4.2 유니버설 함수\n",
        "- 교재 참고"
      ]
    },
    {
      "cell_type": "markdown",
      "metadata": {
        "id": "Iy1lgbZWOu4d",
        "colab_type": "text"
      },
      "source": [
        "#### 4.3 배열지향 프로그래밍\n",
        "- 반복문 없이 간결한 배열 연산으로 데이터 처리하기"
      ]
    },
    {
      "cell_type": "code",
      "metadata": {
        "id": "svOWpvDvOB6v",
        "colab_type": "code",
        "colab": {
          "base_uri": "https://localhost:8080/",
          "height": 136
        },
        "outputId": "0f9e9c98-d6d7-4868-b6fe-fb04bca428df"
      },
      "source": [
        "points = np.arange(-5, 5, 0.01)\n",
        "xs, ys = np.meshgrid(points, points)\n",
        "ys"
      ],
      "execution_count": 51,
      "outputs": [
        {
          "output_type": "execute_result",
          "data": {
            "text/plain": [
              "array([[-5.  , -5.  , -5.  , ..., -5.  , -5.  , -5.  ],\n",
              "       [-4.99, -4.99, -4.99, ..., -4.99, -4.99, -4.99],\n",
              "       [-4.98, -4.98, -4.98, ..., -4.98, -4.98, -4.98],\n",
              "       ...,\n",
              "       [ 4.97,  4.97,  4.97, ...,  4.97,  4.97,  4.97],\n",
              "       [ 4.98,  4.98,  4.98, ...,  4.98,  4.98,  4.98],\n",
              "       [ 4.99,  4.99,  4.99, ...,  4.99,  4.99,  4.99]])"
            ]
          },
          "metadata": {
            "tags": []
          },
          "execution_count": 51
        }
      ]
    },
    {
      "cell_type": "code",
      "metadata": {
        "id": "HWaqQ47zP9K_",
        "colab_type": "code",
        "colab": {
          "base_uri": "https://localhost:8080/",
          "height": 238
        },
        "outputId": "5ab62c9d-3fc0-4ec8-e59a-2700f23ed1f3"
      },
      "source": [
        "z = np.sqrt(xs ** 2 + ys ** 2)\n",
        "z"
      ],
      "execution_count": 52,
      "outputs": [
        {
          "output_type": "execute_result",
          "data": {
            "text/plain": [
              "array([[7.07106781, 7.06400028, 7.05693985, ..., 7.04988652, 7.05693985,\n",
              "        7.06400028],\n",
              "       [7.06400028, 7.05692568, 7.04985815, ..., 7.04279774, 7.04985815,\n",
              "        7.05692568],\n",
              "       [7.05693985, 7.04985815, 7.04278354, ..., 7.03571603, 7.04278354,\n",
              "        7.04985815],\n",
              "       ...,\n",
              "       [7.04988652, 7.04279774, 7.03571603, ..., 7.0286414 , 7.03571603,\n",
              "        7.04279774],\n",
              "       [7.05693985, 7.04985815, 7.04278354, ..., 7.03571603, 7.04278354,\n",
              "        7.04985815],\n",
              "       [7.06400028, 7.05692568, 7.04985815, ..., 7.04279774, 7.04985815,\n",
              "        7.05692568]])"
            ]
          },
          "metadata": {
            "tags": []
          },
          "execution_count": 52
        }
      ]
    },
    {
      "cell_type": "code",
      "metadata": {
        "id": "eaZ_kjviQGcn",
        "colab_type": "code",
        "colab": {
          "base_uri": "https://localhost:8080/",
          "height": 305
        },
        "outputId": "86bba3cb-0c4d-4a6d-9d48-784a67428991"
      },
      "source": [
        "import matplotlib.pyplot as plt\n",
        "\n",
        "plt.imshow(z, cmap = plt.cm.gray);plt.colorbar()\n",
        "plt.title(\"Image plot of $\\sqrt{x^2 + y^2}$ for a grid of values\")"
      ],
      "execution_count": 54,
      "outputs": [
        {
          "output_type": "execute_result",
          "data": {
            "text/plain": [
              "Text(0.5, 1.0, 'Image plot of $\\\\sqrt{x^2 + y^2}$ for a grid of values')"
            ]
          },
          "metadata": {
            "tags": []
          },
          "execution_count": 54
        },
        {
          "output_type": "display_data",
          "data": {
            "image/png": "[encoded data removed]",
            "text/plain": [
              "<Figure size 432x288 with 2 Axes>"
            ]
          },
          "metadata": {
            "tags": []
          }
        }
      ]
    },
    {
      "cell_type": "markdown",
      "metadata": {
        "id": "e3dxwXHqQkTQ",
        "colab_type": "text"
      },
      "source": [
        "#### 4.3.1 배열연산으로 조건절 표현하기\n",
        "- numpy.where는 x if 조건 else y 같은 삼항식의 벡터화 버전"
      ]
    },
    {
      "cell_type": "code",
      "metadata": {
        "id": "waAUPa3tQfag",
        "colab_type": "code",
        "colab": {}
      },
      "source": [
        "xarr = np.array([1.1, 1.2, 1.3, 1.4, 1.5])\n",
        "yarr = np.array([2.1, 2.2, 2.3, 2.4, 2.5])\n",
        "cond = np.array([True, False, True, True, False])"
      ],
      "execution_count": 0,
      "outputs": []
    },
    {
      "cell_type": "code",
      "metadata": {
        "id": "c7h4cmK7RALH",
        "colab_type": "code",
        "colab": {
          "base_uri": "https://localhost:8080/",
          "height": 34
        },
        "outputId": "6f262939-0851-48a3-caec-ddb95f848069"
      },
      "source": [
        "# cond 값이 True면 x 값을, 아니면 yarr 값을 취하는 함수\n",
        "# 순수 파이썬으로 큰 배열처리에 늦으며, 다차원배열에서는 사용 불가\n",
        "result = [(x if c else y)\n",
        "            for x, y, c in zip(xarr, yarr, cond)]\n",
        "result"
      ],
      "execution_count": 57,
      "outputs": [
        {
          "output_type": "execute_result",
          "data": {
            "text/plain": [
              "[1.1, 2.2, 1.3, 1.4, 2.5]"
            ]
          },
          "metadata": {
            "tags": []
          },
          "execution_count": 57
        }
      ]
    },
    {
      "cell_type": "code",
      "metadata": {
        "id": "qz5cEeMERKpx",
        "colab_type": "code",
        "colab": {
          "base_uri": "https://localhost:8080/",
          "height": 34
        },
        "outputId": "74d3bffc-a3c5-4797-8b7e-9d2fe48ecff1"
      },
      "source": [
        "result = np.where(cond, xarr, yarr)\n",
        "result"
      ],
      "execution_count": 59,
      "outputs": [
        {
          "output_type": "execute_result",
          "data": {
            "text/plain": [
              "array([1.1, 2.2, 1.3, 1.4, 2.5])"
            ]
          },
          "metadata": {
            "tags": []
          },
          "execution_count": 59
        }
      ]
    },
    {
      "cell_type": "markdown",
      "metadata": {
        "id": "0XTd2wWwRnkY",
        "colab_type": "text"
      },
      "source": [
        "#### 4.3.2 수학 메서드와 통계 메서드"
      ]
    },
    {
      "cell_type": "code",
      "metadata": {
        "id": "piMcHNGTRgfc",
        "colab_type": "code",
        "colab": {
          "base_uri": "https://localhost:8080/",
          "height": 102
        },
        "outputId": "eb202308-00e1-420e-8e88-68744d4c59fe"
      },
      "source": [
        "arr = np.random.randn(5, 4)\n",
        "arr"
      ],
      "execution_count": 60,
      "outputs": [
        {
          "output_type": "execute_result",
          "data": {
            "text/plain": [
              "array([[-0.23088164,  1.52288715,  0.57581038,  1.22661371],\n",
              "       [-1.02900806,  2.65270894, -0.43508111,  1.79263192],\n",
              "       [ 1.99371145, -1.22463122, -1.37863835,  0.81079654],\n",
              "       [ 0.86274755,  1.65621318,  1.143618  , -1.29572009],\n",
              "       [-0.18419033, -0.12418024,  1.9967183 , -1.89314824]])"
            ]
          },
          "metadata": {
            "tags": []
          },
          "execution_count": 60
        }
      ]
    },
    {
      "cell_type": "code",
      "metadata": {
        "id": "POc8FeXIRv0A",
        "colab_type": "code",
        "colab": {
          "base_uri": "https://localhost:8080/",
          "height": 34
        },
        "outputId": "dd856f53-6ca3-4e79-d5d6-bc24ee149414"
      },
      "source": [
        "arr.mean()"
      ],
      "execution_count": 61,
      "outputs": [
        {
          "output_type": "execute_result",
          "data": {
            "text/plain": [
              "0.42194889209257713"
            ]
          },
          "metadata": {
            "tags": []
          },
          "execution_count": 61
        }
      ]
    },
    {
      "cell_type": "code",
      "metadata": {
        "id": "RK-s_ENWRxex",
        "colab_type": "code",
        "colab": {
          "base_uri": "https://localhost:8080/",
          "height": 34
        },
        "outputId": "744e6a3b-ae68-40c7-8078-324751017d55"
      },
      "source": [
        "np.mean(arr)"
      ],
      "execution_count": 62,
      "outputs": [
        {
          "output_type": "execute_result",
          "data": {
            "text/plain": [
              "0.42194889209257713"
            ]
          },
          "metadata": {
            "tags": []
          },
          "execution_count": 62
        }
      ]
    },
    {
      "cell_type": "code",
      "metadata": {
        "id": "MRwDO-ITR0Mx",
        "colab_type": "code",
        "colab": {
          "base_uri": "https://localhost:8080/",
          "height": 34
        },
        "outputId": "b3a70836-9560-45fc-ed90-e9b57ee03b21"
      },
      "source": [
        "arr.sum()"
      ],
      "execution_count": 63,
      "outputs": [
        {
          "output_type": "execute_result",
          "data": {
            "text/plain": [
              "8.438977841851543"
            ]
          },
          "metadata": {
            "tags": []
          },
          "execution_count": 63
        }
      ]
    },
    {
      "cell_type": "code",
      "metadata": {
        "id": "pNLqpYPRR1oo",
        "colab_type": "code",
        "colab": {
          "base_uri": "https://localhost:8080/",
          "height": 34
        },
        "outputId": "e7e7fe14-3e64-4665-c18e-a8b76c9788b3"
      },
      "source": [
        "arr.mean(axis = 1) # 선택적으로 axis 인자를 받아서, 해당 axis에 대한 통계 계산 후 한 차수 낮은 배열 반환"
      ],
      "execution_count": 66,
      "outputs": [
        {
          "output_type": "execute_result",
          "data": {
            "text/plain": [
              "array([ 0.7736074 ,  0.74531292,  0.05030961,  0.59171466, -0.05120013])"
            ]
          },
          "metadata": {
            "tags": []
          },
          "execution_count": 66
        }
      ]
    },
    {
      "cell_type": "code",
      "metadata": {
        "id": "HioTZ7fgR6oE",
        "colab_type": "code",
        "colab": {
          "base_uri": "https://localhost:8080/",
          "height": 34
        },
        "outputId": "26748716-8be6-4ce5-b14c-aad82d629e9a"
      },
      "source": [
        "arr.sum(axis = 0) #0은 기본 값"
      ],
      "execution_count": 65,
      "outputs": [
        {
          "output_type": "execute_result",
          "data": {
            "text/plain": [
              "array([1.41237898, 4.48299781, 1.90242722, 0.64117383])"
            ]
          },
          "metadata": {
            "tags": []
          },
          "execution_count": 65
        }
      ]
    },
    {
      "cell_type": "markdown",
      "metadata": {
        "id": "M63OC5IVST-7",
        "colab_type": "text"
      },
      "source": [
        "#### 4.3.3 불리언 배열을 위한 메서드\n",
        "- 불리언 값을 1(True) or 0(False)로 강제할 수 있다."
      ]
    },
    {
      "cell_type": "code",
      "metadata": {
        "id": "g0QgvA0-R9gc",
        "colab_type": "code",
        "colab": {
          "base_uri": "https://localhost:8080/",
          "height": 34
        },
        "outputId": "bafee120-4cef-4b44-d85a-5ef01f292403"
      },
      "source": [
        "arr = np.random.randn(100)\n",
        "(arr > 0).sum()"
      ],
      "execution_count": 67,
      "outputs": [
        {
          "output_type": "execute_result",
          "data": {
            "text/plain": [
              "49"
            ]
          },
          "metadata": {
            "tags": []
          },
          "execution_count": 67
        }
      ]
    },
    {
      "cell_type": "code",
      "metadata": {
        "id": "FG5rKv65SjAn",
        "colab_type": "code",
        "colab": {}
      },
      "source": [
        ""
      ],
      "execution_count": 0,
      "outputs": []
    }
  ]
}