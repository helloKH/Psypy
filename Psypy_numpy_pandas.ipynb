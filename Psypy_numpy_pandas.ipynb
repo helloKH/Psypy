{
  "nbformat": 4,
  "nbformat_minor": 0,
  "metadata": {
    "colab": {
      "name": "Untitled0.ipynb",
      "provenance": [],
      "include_colab_link": true
    },
    "kernelspec": {
      "name": "python3",
      "display_name": "Python 3"
    }
  },
  "cells": [
    {
      "cell_type": "markdown",
      "metadata": {
        "id": "view-in-github",
        "colab_type": "text"
      },
      "source": [
        "<a href=\"https://colab.research.google.com/github/helloKH/python_study/blob/master/Psypy_numpy_pandas.ipynb\" target=\"_parent\"><img src=\"https://colab.research.google.com/assets/colab-badge.svg\" alt=\"Open In Colab\"/></a>"
      ]
    },
    {
      "cell_type": "markdown",
      "metadata": {
        "id": "Gan3-pQfJDym",
        "colab_type": "text"
      },
      "source": [
        "### Psypy 4회차 \n",
        "- numpy & Pandas 실습자료\n",
        "- 실습교재: Python for data analysis 2nd.\n",
        "- Chapter 4 ~ 5"
      ]
    },
    {
      "cell_type": "markdown",
      "metadata": {
        "id": "rc5Y-XD0QYT9",
        "colab_type": "text"
      },
      "source": [
        "#### Numpy에서 제공하는 것들\n",
        "- 효율적인 다차원 배열인 ndarray는 빠른 배열 계산과 유연한 **브로드캐스팅** 기능을 제공\n",
        "- 반복문을 작성할 필요 없이 전체 데이터배열을 빠르게 계산할 수 있는 표준 수학함수\n",
        "- 배열데이터를 디스크에 쓰거나 읽을 수 있는 도구와 메모리에 적재된 파일을 다루는 도구\n",
        "- 선형대수, 난수 생성기, 푸리에 변환 기능\n",
        "- C, C++, 포드란으로 작성한 코드를 연결할 수 있는 C API"
      ]
    },
    {
      "cell_type": "code",
      "metadata": {
        "id": "HPnu6sv4P5TJ",
        "colab_type": "code",
        "colab": {}
      },
      "source": [
        ""
      ],
      "execution_count": 0,
      "outputs": []
    }
  ]
}